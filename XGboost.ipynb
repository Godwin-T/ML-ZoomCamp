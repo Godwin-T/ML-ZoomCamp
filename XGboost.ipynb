{
 "cells": [
  {
   "cell_type": "code",
   "execution_count": 1,
   "metadata": {},
   "outputs": [],
   "source": [
    "import wget\n",
    "import pandas as pd\n",
    "import numpy as np\n",
    "import matplotlib.pyplot as plt\n",
    "import seaborn as sns\n",
    "import xgboost as xgb\n",
    "from sklearn.model_selection import train_test_split\n",
    "from sklearn.feature_extraction import DictVectorizer\n",
    "from sklearn.metrics import roc_auc_score\n",
    "import warnings\n",
    "warnings.filterwarnings('ignore')"
   ]
  },
  {
   "cell_type": "code",
   "execution_count": 2,
   "metadata": {},
   "outputs": [],
   "source": [
    "df = pd.read_csv('transformed_data.csv', index_col='Unnamed: 0')\n",
    "\n",
    "cat_col = ['home','marital','records', 'job']\n",
    "num_col = ['seniority', 'time', 'age', 'expenses', \n",
    "            'income', 'assets', 'debt', 'amount', 'price']\n",
    "\n",
    "cols = ['seniority', 'home', 'time', 'age', 'marital', 'records', 'job',\n",
    "        'expenses', 'income', 'assets', 'debt', 'amount', 'price']"
   ]
  },
  {
   "cell_type": "code",
   "execution_count": 3,
   "metadata": {},
   "outputs": [],
   "source": [
    "full_train_df, full_test_df = train_test_split(df, test_size =0.2, random_state=11)\n",
    "full_train_df, full_val_df = train_test_split(full_train_df, test_size = 0.25, random_state=11)\n",
    "\n",
    "train_df = full_train_df.reset_index(drop = True)\n",
    "test_df = full_test_df.reset_index(drop = True)\n",
    "val_df = full_val_df.reset_index(drop = True)\n",
    "\n",
    "y_train = (train_df['status'] == 'default').astype('int')\n",
    "y_test = (test_df['status'] == 'default').astype('int')\n",
    "y_val = (val_df['status'] == 'default').astype('int')\n",
    "\n",
    "dv = DictVectorizer(sparse = False)\n",
    "dv.fit(train_df[cols].to_dict(orient = 'records'))\n",
    "feature_names = dv.get_feature_names()\n",
    "\n",
    "X_train = dv.transform(train_df[cols].to_dict(orient = 'records'))\n",
    "X_test = dv.transform(test_df[cols].to_dict(orient = 'records'))\n",
    "X_val = dv.transform(val_df[cols].to_dict(orient = 'records'))\n",
    "\n",
    "\n",
    "del train_df['status']\n",
    "del test_df['status']\n",
    "del val_df['status']"
   ]
  },
  {
   "cell_type": "code",
   "execution_count": 75,
   "metadata": {},
   "outputs": [
    {
     "data": {
      "text/plain": [
       "{'seniority': 2,\n",
       " 'home': 'owner',\n",
       " 'time': 36,\n",
       " 'age': 37,\n",
       " 'marital': 'married',\n",
       " 'records': 'no_rec',\n",
       " 'job': 1,\n",
       " 'expenses': 60,\n",
       " 'income': 125.0,\n",
       " 'assets': 2000.0,\n",
       " 'debt': 0.0,\n",
       " 'amount': 450,\n",
       " 'price': 1490}"
      ]
     },
     "execution_count": 75,
     "metadata": {},
     "output_type": "execute_result"
    }
   ],
   "source": [
    "data = test_df.iloc[0].to_dict()\n",
    "data"
   ]
  },
  {
   "cell_type": "code",
   "execution_count": 76,
   "metadata": {},
   "outputs": [],
   "source": [
    "dtrain = xgb.DMatrix(X_train, label = y_train)\n",
    "dtest = xgb.DMatrix(X_test, label = y_test)\n",
    "dval = xgb.DMatrix(X_val, label = y_val)"
   ]
  },
  {
   "cell_type": "code",
   "execution_count": 77,
   "metadata": {},
   "outputs": [
    {
     "name": "stdout",
     "output_type": "stream",
     "text": [
      "0.8073214749255244\n"
     ]
    }
   ],
   "source": [
    "x_params = {\n",
    "    'eta': 0.3,\n",
    "    'max_depth':6,\n",
    "    'min_child_weight':1,\n",
    "\n",
    "    'objective':'binary:logistic',\n",
    "    'n_threads':5,\n",
    "\n",
    "    'seed':1,\n",
    "    'verbosity':0\n",
    "}\n",
    "\n",
    "model = xgb.train(x_params, dtrain = dtrain,num_boost_round = 200)\n",
    "\n",
    "pred = model.predict(dval)\n",
    "auc = roc_auc_score(y_val,pred)\n",
    "print(auc)"
   ]
  },
  {
   "cell_type": "code",
   "execution_count": 78,
   "metadata": {},
   "outputs": [
    {
     "data": {
      "text/plain": [
       "0.8205972879763657"
      ]
     },
     "execution_count": 78,
     "metadata": {},
     "output_type": "execute_result"
    }
   ],
   "source": [
    "x_params = {\n",
    "    'eta': 0.3,\n",
    "    'max_depth':6,\n",
    "    'min_child_weight':1,\n",
    "\n",
    "    'objective':'binary:logistic',\n",
    "    'n_threads':5,\n",
    "\n",
    "    'seed':1,\n",
    "    'verbosity':0\n",
    "}\n",
    "\n",
    "model = xgb.train(x_params, dtrain = dtrain,num_boost_round = 40)\n",
    "\n",
    "pred = model.predict(dval)\n",
    "roc_auc_score(y_val,pred)"
   ]
  },
  {
   "cell_type": "code",
   "execution_count": 79,
   "metadata": {},
   "outputs": [
    {
     "data": {
      "text/html": [
       "<div>\n",
       "<style scoped>\n",
       "    .dataframe tbody tr th:only-of-type {\n",
       "        vertical-align: middle;\n",
       "    }\n",
       "\n",
       "    .dataframe tbody tr th {\n",
       "        vertical-align: top;\n",
       "    }\n",
       "\n",
       "    .dataframe thead th {\n",
       "        text-align: right;\n",
       "    }\n",
       "</style>\n",
       "<table border=\"1\" class=\"dataframe\">\n",
       "  <thead>\n",
       "    <tr style=\"text-align: right;\">\n",
       "      <th></th>\n",
       "      <th>boost_round</th>\n",
       "      <th>auc_score</th>\n",
       "    </tr>\n",
       "  </thead>\n",
       "  <tbody>\n",
       "    <tr>\n",
       "      <th>0</th>\n",
       "      <td>30</td>\n",
       "      <td>0.821858</td>\n",
       "    </tr>\n",
       "    <tr>\n",
       "      <th>1</th>\n",
       "      <td>40</td>\n",
       "      <td>0.820597</td>\n",
       "    </tr>\n",
       "    <tr>\n",
       "      <th>2</th>\n",
       "      <td>50</td>\n",
       "      <td>0.820511</td>\n",
       "    </tr>\n",
       "    <tr>\n",
       "      <th>3</th>\n",
       "      <td>20</td>\n",
       "      <td>0.818879</td>\n",
       "    </tr>\n",
       "    <tr>\n",
       "      <th>4</th>\n",
       "      <td>10</td>\n",
       "      <td>0.817229</td>\n",
       "    </tr>\n",
       "    <tr>\n",
       "      <th>5</th>\n",
       "      <td>60</td>\n",
       "      <td>0.815770</td>\n",
       "    </tr>\n",
       "    <tr>\n",
       "      <th>6</th>\n",
       "      <td>80</td>\n",
       "      <td>0.814868</td>\n",
       "    </tr>\n",
       "    <tr>\n",
       "      <th>7</th>\n",
       "      <td>70</td>\n",
       "      <td>0.814503</td>\n",
       "    </tr>\n",
       "    <tr>\n",
       "      <th>8</th>\n",
       "      <td>90</td>\n",
       "      <td>0.812717</td>\n",
       "    </tr>\n",
       "    <tr>\n",
       "      <th>9</th>\n",
       "      <td>100</td>\n",
       "      <td>0.812383</td>\n",
       "    </tr>\n",
       "  </tbody>\n",
       "</table>\n",
       "</div>"
      ],
      "text/plain": [
       "   boost_round  auc_score\n",
       "0           30   0.821858\n",
       "1           40   0.820597\n",
       "2           50   0.820511\n",
       "3           20   0.818879\n",
       "4           10   0.817229\n",
       "5           60   0.815770\n",
       "6           80   0.814868\n",
       "7           70   0.814503\n",
       "8           90   0.812717\n",
       "9          100   0.812383"
      ]
     },
     "execution_count": 79,
     "metadata": {},
     "output_type": "execute_result"
    }
   ],
   "source": [
    "scores = []\n",
    "for i in range(10,200,10):\n",
    "    model = xgb.train(x_params, dtrain = dtrain,num_boost_round = i)\n",
    "    \n",
    "    pred = model.predict(dval)\n",
    "    auc = roc_auc_score(y_val,pred)\n",
    "\n",
    "    scores.append([i,auc])\n",
    "\n",
    "output = pd.DataFrame(scores, columns = ['boost_round', 'auc_score'])\n",
    "output = output.sort_values('auc_score', ascending= False).reset_index(drop= True)\n",
    "output.head(10)"
   ]
  },
  {
   "cell_type": "code",
   "execution_count": 80,
   "metadata": {},
   "outputs": [
    {
     "name": "stdout",
     "output_type": "stream",
     "text": [
      "[0]\ttrain-logloss:0.57040\tvalidation-logloss:0.59886\n",
      "[5]\ttrain-logloss:0.36070\tvalidation-logloss:0.47546\n",
      "[10]\ttrain-logloss:0.30232\tvalidation-logloss:0.45700\n",
      "[15]\ttrain-logloss:0.26160\tvalidation-logloss:0.45691\n",
      "[20]\ttrain-logloss:0.23399\tvalidation-logloss:0.45770\n",
      "[25]\ttrain-logloss:0.21082\tvalidation-logloss:0.46250\n",
      "[30]\ttrain-logloss:0.19708\tvalidation-logloss:0.46478\n",
      "[35]\ttrain-logloss:0.18403\tvalidation-logloss:0.47455\n",
      "[39]\ttrain-logloss:0.16999\tvalidation-logloss:0.47323\n"
     ]
    }
   ],
   "source": [
    "watchlist = [(dtrain,'train'), (dval, 'validation')]\n",
    "\n",
    "x_params = {\n",
    "    'eta': 0.3,\n",
    "    'max_depth':6,\n",
    "    'min_child_weight':1,\n",
    "\n",
    "    'objective':'binary:logistic',\n",
    "    'n_threads':5,\n",
    "\n",
    "    'seed':1,\n",
    "    'verbosity':0\n",
    "}\n",
    "\n",
    "model = xgb.train(x_params, dtrain = dtrain,evals = watchlist, verbose_eval = 5,num_boost_round = 40)"
   ]
  },
  {
   "cell_type": "code",
   "execution_count": 81,
   "metadata": {},
   "outputs": [],
   "source": [
    "%%capture table\n",
    "watchlist = [(dtrain,'train'), (dval, 'validation')]\n",
    "\n",
    "x_params = {\n",
    "    'eta': 0.3,\n",
    "    'max_depth':6,\n",
    "    'min_child_weight':1,\n",
    "\n",
    "    'objective':'binary:logistic',\n",
    "    'eval_metric' : 'auc',\n",
    "    \n",
    "    'n_threads':8,\n",
    "    'seed':1,\n",
    "    'verbosity':0\n",
    "}\n",
    "\n",
    "model = xgb.train(x_params, dtrain = dtrain,evals = watchlist, verbose_eval = 5,num_boost_round = 200)"
   ]
  },
  {
   "cell_type": "code",
   "execution_count": 82,
   "metadata": {},
   "outputs": [
    {
     "data": {
      "text/plain": [
       "[<matplotlib.lines.Line2D at 0x23f793c26a0>]"
      ]
     },
     "execution_count": 82,
     "metadata": {},
     "output_type": "execute_result"
    },
    {
     "data": {
      "image/png": "[encoded data removed]",
      "text/plain": [
       "<Figure size 640x480 with 1 Axes>"
      ]
     },
     "metadata": {},
     "output_type": "display_data"
    }
   ],
   "source": [
    "def parse_xgb_output():\n",
    "\n",
    "    no_itrs = []\n",
    "    train_score = []\n",
    "    val_score = []\n",
    "\n",
    "    for i in table.stdout.strip().split('\\n'):\n",
    "\n",
    "        no_itr, train_auc, val_auc = i.split('\\t')\n",
    "\n",
    "        no_itr = int(no_itr.strip('[]'))\n",
    "        train_auc = float(train_auc.split(':')[1])\n",
    "        val_auc = float(val_auc.split(':')[1])\n",
    "\n",
    "        no_itrs.append(no_itr)\n",
    "        train_score.append(train_auc)\n",
    "        val_score.append(val_auc)\n",
    "\n",
    "    dicts = {'iter':no_itrs, 'train_score':train_score, 'val_score':val_score}\n",
    "    output = pd.DataFrame(dicts)\n",
    "    return output\n",
    "\n",
    "output = parse_xgb_output()\n",
    "    \n",
    "plt.plot(output.iter, output.val_score)"
   ]
  },
  {
   "cell_type": "code",
   "execution_count": 83,
   "metadata": {},
   "outputs": [
    {
     "data": {
      "text/plain": [
       "[<matplotlib.lines.Line2D at 0x23f7948dac0>]"
      ]
     },
     "execution_count": 83,
     "metadata": {},
     "output_type": "execute_result"
    },
    {
     "data": {
      "image/png": "[encoded data removed]",
      "text/plain": [
       "<Figure size 640x480 with 1 Axes>"
      ]
     },
     "metadata": {},
     "output_type": "display_data"
    }
   ],
   "source": [
    "plt.plot(output.iter, output.val_score)\n",
    "plt.plot(output.iter, output.train_score)"
   ]
  },
  {
   "cell_type": "code",
   "execution_count": 84,
   "metadata": {},
   "outputs": [],
   "source": [
    "scores = {}"
   ]
  },
  {
   "cell_type": "code",
   "execution_count": 85,
   "metadata": {},
   "outputs": [],
   "source": [
    "%%capture table\n",
    "watchlist = [(dtrain,'train'), (dval, 'validation')]\n",
    "\n",
    "\n",
    "x_params = {\n",
    "    'eta': 0.9,\n",
    "    'max_depth':6,\n",
    "    'min_child_weight':1,\n",
    "\n",
    "    'objective':'binary:logistic',\n",
    "    'eval_metric' : 'auc',\n",
    "    \n",
    "    'n_threads':8,\n",
    "    'seed':1,\n",
    "    'verbosity':0\n",
    "}\n",
    "\n",
    "model = xgb.train(x_params, dtrain = dtrain,evals = watchlist, verbose_eval = 5,num_boost_round = 200)"
   ]
  },
  {
   "cell_type": "code",
   "execution_count": 86,
   "metadata": {},
   "outputs": [],
   "source": [
    "key = 'eta = %s' %(x_params['eta'])\n",
    "scores[key] = parse_xgb_output()"
   ]
  },
  {
   "cell_type": "code",
   "execution_count": 87,
   "metadata": {},
   "outputs": [
    {
     "data": {
      "text/plain": [
       "dict_keys(['eta = 0.9'])"
      ]
     },
     "execution_count": 87,
     "metadata": {},
     "output_type": "execute_result"
    }
   ],
   "source": [
    "scores.keys()"
   ]
  },
  {
   "cell_type": "code",
   "execution_count": 88,
   "metadata": {},
   "outputs": [
    {
     "data": {
      "text/plain": [
       "<matplotlib.legend.Legend at 0x23f73d339d0>"
      ]
     },
     "execution_count": 88,
     "metadata": {},
     "output_type": "execute_result"
    },
    {
     "data": {
      "image/png": "[encoded data removed]",
      "text/plain": [
       "<Figure size 640x480 with 1 Axes>"
      ]
     },
     "metadata": {},
     "output_type": "display_data"
    }
   ],
   "source": [
    "for key, value in scores.items():\n",
    "    plt.plot(value.iter, value.val_score, label = key)\n",
    "\n",
    "plt.legend()"
   ]
  },
  {
   "cell_type": "code",
   "execution_count": 89,
   "metadata": {},
   "outputs": [],
   "source": [
    "scores = {}"
   ]
  },
  {
   "cell_type": "code",
   "execution_count": 90,
   "metadata": {},
   "outputs": [],
   "source": [
    "%%capture table\n",
    "watchlist = [(dtrain,'train'), (dval, 'validation')]\n",
    "\n",
    "\n",
    "x_params = {\n",
    "    'eta': 0.1,\n",
    "    'max_depth':9,\n",
    "    'min_child_weight':1,\n",
    "\n",
    "    'objective':'binary:logistic',\n",
    "    'eval_metric' : 'auc',\n",
    "    \n",
    "    'n_threads':8,\n",
    "    'seed':1,\n",
    "    'verbosity':0\n",
    "}\n",
    "\n",
    "model = xgb.train(x_params, dtrain = dtrain,evals = watchlist, verbose_eval = 5,num_boost_round = 200)"
   ]
  },
  {
   "cell_type": "code",
   "execution_count": 91,
   "metadata": {},
   "outputs": [],
   "source": [
    "key = 'depth = %s' %(x_params['max_depth'])\n",
    "scores[key] = parse_xgb_output()"
   ]
  },
  {
   "cell_type": "code",
   "execution_count": 92,
   "metadata": {},
   "outputs": [
    {
     "data": {
      "text/plain": [
       "<matplotlib.legend.Legend at 0x23f7a099070>"
      ]
     },
     "execution_count": 92,
     "metadata": {},
     "output_type": "execute_result"
    },
    {
     "data": {
      "image/png": "[encoded data removed]",
      "text/plain": [
       "<Figure size 640x480 with 1 Axes>"
      ]
     },
     "metadata": {},
     "output_type": "display_data"
    }
   ],
   "source": [
    "for key, value in scores.items():\n",
    "    plt.plot(value.iter, value.val_score, label = key)\n",
    "\n",
    "plt.ylim(0.8, 0.84)\n",
    "plt.legend()"
   ]
  },
  {
   "cell_type": "code",
   "execution_count": 93,
   "metadata": {},
   "outputs": [],
   "source": [
    "scores = {}"
   ]
  },
  {
   "cell_type": "code",
   "execution_count": 94,
   "metadata": {},
   "outputs": [],
   "source": [
    "%%capture table\n",
    "watchlist = [(dtrain,'train'), (dval, 'validation')]\n",
    "\n",
    "\n",
    "x_params = {\n",
    "    'eta': 0.1,\n",
    "    'max_depth':3,\n",
    "    'min_child_weight':30,\n",
    "\n",
    "    'objective':'binary:logistic',\n",
    "    'eval_metric' : 'auc',\n",
    "    \n",
    "    'n_threads':8,\n",
    "    'seed':1,\n",
    "    'verbosity':0\n",
    "}\n",
    "\n",
    "model = xgb.train(x_params, dtrain = dtrain,evals = watchlist, verbose_eval = 5,num_boost_round = 200)"
   ]
  },
  {
   "cell_type": "code",
   "execution_count": 95,
   "metadata": {},
   "outputs": [],
   "source": [
    "key = 'weight = %s' %(x_params['min_child_weight'])\n",
    "scores[key] = parse_xgb_output()"
   ]
  },
  {
   "cell_type": "code",
   "execution_count": 96,
   "metadata": {},
   "outputs": [
    {
     "data": {
      "text/plain": [
       "<matplotlib.legend.Legend at 0x23f7b276730>"
      ]
     },
     "execution_count": 96,
     "metadata": {},
     "output_type": "execute_result"
    },
    {
     "data": {
      "image/png": "[encoded data removed]",
      "text/plain": [
       "<Figure size 640x480 with 1 Axes>"
      ]
     },
     "metadata": {},
     "output_type": "display_data"
    }
   ],
   "source": [
    "for key, value in scores.items():\n",
    "    plt.plot(value.iter, value.val_score, label = key)\n",
    "\n",
    "plt.ylim(0.81, 0.86)\n",
    "plt.legend()"
   ]
  },
  {
   "cell_type": "code",
   "execution_count": 5,
   "metadata": {},
   "outputs": [],
   "source": [
    "x_params = {\n",
    "    'eta': 0.1,\n",
    "    'max_depth':3,\n",
    "    'min_child_weight':30,\n",
    "\n",
    "    'objective':'binary:logistic',\n",
    "    'eval_metric' : 'auc',\n",
    "    \n",
    "    'n_threads':8,\n",
    "    'seed':1,\n",
    "    'verbosity':0\n",
    "}\n",
    "\n",
    "model = xgb.train(x_params, dtrain = dtrain,num_boost_round = 125)"
   ]
  },
  {
   "cell_type": "code",
   "execution_count": 6,
   "metadata": {},
   "outputs": [
    {
     "ename": "NameError",
     "evalue": "name 'dval' is not defined",
     "output_type": "error",
     "traceback": [
      "\u001b[1;31m---------------------------------------------------------------------------\u001b[0m",
      "\u001b[1;31mNameError\u001b[0m                                 Traceback (most recent call last)",
      "\u001b[1;32mc:\\Users\\Godwin\\Documents\\Workflow\\MLZoomcamp\\Bentoml\\XGboost.ipynb Cell 27\u001b[0m in \u001b[0;36m<cell line: 1>\u001b[1;34m()\u001b[0m\n\u001b[1;32m----> <a href='vscode-notebook-cell:/c%3A/Users/Godwin/Documents/Workflow/MLZoomcamp/Bentoml/XGboost.ipynb#X36sZmlsZQ%3D%3D?line=0'>1</a>\u001b[0m pred \u001b[39m=\u001b[39m model\u001b[39m.\u001b[39mpredict(dval)\n\u001b[0;32m      <a href='vscode-notebook-cell:/c%3A/Users/Godwin/Documents/Workflow/MLZoomcamp/Bentoml/XGboost.ipynb#X36sZmlsZQ%3D%3D?line=1'>2</a>\u001b[0m auc \u001b[39m=\u001b[39m roc_auc_score(y_val,pred)\n\u001b[0;32m      <a href='vscode-notebook-cell:/c%3A/Users/Godwin/Documents/Workflow/MLZoomcamp/Bentoml/XGboost.ipynb#X36sZmlsZQ%3D%3D?line=2'>3</a>\u001b[0m \u001b[39mprint\u001b[39m(auc)\n",
      "\u001b[1;31mNameError\u001b[0m: name 'dval' is not defined"
     ]
    }
   ],
   "source": [
    "pred = model.predict(dval)\n",
    "auc = roc_auc_score(y_val,pred)\n",
    "print(auc)"
   ]
  },
  {
   "cell_type": "code",
   "execution_count": 7,
   "metadata": {},
   "outputs": [
    {
     "data": {
      "text/plain": [
       "0.8426050992720449"
      ]
     },
     "execution_count": 7,
     "metadata": {},
     "output_type": "execute_result"
    }
   ],
   "source": [
    "full_data = pd.concat([full_train_df, full_val_df])\n",
    "full_data = full_data.reset_index(drop = True)\n",
    "\n",
    "full_y_train = (full_data['status'] == 'default').astype('int')\n",
    "full_x_train = dv.transform(full_data[cat_col + num_col].to_dict(orient = 'records'))\n",
    "\n",
    "dtrain = xgb.DMatrix(full_x_train, label = full_y_train)\n",
    "test =  xgb.DMatrix(X_test)\n",
    "\n",
    "model = xgb.train(x_params, dtrain = dtrain,num_boost_round = 125)\n",
    "prediction = model.predict(test)\n",
    "auc = roc_auc_score(y_test, prediction)\n",
    "auc"
   ]
  },
  {
   "cell_type": "code",
   "execution_count": 8,
   "metadata": {},
   "outputs": [
    {
     "data": {
      "text/plain": [
       "Model(tag=\"credict_risk:ekvvbesogogeacar\", path=\"C:\\Users\\Godwin\\bentoml\\models\\credict_risk\\ekvvbesogogeacar\\\")"
      ]
     },
     "execution_count": 8,
     "metadata": {},
     "output_type": "execute_result"
    }
   ],
   "source": [
    "import bentoml\n",
    "bentoml.xgboost.save_model('credict_risk', model, custom_objects={'dictvectorizer':dv})"
   ]
  },
  {
   "cell_type": "code",
   "execution_count": 68,
   "metadata": {},
   "outputs": [
    {
     "data": {
      "text/plain": [
       "array([[3.70e+01, 4.50e+02, 2.00e+03, 0.00e+00, 6.00e+01, 0.00e+00,\n",
       "        0.00e+00, 1.00e+00, 0.00e+00, 0.00e+00, 0.00e+00, 0.00e+00,\n",
       "        1.25e+02, 1.00e+00, 0.00e+00, 1.00e+00, 0.00e+00, 0.00e+00,\n",
       "        0.00e+00, 0.00e+00, 1.49e+03, 1.00e+00, 0.00e+00, 2.00e+00,\n",
       "        3.60e+01]])"
      ]
     },
     "execution_count": 68,
     "metadata": {},
     "output_type": "execute_result"
    }
   ],
   "source": [
    "dv.transform(data).round()"
   ]
  },
  {
   "cell_type": "code",
   "execution_count": null,
   "metadata": {},
   "outputs": [],
   "source": []
  }
 ],
 "metadata": {
  "kernelspec": {
   "display_name": "Python 3.9.13 ('Tensorflow')",
   "language": "python",
   "name": "python3"
  },
  "language_info": {
   "codemirror_mode": {
    "name": "ipython",
    "version": 3
   },
   "file_extension": ".py",
   "mimetype": "text/x-python",
   "name": "python",
   "nbconvert_exporter": "python",
   "pygments_lexer": "ipython3",
   "version": "3.9.13"
  },
  "orig_nbformat": 4,
  "vscode": {
   "interpreter": {
    "hash": "a2031be23302a6f80daad80b84b83a86f535e1c11907b65b4c4b25f3c409004f"
   }
  }
 },
 "nbformat": 4,
 "nbformat_minor": 2
}
