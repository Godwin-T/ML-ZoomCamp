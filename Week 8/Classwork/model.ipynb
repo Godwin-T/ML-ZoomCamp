{
 "cells": [
  {
   "cell_type": "markdown",
   "metadata": {},
   "source": [
    "Importing Liabries"
   ]
  },
  {
   "cell_type": "code",
   "execution_count": null,
   "metadata": {},
   "outputs": [],
   "source": [
    "import numpy as np\n",
    "import matplotlib.pyplot as plt\n",
    "import tensorflow as tf\n",
    "import keras\n",
    "from tensorflow.keras.preprocessing.image import load_img, ImageDataGenerator\n",
    "import warnings\n",
    "warnings.filterwarnings('ignore')\n",
    "\n",
    "from tensorflow.keras.applications.xception import Xception\n",
    "from tensorflow.keras.applications.xception import preprocess_input, decode_predictions"
   ]
  },
  {
   "cell_type": "code",
   "execution_count": null,
   "metadata": {},
   "outputs": [],
   "source": [
    "path = \"C:/Users/Godwin/Documents/Workflow/MLZoomcamp/clothing-dataset-small/train/dress/\"\n",
    "name = '0d3cf39f-78f1-440e-9504-f510e75aff0b.jpg'\n",
    "img_path = path + name\n",
    "img = load_img(img_path, target_size = (299,299,3))\n",
    "img"
   ]
  },
  {
   "cell_type": "markdown",
   "metadata": {},
   "source": [
    "Using Xception Model"
   ]
  },
  {
   "cell_type": "code",
   "execution_count": null,
   "metadata": {},
   "outputs": [],
   "source": [
    "#preprocessing input\n",
    "x = np.array(img) #turning image to arr\n",
    "x = np.array([x]) #making the array 4-dimensional\n",
    "x = preprocess_input(x)\n",
    "\n",
    "model = Xception(weights = 'imagenet', input_shape = (299,299,3)) #loading the model\n",
    "pred = model.predict(x) \n",
    "decode_predictions(pred)"
   ]
  },
  {
   "cell_type": "markdown",
   "metadata": {},
   "source": [
    "Loading Data"
   ]
  },
  {
   "cell_type": "code",
   "execution_count": null,
   "metadata": {},
   "outputs": [],
   "source": [
    "train_gen = ImageDataGenerator(preprocessing_function=preprocess_input)\n",
    "train_data = train_gen.flow_from_directory('C:/Users/Godwin/Documents/Workflow/MLZoomcamp/clothing-dataset-small/train/', target_size= (299,299), batch_size = 32)\n",
    "\n",
    "val_gen = ImageDataGenerator(preprocessing_function=preprocess_input)\n",
    "val_data = val_gen.flow_from_directory('C:/Users/Godwin/Documents/Workflow/MLZoomcamp/clothing-dataset-small/validation/', target_size= (299,299), batch_size = 32, shuffle = False)\n",
    "\n",
    "test_gen = ImageDataGenerator(preprocessing_function=preprocess_input)\n",
    "test_data = test_gen.flow_from_directory('C:/Users/Godwin/Documents/Workflow/MLZoomcamp/clothing-dataset-small/test/', target_size= (299,299), batch_size = 32, shuffle = False)"
   ]
  },
  {
   "cell_type": "markdown",
   "metadata": {},
   "source": [
    "Defining new model"
   ]
  },
  {
   "cell_type": "code",
   "execution_count": null,
   "metadata": {},
   "outputs": [],
   "source": [
    "#Transfer learning\n",
    "def make_model(learning_rate = 0.001):\n",
    "\n",
    "    base_model = Xception(weights='imagenet', include_top=False, \n",
    "                      input_shape=(299,299,3))\n",
    "\n",
    "    base_model.trainable = False\n",
    "    input = keras.Input(shape = (299,299,3))\n",
    "    base = base_model(input, training = False)\n",
    "    pooling = keras.layers.pooling.GlobalAveragePooling2D()(base)\n",
    "    output = keras.layers.Dense(10)(pooling)\n",
    "\n",
    "    model = keras.Model(input, output)\n",
    "\n",
    "    lr = learning_rate\n",
    "    optimizer = keras.optimizers.Adam(learning_rate=lr)\n",
    "    loss = keras.losses.CategoricalCrossentropy(from_logits=True)\n",
    "\n",
    "    model.compile(optimizer = optimizer, loss = loss, metrics = ['accuracy'])\n",
    "\n",
    "    return model\n",
    "\n",
    "# Checking pointing\n",
    "checkpoint = keras.callbacks.ModelCheckpoint(\n",
    "                            'xception_v1_{epoch:02d}_{val_accuracy:.3f}.h5',\n",
    "                              save_best_only = True,\n",
    "                              monitor = 'val_accuracy',\n",
    "                              mode = 'max')\n"
   ]
  },
  {
   "cell_type": "markdown",
   "metadata": {},
   "source": [
    "Training the model"
   ]
  },
  {
   "cell_type": "code",
   "execution_count": null,
   "metadata": {},
   "outputs": [],
   "source": [
    "learning_rate = 0.001\n",
    "model = make_model(learning_rate = learning_rate)\n",
    "history = model.fit(train_data, epochs=10, validation_data = val_data, callbacks=[checkpoint])"
   ]
  },
  {
   "cell_type": "markdown",
   "metadata": {},
   "source": [
    "Visualizing Result"
   ]
  },
  {
   "cell_type": "code",
   "execution_count": null,
   "metadata": {},
   "outputs": [],
   "source": [
    "plt.plot(history.history['accuracy'], label = 'Train')\n",
    "plt.plot(history.history['val_accuracy'], label = 'Validation')\n",
    "\n",
    "plt.xticks(np.arange(10))\n",
    "plt.legend()"
   ]
  },
  {
   "cell_type": "markdown",
   "metadata": {},
   "source": [
    "Hyperparameter Tuning"
   ]
  },
  {
   "cell_type": "code",
   "execution_count": null,
   "metadata": {},
   "outputs": [],
   "source": [
    "scores = {}\n",
    "\n",
    "for i in [0.0001, 0.001, 0.01,0.1]:\n",
    "    model,hist = make_model(learing_rate = i)\n",
    "    scores[i] = hist.history\n",
    "    print()"
   ]
  },
  {
   "cell_type": "code",
   "execution_count": null,
   "metadata": {},
   "outputs": [],
   "source": [
    "for lr, hist in scores.items():\n",
    "    plt.plot(hist['val_accuracy'], label = ('validation=%S', lr))\n",
    "    plt.plot(hist['accuracy'], label = ('train=%S', lr))\n",
    "\n",
    "    plt.legend()"
   ]
  },
  {
   "cell_type": "code",
   "execution_count": null,
   "metadata": {},
   "outputs": [],
   "source": [
    "del scores[0.01]\n",
    "del scores[0.0001]"
   ]
  },
  {
   "cell_type": "code",
   "execution_count": null,
   "metadata": {},
   "outputs": [],
   "source": [
    "for lr, hist in scores.items():\n",
    "    plt.plot(hist['val_accuracy'], label = ('validation=%S', lr))\n",
    "    plt.plot(hist['accuracy'], label = ('train=%S', lr))\n",
    "\n",
    "    plt.legend()"
   ]
  },
  {
   "cell_type": "markdown",
   "metadata": {},
   "source": [
    "Adding More Layers and dropout"
   ]
  },
  {
   "cell_type": "code",
   "execution_count": null,
   "metadata": {},
   "outputs": [],
   "source": [
    "def make_model(learning_rate = 0.001, dense_lyr_size = 100, dropout_size = 0):\n",
    "\n",
    "\n",
    "    base_model = Xception(weights='imagenet', include_top=False, \n",
    "                      input_shape=(299,299,3))\n",
    "    base_model.trainable = False\n",
    "\n",
    "    input = keras.Input(shape = (299,299,3))\n",
    "    base = base_model(input, training = False)\n",
    "    pooling = keras.layers.pooling.GlobalAveragePooling2D()(base)\n",
    "    inner = keras.layers.Dense(dense_lyr_size, activation = 'relu')(pooling)\n",
    "    regularization = keras.layers.Dropout(dropout_size)\n",
    "    output = keras.layers.Dense(10)(inner)\n",
    "    model = keras.Model(input, output)\n",
    "\n",
    "    lr = learning_rate\n",
    "    optimizer = keras.optimizers.Adam(learning_rate=lr)\n",
    "    loss = keras.losses.CategoricalCrossentropy(from_logits=True)\n",
    "\n",
    "    model.compile(optimizer = optimizer, loss = loss, metrics = ['accuracy'])\n",
    "    return model, history"
   ]
  },
  {
   "cell_type": "code",
   "execution_count": null,
   "metadata": {},
   "outputs": [],
   "source": [
    "scores = {}\n",
    "learning_rate = 0.001\n",
    "\n",
    "for i in [10, 100, 1000]:\n",
    "    model = make_model(learing_rate = learning_rate, dense_lyr_size=i)\n",
    "    history = model.fit(train_data, epochs=10, validation_data = val_data)\n",
    "    scores[i] = history.history\n",
    "    print()"
   ]
  },
  {
   "cell_type": "code",
   "execution_count": null,
   "metadata": {},
   "outputs": [],
   "source": [
    "for lr, hist in scores.items:\n",
    "    plt.plot(hist['val_accuracy'], label = (lr))"
   ]
  },
  {
   "cell_type": "markdown",
   "metadata": {},
   "source": [
    "Dropout"
   ]
  },
  {
   "cell_type": "code",
   "execution_count": null,
   "metadata": {},
   "outputs": [],
   "source": [
    "scores = {}\n",
    "learning_rate = 0.001\n",
    "size = 10\n",
    "\n",
    "for i in [0.2,0.4,0.6,0.8,1]:\n",
    "    model = make_model(learing_rate = learning_rate, dense_lyr_size=size, dropout_size= = i)\n",
    "    hist = model.fit(train_data, epochs=10, validation_data = val_data)\n",
    "    scores[i] = hist.history\n",
    "    print()"
   ]
  },
  {
   "cell_type": "markdown",
   "metadata": {},
   "source": [
    "Data Augmentation"
   ]
  },
  {
   "cell_type": "code",
   "execution_count": null,
   "metadata": {},
   "outputs": [],
   "source": [
    "train_gen = ImageDataGenerator(preprocessing_function=preprocess_input, \n",
    "                                zoom_range = 0.1, shear_range = 10.0, vertical_flip = True)\n",
    "train_data = train_gen.flow_from_directory('./clothing-dataset-small/train/', target_size= (299,299), batch_size = 32)"
   ]
  },
  {
   "cell_type": "code",
   "execution_count": null,
   "metadata": {},
   "outputs": [],
   "source": [
    "scores = {}\n",
    "learning_rate = 0.001\n",
    "size = 10\n",
    "drop = 0.2\n",
    "\n",
    "\n",
    "model = make_model(learing_rate = learning_rate, dense_lyr_size=size, dropout_size = drop)\n",
    "hist = model.fit(train_data, epochs=10, validation_data = val_data)\n",
    "scores[i] = hist.history\n",
    "print()"
   ]
  },
  {
   "cell_type": "markdown",
   "metadata": {},
   "source": [
    "Loading Model"
   ]
  },
  {
   "cell_type": "code",
   "execution_count": null,
   "metadata": {},
   "outputs": [],
   "source": [
    "model = keras.models.load_model(\"C:/Users/Godwin/Downloads/xception_v1_03_0.868.h5\")"
   ]
  },
  {
   "cell_type": "markdown",
   "metadata": {},
   "source": [
    "Using The Model"
   ]
  },
  {
   "cell_type": "code",
   "execution_count": null,
   "metadata": {},
   "outputs": [],
   "source": [
    "model.evaluate(test_data)"
   ]
  }
 ],
 "metadata": {
  "kernelspec": {
   "display_name": "Python 3.9.13 ('Tensorflow')",
   "language": "python",
   "name": "python3"
  },
  "language_info": {
   "codemirror_mode": {
    "name": "ipython",
    "version": 3
   },
   "file_extension": ".py",
   "mimetype": "text/x-python",
   "name": "python",
   "nbconvert_exporter": "python",
   "pygments_lexer": "ipython3",
   "version": "3.9.13"
  },
  "orig_nbformat": 4,
  "vscode": {
   "interpreter": {
    "hash": "a2031be23302a6f80daad80b84b83a86f535e1c11907b65b4c4b25f3c409004f"
   }
  }
 },
 "nbformat": 4,
 "nbformat_minor": 2
}
