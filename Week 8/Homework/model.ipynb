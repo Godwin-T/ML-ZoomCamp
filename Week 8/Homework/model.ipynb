{
 "cells": [
  {
   "cell_type": "code",
   "execution_count": 1,
   "metadata": {},
   "outputs": [],
   "source": [
    "import numpy as np\n",
    "import matplotlib.pyplot as plt\n",
    "import tensorflow as tf\n",
    "from zipfile import ZipFile\n",
    "import wget\n",
    "import keras\n",
    "from tensorflow.keras.preprocessing.image import load_img, ImageDataGenerator\n",
    "import warnings\n",
    "warnings.filterwarnings('ignore')\n",
    "\n",
    "from tensorflow.keras.applications.xception import Xception\n",
    "from tensorflow.keras.applications.xception import preprocess_input, decode_predictions"
   ]
  },
  {
   "cell_type": "code",
   "execution_count": 2,
   "metadata": {},
   "outputs": [],
   "source": [
    "#link = 'https://github.com/alexeygrigorev/dino-or-dragon/releases/download/data/dino-dragon.zip'\n",
    "#data = wget.download(link)\n",
    "\n",
    "#with ZipFile('./dino-dragon.zip', 'r') as zobject:\n",
    "#    zobject.extractall('./dino-dragon')"
   ]
  },
  {
   "cell_type": "code",
   "execution_count": 3,
   "metadata": {},
   "outputs": [],
   "source": [
    "path = './dino-dragon/train/dragon/0065e007-931f-4a67-ae27-7708e090cb26.jpg'\n",
    "img = load_img(path)"
   ]
  },
  {
   "cell_type": "code",
   "execution_count": 4,
   "metadata": {},
   "outputs": [],
   "source": [
    "def make_model():\n",
    "        \n",
    "    input = keras.Input(shape =(150,150,3))\n",
    "\n",
    "    conv_1 = keras.layers.Conv2D(32, kernel_size = (3,3), activation = 'relu')(input)\n",
    "    pooling_1 = keras.layers.pooling.MaxPool2D(pool_size = (2,2))(conv_1)\n",
    "    flatten = keras.layers.Flatten()(pooling_1)\n",
    "    dense_1 = keras.layers.Dense(64, activation = 'relu')(flatten)\n",
    "    output = keras.layers.Dense(1, activation = 'sigmoid')(dense_1)\n",
    "\n",
    "    model = keras.Model(input, output)\n",
    "    losses = keras.losses.BinaryCrossentropy()\n",
    "    optimizer = keras.optimizers.SGD(lr=0.002, momentum=0.8)\n",
    "\n",
    "    model.compile(optimizer = optimizer, loss = losses, metrics = ['accuracy'])\n",
    "\n",
    "    return model"
   ]
  },
  {
   "cell_type": "code",
   "execution_count": 5,
   "metadata": {},
   "outputs": [
    {
     "name": "stdout",
     "output_type": "stream",
     "text": [
      "Found 1594 images belonging to 2 classes.\n",
      "Found 394 images belonging to 2 classes.\n"
     ]
    }
   ],
   "source": [
    "train_gen = ImageDataGenerator(rescale= 1./255)\n",
    "train_data = train_gen.flow_from_directory('./dino-dragon/train/',class_mode='binary', target_size = (150,150), batch_size = 20, shuffle = True)\n",
    "\n",
    "test_gen = ImageDataGenerator(rescale= 1./255)\n",
    "test_data = test_gen.flow_from_directory('./dino-dragon/test/', class_mode = 'binary', target_size = (150,150), batch_size = 20,shuffle = True)"
   ]
  },
  {
   "cell_type": "code",
   "execution_count": 6,
   "metadata": {},
   "outputs": [
    {
     "name": "stdout",
     "output_type": "stream",
     "text": [
      "Epoch 1/10\n",
      "80/80 [==============================] - 36s 440ms/step - loss: 0.6784 - accuracy: 0.5590 - val_loss: 0.6288 - val_accuracy: 0.7157\n",
      "Epoch 2/10\n",
      "80/80 [==============================] - 35s 439ms/step - loss: 0.5649 - accuracy: 0.7472 - val_loss: 0.4978 - val_accuracy: 0.7919\n",
      "Epoch 3/10\n",
      "80/80 [==============================] - 35s 434ms/step - loss: 0.4719 - accuracy: 0.7936 - val_loss: 0.4522 - val_accuracy: 0.7843\n",
      "Epoch 4/10\n",
      "80/80 [==============================] - 36s 444ms/step - loss: 0.4032 - accuracy: 0.8369 - val_loss: 0.4281 - val_accuracy: 0.8020\n",
      "Epoch 5/10\n",
      "80/80 [==============================] - 35s 438ms/step - loss: 0.3564 - accuracy: 0.8545 - val_loss: 0.3603 - val_accuracy: 0.8477\n",
      "Epoch 6/10\n",
      "80/80 [==============================] - 35s 440ms/step - loss: 0.3219 - accuracy: 0.8720 - val_loss: 0.3305 - val_accuracy: 0.8604\n",
      "Epoch 7/10\n",
      "80/80 [==============================] - 35s 431ms/step - loss: 0.3137 - accuracy: 0.8670 - val_loss: 0.3669 - val_accuracy: 0.8198\n",
      "Epoch 8/10\n",
      "80/80 [==============================] - 35s 440ms/step - loss: 0.2800 - accuracy: 0.8852 - val_loss: 0.3026 - val_accuracy: 0.8807\n",
      "Epoch 9/10\n",
      "80/80 [==============================] - 35s 435ms/step - loss: 0.2307 - accuracy: 0.9178 - val_loss: 0.2906 - val_accuracy: 0.8782\n",
      "Epoch 10/10\n",
      "80/80 [==============================] - 35s 431ms/step - loss: 0.2045 - accuracy: 0.9260 - val_loss: 0.2899 - val_accuracy: 0.8655\n"
     ]
    }
   ],
   "source": [
    "model = make_model()\n",
    "\n",
    "history = model.fit(\n",
    "    train_data,\n",
    "    epochs=10,\n",
    "    validation_data=test_data\n",
    "    )"
   ]
  },
  {
   "cell_type": "code",
   "execution_count": 7,
   "metadata": {},
   "outputs": [
    {
     "name": "stdout",
     "output_type": "stream",
     "text": [
      "0.86\n"
     ]
    }
   ],
   "source": [
    "median_val = round(np.median(history.history['accuracy']),2)\n",
    "print(median_val)"
   ]
  },
  {
   "cell_type": "code",
   "execution_count": 8,
   "metadata": {},
   "outputs": [
    {
     "name": "stdout",
     "output_type": "stream",
     "text": [
      "0.14\n"
     ]
    }
   ],
   "source": [
    "std = round(np.std(history.history['loss']),2)\n",
    "print(std)"
   ]
  },
  {
   "cell_type": "code",
   "execution_count": 9,
   "metadata": {},
   "outputs": [
    {
     "name": "stdout",
     "output_type": "stream",
     "text": [
      "Found 1594 images belonging to 2 classes.\n"
     ]
    }
   ],
   "source": [
    "train_gen = ImageDataGenerator(rescale= 1./255,\n",
    "                            rotation_range=40,\n",
    "                            width_shift_range=0.2,\n",
    "                            height_shift_range=0.2,\n",
    "                            shear_range=0.2,\n",
    "                            zoom_range=0.2,\n",
    "                            horizontal_flip=True,\n",
    "                            fill_mode='nearest'\n",
    "                            )\n",
    "train_data = train_gen.flow_from_directory('./dino-dragon/train/', class_mode = 'binary', target_size = (150,150), batch_size = 20, shuffle = True)"
   ]
  },
  {
   "cell_type": "code",
   "execution_count": 10,
   "metadata": {},
   "outputs": [
    {
     "name": "stdout",
     "output_type": "stream",
     "text": [
      "Epoch 1/10\n",
      "80/80 [==============================] - 46s 570ms/step - loss: 0.6917 - accuracy: 0.5634 - val_loss: 0.6707 - val_accuracy: 0.5178\n",
      "Epoch 2/10\n",
      "80/80 [==============================] - 43s 533ms/step - loss: 0.6646 - accuracy: 0.5859 - val_loss: 0.6401 - val_accuracy: 0.6218\n",
      "Epoch 3/10\n",
      "80/80 [==============================] - 43s 541ms/step - loss: 0.6309 - accuracy: 0.6587 - val_loss: 0.5967 - val_accuracy: 0.6523\n",
      "Epoch 4/10\n",
      "80/80 [==============================] - 44s 554ms/step - loss: 0.6058 - accuracy: 0.6819 - val_loss: 0.5103 - val_accuracy: 0.7995\n",
      "Epoch 5/10\n",
      "80/80 [==============================] - 44s 546ms/step - loss: 0.5669 - accuracy: 0.7152 - val_loss: 0.4767 - val_accuracy: 0.7868\n",
      "Epoch 6/10\n",
      "80/80 [==============================] - 43s 530ms/step - loss: 0.5203 - accuracy: 0.7516 - val_loss: 0.4169 - val_accuracy: 0.8350\n",
      "Epoch 7/10\n",
      "80/80 [==============================] - 44s 548ms/step - loss: 0.5150 - accuracy: 0.7535 - val_loss: 0.4333 - val_accuracy: 0.7995\n",
      "Epoch 8/10\n",
      "80/80 [==============================] - 44s 554ms/step - loss: 0.4981 - accuracy: 0.7547 - val_loss: 0.4680 - val_accuracy: 0.7766\n",
      "Epoch 9/10\n",
      "80/80 [==============================] - 42s 530ms/step - loss: 0.4691 - accuracy: 0.7817 - val_loss: 0.4125 - val_accuracy: 0.7995\n",
      "Epoch 10/10\n",
      "80/80 [==============================] - 65s 815ms/step - loss: 0.4466 - accuracy: 0.7961 - val_loss: 0.5692 - val_accuracy: 0.7259\n"
     ]
    }
   ],
   "source": [
    "model = make_model()\n",
    "history = model.fit(\n",
    "    train_data,\n",
    "    epochs=10,\n",
    "    validation_data=test_data\n",
    "    )"
   ]
  },
  {
   "cell_type": "code",
   "execution_count": 11,
   "metadata": {},
   "outputs": [
    {
     "name": "stdout",
     "output_type": "stream",
     "text": [
      "0.5194456070661545\n"
     ]
    }
   ],
   "source": [
    "test_loss_mean = np.mean(history.history['val_loss'])\n",
    "print(test_loss_mean)"
   ]
  },
  {
   "cell_type": "code",
   "execution_count": 16,
   "metadata": {},
   "outputs": [
    {
     "data": {
      "text/plain": [
       "0.7873096346855164"
      ]
     },
     "execution_count": 16,
     "metadata": {},
     "output_type": "execute_result"
    }
   ],
   "source": [
    "accuracy = history.history['val_accuracy']\n",
    "np.mean(accuracy[5:])"
   ]
  },
  {
   "cell_type": "code",
   "execution_count": null,
   "metadata": {},
   "outputs": [],
   "source": []
  }
 ],
 "metadata": {
  "kernelspec": {
   "display_name": "Python 3.9.13 ('Tensorflow')",
   "language": "python",
   "name": "python3"
  },
  "language_info": {
   "codemirror_mode": {
    "name": "ipython",
    "version": 3
   },
   "file_extension": ".py",
   "mimetype": "text/x-python",
   "name": "python",
   "nbconvert_exporter": "python",
   "pygments_lexer": "ipython3",
   "version": "3.9.13"
  },
  "orig_nbformat": 4,
  "vscode": {
   "interpreter": {
    "hash": "a2031be23302a6f80daad80b84b83a86f535e1c11907b65b4c4b25f3c409004f"
   }
  }
 },
 "nbformat": 4,
 "nbformat_minor": 2
}
