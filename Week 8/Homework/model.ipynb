{
 "cells": [
  {
   "cell_type": "markdown",
   "metadata": {},
   "source": [
    "Importing Libraries"
   ]
  },
  {
   "cell_type": "code",
   "execution_count": null,
   "metadata": {},
   "outputs": [],
   "source": [
    "import numpy as np\n",
    "import matplotlib.pyplot as plt\n",
    "import tensorflow as tf\n",
    "from zipfile import ZipFile\n",
    "import wget\n",
    "import keras\n",
    "from tensorflow.keras.preprocessing.image import load_img, ImageDataGenerator\n",
    "import warnings\n",
    "warnings.filterwarnings('ignore')\n",
    "\n",
    "from tensorflow.keras.applications.xception import Xception\n",
    "from tensorflow.keras.applications.xception import preprocess_input, decode_predictions"
   ]
  },
  {
   "cell_type": "markdown",
   "metadata": {},
   "source": [
    "Downloding Data"
   ]
  },
  {
   "cell_type": "code",
   "execution_count": null,
   "metadata": {},
   "outputs": [],
   "source": [
    "#link = 'https://github.com/alexeygrigorev/dino-or-dragon/releases/download/data/dino-dragon.zip'\n",
    "#data = wget.download(link)\n",
    "\n",
    "#with ZipFile('./dino-dragon.zip', 'r') as zobject:\n",
    "#    zobject.extractall('./dino-dragon')"
   ]
  },
  {
   "cell_type": "markdown",
   "metadata": {},
   "source": [
    "Loading Data"
   ]
  },
  {
   "cell_type": "code",
   "execution_count": null,
   "metadata": {},
   "outputs": [],
   "source": [
    "path = \"C:/Users/Godwin/Documents/Workflow/MLZoomcamp/dino-dragon/train/dragon/0d56640d-d68c-4f9f-9b6d-4de05201cc66.jpg\"\n",
    "img = load_img(path)"
   ]
  },
  {
   "cell_type": "markdown",
   "metadata": {},
   "source": [
    "Build Model"
   ]
  },
  {
   "cell_type": "code",
   "execution_count": null,
   "metadata": {},
   "outputs": [],
   "source": [
    "def make_model():\n",
    "        \n",
    "    input = keras.Input(shape =(150,150,3))\n",
    "\n",
    "    conv_1 = keras.layers.Conv2D(32, kernel_size = (3,3), activation = 'relu')(input)\n",
    "    pooling_1 = keras.layers.pooling.MaxPool2D(pool_size = (2,2))(conv_1)\n",
    "    flatten = keras.layers.Flatten()(pooling_1)\n",
    "    dense_1 = keras.layers.Dense(64, activation = 'relu')(flatten)\n",
    "    output = keras.layers.Dense(1, activation = 'sigmoid')(dense_1)\n",
    "\n",
    "    model = keras.Model(input, output)\n",
    "    losses = keras.losses.BinaryCrossentropy()\n",
    "    optimizer = keras.optimizers.SGD(lr=0.002, momentum=0.8)\n",
    "\n",
    "    model.compile(optimizer = optimizer, loss = losses, metrics = ['accuracy'])\n",
    "\n",
    "    return model"
   ]
  },
  {
   "cell_type": "markdown",
   "metadata": {},
   "source": [
    "Loading Data"
   ]
  },
  {
   "cell_type": "code",
   "execution_count": null,
   "metadata": {},
   "outputs": [],
   "source": [
    "train_gen = ImageDataGenerator(rescale= 1./255)\n",
    "train_data = train_gen.flow_from_directory(\"C:/Users/Godwin/Documents/Workflow/MLZoomcamp/dino-dragon/train/\",class_mode='binary', target_size = (150,150), batch_size = 20, shuffle = True)\n",
    "\n",
    "test_gen = ImageDataGenerator(rescale= 1./255)\n",
    "test_data = test_gen.flow_from_directory('C:/Users/Godwin/Documents/Workflow/MLZoomcamp/dino-dragon/test/', class_mode = 'binary', target_size = (150,150), batch_size = 20,shuffle = True)"
   ]
  },
  {
   "cell_type": "markdown",
   "metadata": {},
   "source": [
    "Training Model"
   ]
  },
  {
   "cell_type": "code",
   "execution_count": null,
   "metadata": {},
   "outputs": [],
   "source": [
    "model = make_model()\n",
    "\n",
    "history = model.fit(train_data, epochs=10, \n",
    "                    validation_data=test_data)"
   ]
  },
  {
   "cell_type": "markdown",
   "metadata": {},
   "source": [
    "Visualizing Result"
   ]
  },
  {
   "cell_type": "code",
   "execution_count": null,
   "metadata": {},
   "outputs": [],
   "source": [
    "plt.plot(history.history['accuracy'], label = 'Train')\n",
    "plt.plot(history.history['val_accuracy'], label = 'Validation')\n",
    "\n",
    "plt.xticks(np.arange(10))\n",
    "plt.legend()"
   ]
  },
  {
   "cell_type": "markdown",
   "metadata": {},
   "source": [
    "Calculating Median and Standard deviation"
   ]
  },
  {
   "cell_type": "code",
   "execution_count": null,
   "metadata": {},
   "outputs": [],
   "source": [
    "median_val = round(np.median(history.history['accuracy']),2) #median of training accuracy\n",
    "std = round(np.std(history.history['loss']),2) #standard deviation of training loss\n",
    "print(median_val)\n",
    "print(std)"
   ]
  },
  {
   "cell_type": "markdown",
   "metadata": {},
   "source": [
    "Data Augumentation"
   ]
  },
  {
   "cell_type": "code",
   "execution_count": null,
   "metadata": {},
   "outputs": [],
   "source": [
    "train_gen = ImageDataGenerator(rescale= 1./255,\n",
    "                            rotation_range=40,\n",
    "                            width_shift_range=0.2,\n",
    "                            height_shift_range=0.2,\n",
    "                            shear_range=0.2,\n",
    "                            zoom_range=0.2,\n",
    "                            horizontal_flip=True,\n",
    "                            fill_mode='nearest'\n",
    "                            )\n",
    "train_data = train_gen.flow_from_directory('C:/Users/Godwin/Documents/Workflow/MLZoomcamp/dino-dragon/train/', class_mode = 'binary', target_size = (150,150), batch_size = 20, shuffle = True)"
   ]
  },
  {
   "cell_type": "markdown",
   "metadata": {},
   "source": [
    "Training The model with Augumented data"
   ]
  },
  {
   "cell_type": "code",
   "execution_count": null,
   "metadata": {},
   "outputs": [],
   "source": [
    "#Checkpointing\n",
    "checkpoint = keras.callbacks.ModelCheckpoint(\n",
    "                            'xception_v1_{epoch:02d}_{val_accuracy:.3f}.h5',\n",
    "                              save_best_only = True,\n",
    "                              monitor = 'val_accuracy',\n",
    "                              mode = 'max')"
   ]
  },
  {
   "cell_type": "code",
   "execution_count": null,
   "metadata": {},
   "outputs": [],
   "source": [
    "model = make_model()\n",
    "history = model.fit(train_data, epochs=10,\n",
    "                    validation_data=test_data,\n",
    "                    callbacks = [checkpoint])"
   ]
  },
  {
   "cell_type": "markdown",
   "metadata": {},
   "source": [
    "Visualizing Result"
   ]
  },
  {
   "cell_type": "code",
   "execution_count": null,
   "metadata": {},
   "outputs": [],
   "source": [
    "plt.plot(history.history['accuracy'], label = 'Train')\n",
    "plt.plot(history.history['val_accuracy'], label = 'Validation')\n",
    "\n",
    "plt.xticks(np.arange(10))\n",
    "plt.legend()"
   ]
  },
  {
   "cell_type": "markdown",
   "metadata": {},
   "source": [
    "Calculating mean accucacy and loss "
   ]
  },
  {
   "cell_type": "code",
   "execution_count": null,
   "metadata": {},
   "outputs": [],
   "source": [
    "test_loss_mean = np.mean(history.history['val_loss']) #validation loss mean\n",
    "accuracy = history.history['val_accuracy'] #validation acccuracy mean"
   ]
  },
  {
   "cell_type": "code",
   "execution_count": null,
   "metadata": {},
   "outputs": [],
   "source": []
  }
 ],
 "metadata": {
  "kernelspec": {
   "display_name": "Python 3.9.13 ('Tensorflow')",
   "language": "python",
   "name": "python3"
  },
  "language_info": {
   "codemirror_mode": {
    "name": "ipython",
    "version": 3
   },
   "file_extension": ".py",
   "mimetype": "text/x-python",
   "name": "python",
   "nbconvert_exporter": "python",
   "pygments_lexer": "ipython3",
   "version": "3.9.13"
  },
  "orig_nbformat": 4,
  "vscode": {
   "interpreter": {
    "hash": "a2031be23302a6f80daad80b84b83a86f535e1c11907b65b4c4b25f3c409004f"
   }
  }
 },
 "nbformat": 4,
 "nbformat_minor": 2
}
