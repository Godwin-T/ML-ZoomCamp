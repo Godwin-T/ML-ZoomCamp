{
 "cells": [
  {
   "cell_type": "code",
   "execution_count": 1,
   "metadata": {},
   "outputs": [],
   "source": [
    "import wget\n",
    "import pandas as pd\n",
    "import numpy as np\n",
    "import matplotlib.pyplot as plt\n",
    "import seaborn as sns\n",
    "import xgboost as xgb\n",
    "from sklearn.model_selection import train_test_split\n",
    "from sklearn.feature_extraction import DictVectorizer\n",
    "from sklearn.metrics import roc_auc_score\n",
    "import warnings\n",
    "warnings.filterwarnings('ignore')"
   ]
  },
  {
   "cell_type": "code",
   "execution_count": 2,
   "metadata": {},
   "outputs": [],
   "source": [
    "df = pd.read_csv('transformed_data.csv', index_col='Unnamed: 0')\n",
    "\n",
    "cat_col = ['home','marital','records', 'job']\n",
    "num_col = ['seniority', 'time', 'age', 'expenses', \n",
    "            'income', 'assets', 'debt', 'amount', 'price']\n",
    "\n",
    "cols = ['seniority', 'home', 'time', 'age', 'marital', 'records', 'job',\n",
    "        'expenses', 'income', 'assets', 'debt', 'amount', 'price']"
   ]
  },
  {
   "cell_type": "code",
   "execution_count": 3,
   "metadata": {},
   "outputs": [],
   "source": [
    "full_train_df, full_test_df = train_test_split(df, test_size =0.2, random_state=11)\n",
    "full_train_df, full_val_df = train_test_split(full_train_df, test_size = 0.25, random_state=11)\n",
    "\n",
    "train_df = full_train_df.reset_index(drop = True)\n",
    "test_df = full_test_df.reset_index(drop = True)\n",
    "val_df = full_val_df.reset_index(drop = True)\n",
    "\n",
    "y_train = (train_df['status'] == 'default').astype('int')\n",
    "y_test = (test_df['status'] == 'default').astype('int')\n",
    "y_val = (val_df['status'] == 'default').astype('int')\n",
    "\n",
    "dv = DictVectorizer(sparse = False)\n",
    "dv.fit(train_df[cols].to_dict(orient = 'records'))\n",
    "feature_names = dv.get_feature_names()\n",
    "\n",
    "X_train = dv.transform(train_df[cols].to_dict(orient = 'records'))\n",
    "X_test = dv.transform(test_df[cols].to_dict(orient = 'records'))\n",
    "X_val = dv.transform(val_df[cols].to_dict(orient = 'records'))\n",
    "\n",
    "\n",
    "del train_df['status']\n",
    "del test_df['status']\n",
    "del val_df['status']"
   ]
  },
  {
   "cell_type": "code",
   "execution_count": 4,
   "metadata": {},
   "outputs": [],
   "source": [
    "dtrain = xgb.DMatrix(X_train, label = y_train)\n",
    "dtest = xgb.DMatrix(X_test, label = y_test)\n",
    "dval = xgb.DMatrix(X_val, label = y_val)"
   ]
  },
  {
   "cell_type": "code",
   "execution_count": 5,
   "metadata": {},
   "outputs": [],
   "source": [
    "x_params = {\n",
    "    'eta': 0.1,\n",
    "    'max_depth':3,\n",
    "    'min_child_weight':30,\n",
    "\n",
    "    'objective':'binary:logistic',\n",
    "    'eval_metric' : 'auc',\n",
    "    \n",
    "    'n_threads':8,\n",
    "    'seed':1,\n",
    "    'verbosity':0\n",
    "}\n",
    "\n",
    "model = xgb.train(x_params, dtrain = dtrain,num_boost_round = 125)"
   ]
  },
  {
   "cell_type": "code",
   "execution_count": 6,
   "metadata": {},
   "outputs": [
    {
     "name": "stdout",
     "output_type": "stream",
     "text": [
      "0.8482830442897934\n"
     ]
    }
   ],
   "source": [
    "pred = model.predict(dval)\n",
    "auc = roc_auc_score(y_val,pred)\n",
    "print(auc)"
   ]
  },
  {
   "cell_type": "code",
   "execution_count": 7,
   "metadata": {},
   "outputs": [
    {
     "data": {
      "text/plain": [
       "0.8426050992720449"
      ]
     },
     "execution_count": 7,
     "metadata": {},
     "output_type": "execute_result"
    }
   ],
   "source": [
    "full_data = pd.concat([full_train_df, full_val_df])\n",
    "full_data = full_data.reset_index(drop = True)\n",
    "\n",
    "full_y_train = (full_data['status'] == 'default').astype('int')\n",
    "full_x_train = dv.transform(full_data[cat_col + num_col].to_dict(orient = 'records'))\n",
    "\n",
    "dtrain = xgb.DMatrix(full_x_train, label = full_y_train)\n",
    "test =  xgb.DMatrix(X_test)\n",
    "\n",
    "model = xgb.train(x_params, dtrain = dtrain,num_boost_round = 125)\n",
    "prediction = model.predict(test)\n",
    "auc = roc_auc_score(y_test, prediction)\n",
    "auc"
   ]
  },
  {
   "cell_type": "code",
   "execution_count": 11,
   "metadata": {},
   "outputs": [
    {
     "data": {
      "text/plain": [
       "Model(tag=\"credict_risk:meupd6spxggv4aav\", path=\"/home/godwin/bentoml/models/credict_risk/meupd6spxggv4aav/\")"
      ]
     },
     "execution_count": 11,
     "metadata": {},
     "output_type": "execute_result"
    }
   ],
   "source": [
    "import bentoml\n",
    "bentoml.xgboost.save_model('credict_risk', model, \n",
    "                                custom_objects={'dictvectorizer':dv},\n",
    "                                signatures = {\n",
    "                                            \"predict\":{\n",
    "                                                \"batchable\": True,\n",
    "                                                \"batch_dim\": 0\n",
    "                                            }\n",
    "                                }\n",
    "                                )"
   ]
  },
  {
   "cell_type": "code",
   "execution_count": null,
   "metadata": {},
   "outputs": [],
   "source": []
  }
 ],
 "metadata": {
  "kernelspec": {
   "display_name": "Python 3.9.12 ('base')",
   "language": "python",
   "name": "python3"
  },
  "language_info": {
   "codemirror_mode": {
    "name": "ipython",
    "version": 3
   },
   "file_extension": ".py",
   "mimetype": "text/x-python",
   "name": "python",
   "nbconvert_exporter": "python",
   "pygments_lexer": "ipython3",
   "version": "3.9.13"
  },
  "orig_nbformat": 4,
  "vscode": {
   "interpreter": {
    "hash": "a4ea388b8135a50e288c61b1de9789b1851672ad704036e9b2d3c631698e1ffe"
   }
  }
 },
 "nbformat": 4,
 "nbformat_minor": 2
}
