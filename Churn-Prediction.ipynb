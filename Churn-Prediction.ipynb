{
 "cells": [
  {
   "cell_type": "markdown",
   "metadata": {},
   "source": [
    "Import Libraries"
   ]
  },
  {
   "cell_type": "code",
   "execution_count": 1,
   "metadata": {},
   "outputs": [],
   "source": [
    "import pandas as pd\n",
    "import numpy as np\n",
    "from matplotlib import pyplot as plt\n",
    "import sklearn\n",
    "import seaborn as sns\n",
    "from IPython.display import display\n",
    "from sklearn.feature_extraction import DictVectorizer\n",
    "from sklearn.model_selection import train_test_split, KFold\n",
    "from sklearn.linear_model import LogisticRegression\n",
    "from sklearn.metrics import mutual_info_score, roc_curve, auc, roc_auc_score\n",
    "from tqdm.auto import tqdm\n",
    "import warnings\n",
    "warnings.filterwarnings('ignore')"
   ]
  },
  {
   "cell_type": "markdown",
   "metadata": {},
   "source": [
    "Load Dataset"
   ]
  },
  {
   "cell_type": "code",
   "execution_count": 2,
   "metadata": {},
   "outputs": [],
   "source": [
    "data = pd.read_csv(\"C:/Users/Godwin/Documents/Workflow/ML Zoomcamp/Classification/Customer-churn/Telco-Customer-Churn.csv\")\n",
    "data.columns = data.columns.str.replace(' ', '_').str.lower()\n",
    "\n",
    "categorical_col = data.dtypes[data.dtypes == 'object'].index.tolist()\n",
    "\n",
    "for col in categorical_col:\n",
    "    data[col] = data[col].str.replace(' ', '_').str.lower()\n",
    "#data.head()"
   ]
  },
  {
   "cell_type": "markdown",
   "metadata": {},
   "source": [
    "EDA"
   ]
  },
  {
   "cell_type": "code",
   "execution_count": 3,
   "metadata": {},
   "outputs": [],
   "source": [
    "#Checking Data infomation\n",
    "#data.info()"
   ]
  },
  {
   "cell_type": "code",
   "execution_count": 4,
   "metadata": {},
   "outputs": [],
   "source": [
    "#Checking for null values\n",
    "#data.isnull().sum()"
   ]
  },
  {
   "cell_type": "code",
   "execution_count": 5,
   "metadata": {},
   "outputs": [],
   "source": [
    "#data.head()"
   ]
  },
  {
   "cell_type": "code",
   "execution_count": 6,
   "metadata": {},
   "outputs": [],
   "source": [
    "#Changing totalcharges column to float\n",
    "#data['totalcharges'] = data['totalcharges'].astype('float')"
   ]
  },
  {
   "cell_type": "code",
   "execution_count": 7,
   "metadata": {},
   "outputs": [],
   "source": [
    "data['totalcharges'] = pd.to_numeric(data['totalcharges'], errors= 'coerce')"
   ]
  },
  {
   "cell_type": "code",
   "execution_count": 8,
   "metadata": {},
   "outputs": [],
   "source": [
    "#data.info()"
   ]
  },
  {
   "cell_type": "code",
   "execution_count": 9,
   "metadata": {},
   "outputs": [],
   "source": [
    "#Checking number of unique values in each column\n",
    "#data.nunique()"
   ]
  },
  {
   "cell_type": "code",
   "execution_count": 10,
   "metadata": {},
   "outputs": [],
   "source": [
    "#data.isnull().sum()"
   ]
  },
  {
   "cell_type": "code",
   "execution_count": 11,
   "metadata": {},
   "outputs": [],
   "source": [
    "#Filling null values\n",
    "data['totalcharges'].fillna(data['totalcharges'].mean(), inplace = True)"
   ]
  },
  {
   "cell_type": "code",
   "execution_count": 12,
   "metadata": {},
   "outputs": [],
   "source": [
    "#Visualization \n",
    "\n",
    "def displayBarValues(chartName,ty=\"\"):\n",
    "    for p in chartName.patches:\n",
    "        bar_height = p.get_height() if not pd.isnull(p.get_height()) else 0\n",
    "        bar_width = p.get_width() if not pd.isnull(p.get_width()) else 0\n",
    "        bar_x = p.get_x() if not pd.isnull(p.get_x()) else 0\n",
    "        if(ty==\"per\"):\n",
    "            chartName.text(bar_x + (bar_width / 2.5),\n",
    "                bar_height +0.9,(str)(round(bar_height,1))+\"%\" or '', color='black', ha=\"center\")\n",
    "        else:\n",
    "            chartName.text(bar_x + (bar_width / 2.0),\n",
    "                bar_height +0.9,(round(bar_height,1)) or '', color='black', ha=\"center\")"
   ]
  },
  {
   "cell_type": "code",
   "execution_count": 13,
   "metadata": {},
   "outputs": [],
   "source": [
    "categorical_col = data.dtypes[data.dtypes == 'object'].index.tolist()\n",
    "numerical_col = ['tenure', 'totalcharges', 'monthlycharges']\n",
    "\n",
    "categorical_col.remove('customerid')\n",
    "# plt.figure(figsize = (15,25))\n",
    "# rows = int(len(categorical_col)/4 +1)\n",
    "# for i,col in enumerate(categorical_col):\n",
    "\n",
    "#     plt.subplot(rows, 4, i+1)\n",
    "#     chart = sns.countplot(x = col, data = data, order = data[col].value_counts(normalize=True).sort_values().index)\n",
    "#     displayBarValues(chart)\n",
    "#     plt.xticks(rotation = 90)"
   ]
  },
  {
   "cell_type": "code",
   "execution_count": 14,
   "metadata": {},
   "outputs": [],
   "source": [
    "#Percentage of churning to not churning\n",
    "#(data['churn'].value_counts(normalize=True)*100).sort_values()"
   ]
  },
  {
   "cell_type": "code",
   "execution_count": 15,
   "metadata": {},
   "outputs": [],
   "source": [
    "#Covert churn column to integer\n",
    "data['churn'] = (data.churn=='yes').astype(int)\n",
    "\n",
    "\n",
    "# #Checking churning rate in relation to other columns\n",
    "# global_churn_rate = data['churn'].mean()\n",
    "# print('The churning rate of the company is ',global_churn_rate)\n",
    "\n",
    "# female_churn = data[data['gender'] == 'female']['churn'].mean()\n",
    "# print('The churning rate of females in the company is ', female_churn)\n",
    "# male_churn = data[data['gender'] == 'male']['churn'].mean()\n",
    "# print('The churning rate of males in the company is ',male_churn)"
   ]
  },
  {
   "cell_type": "markdown",
   "metadata": {},
   "source": [
    "Relationship between columns and the churning rate"
   ]
  },
  {
   "cell_type": "code",
   "execution_count": 16,
   "metadata": {},
   "outputs": [],
   "source": [
    "# for i in categorical_col:\n",
    "#     data_group = data.groupby(i)['churn'].agg(['mean'])\n",
    "#     data_group['difference'] = data_group['mean'] - global_churn_rate\n",
    "#     data_group['risk'] = data_group['mean']/ global_churn_rate\n",
    "#     display(data_group)\n",
    "#     print()\n",
    "#     print()"
   ]
  },
  {
   "cell_type": "code",
   "execution_count": 17,
   "metadata": {},
   "outputs": [
    {
     "data": {
      "text/plain": [
       "tenure           -0.352229\n",
       "totalcharges     -0.199428\n",
       "monthlycharges    0.193356\n",
       "dtype: float64"
      ]
     },
     "execution_count": 17,
     "metadata": {},
     "output_type": "execute_result"
    }
   ],
   "source": [
    "#Relationship between numerical columns and the target variable\n",
    "data[numerical_col].corrwith(data['churn'])"
   ]
  },
  {
   "cell_type": "code",
   "execution_count": 18,
   "metadata": {},
   "outputs": [],
   "source": [
    "#Binnning columns to extract information\n",
    "\n",
    "data['tenure_bins'] = pd.cut(x = data['tenure'], bins = [0, 30, 60, 90], labels = ['0 - 30', '31 - 60', '61 - 90'])\n",
    "\n",
    "data['monthly_bins'] = pd.cut(x = data['monthlycharges'], bins = [0, 50, 100, 150], labels = ['0 - 50', '51 - 100', '101 - 150'])"
   ]
  },
  {
   "cell_type": "code",
   "execution_count": 19,
   "metadata": {},
   "outputs": [],
   "source": [
    "#data.groupby(['tenure_bins'])['churn'].agg('mean')"
   ]
  },
  {
   "cell_type": "code",
   "execution_count": 20,
   "metadata": {},
   "outputs": [],
   "source": [
    "# chart = sns.countplot(x = 'tenure_bins', data = data, order = data['tenure_bins'].value_counts(normalize=True).sort_values().index)\n",
    "# displayBarValues(chart)\n",
    "# plt.xticks(rotation = 90)"
   ]
  },
  {
   "cell_type": "code",
   "execution_count": 21,
   "metadata": {},
   "outputs": [],
   "source": [
    "#data.groupby(['monthly_bins'])['churn'].agg('mean')"
   ]
  },
  {
   "cell_type": "code",
   "execution_count": 22,
   "metadata": {},
   "outputs": [],
   "source": [
    "# chart = sns.countplot(x = 'monthly_bins', data = data, order = data['monthly_bins'].value_counts(normalize=True).sort_values().index)\n",
    "# displayBarValues(chart)\n",
    "# plt.xticks(rotation = 90)"
   ]
  },
  {
   "cell_type": "code",
   "execution_count": 23,
   "metadata": {},
   "outputs": [],
   "source": [
    "#data.drop(['tenure_bins', 'monthly_bins'], axis = 1, inplace = True)"
   ]
  },
  {
   "cell_type": "code",
   "execution_count": 24,
   "metadata": {},
   "outputs": [],
   "source": [
    "# #Function for mutual information between features and target\n",
    "# def mutual_info(series):\n",
    "#     return mutual_info_score(series, data['churn'])\n",
    "\n",
    "# mi = data[categorical_col].apply(mutual_info)\n",
    "# mi.sort_values(ascending = False)"
   ]
  },
  {
   "cell_type": "code",
   "execution_count": 25,
   "metadata": {},
   "outputs": [],
   "source": [
    "#Spliting the data\n",
    "train_df, test_df = train_test_split(data, test_size = 0.2, random_state=1)\n",
    "train_df, val_df = train_test_split(train_df, test_size = 0.25, random_state=1)\n",
    "\n",
    "y_train = train_df.pop('churn')\n",
    "y_test = test_df.pop('churn')\n",
    "y_val = val_df.pop('churn')"
   ]
  },
  {
   "cell_type": "code",
   "execution_count": 26,
   "metadata": {},
   "outputs": [],
   "source": [
    "#Encoding the data with DictVectorizer\n",
    "dv = DictVectorizer(sparse = False)\n",
    "\n",
    "categorical_col.remove('churn')\n",
    "dv.fit(train_df[categorical_col + numerical_col].to_dict(orient = 'records'))\n",
    "X_train = dv.transform(train_df[categorical_col + numerical_col].to_dict(orient = 'records'))\n",
    "X_test =  dv.transform(test_df[categorical_col + numerical_col].to_dict(orient = 'records'))\n",
    "X_val =  dv.transform(val_df[categorical_col + numerical_col].to_dict(orient = 'records'))"
   ]
  },
  {
   "cell_type": "code",
   "execution_count": 27,
   "metadata": {},
   "outputs": [],
   "source": [
    "model = LogisticRegression()\n",
    "model.fit(X_train, y_train)\n",
    "\n",
    "weights = model.coef_[0].round(3)\n",
    "bias = model.intercept_.round(3)"
   ]
  },
  {
   "cell_type": "code",
   "execution_count": 28,
   "metadata": {},
   "outputs": [
    {
     "name": "stdout",
     "output_type": "stream",
     "text": [
      "0.7991483321504613\n"
     ]
    }
   ],
   "source": [
    "#Model validation\n",
    "prediction = model.predict_proba(X_val)[:,1]\n",
    "churn_decision = (prediction >= 0.5)\n",
    "\n",
    "print((y_val == churn_decision).mean())\n",
    "churn_decision = churn_decision.astype('int')"
   ]
  },
  {
   "cell_type": "markdown",
   "metadata": {},
   "source": [
    "Training on full data"
   ]
  },
  {
   "cell_type": "code",
   "execution_count": 29,
   "metadata": {},
   "outputs": [],
   "source": [
    "#full_df = pd.concat([train_df, val_df])\n",
    "#label = pd.concat([y_train, y_val])"
   ]
  },
  {
   "cell_type": "code",
   "execution_count": 30,
   "metadata": {},
   "outputs": [],
   "source": [
    "#full = full_df[categorical_col + numerical_col].to_dict(orient = 'record')\n",
    "#new_df = dv.fit_transform(full)\n",
    "#model.fit(new_df, label)"
   ]
  },
  {
   "cell_type": "markdown",
   "metadata": {},
   "source": [
    "Making Prediction"
   ]
  },
  {
   "cell_type": "code",
   "execution_count": 31,
   "metadata": {},
   "outputs": [],
   "source": [
    "prediction = model.predict_proba(X_val)[:, 1]\n",
    "#prediction = (prediction >= 0.5)\n",
    "#prediction = prediction.astype('int')\n",
    "#print('The accuracy of the model is ', (y_val == prediction).mean())\n",
    "#dictionary = {'Customerid': test_df['customerid'], \"Actual\": y_test, 'Predicted': prediction, \"Match\": y_test == prediction}\n",
    "#output = pd.DataFrame(dictionary)"
   ]
  },
  {
   "cell_type": "code",
   "execution_count": 32,
   "metadata": {},
   "outputs": [],
   "source": [
    "#output.head(20)"
   ]
  },
  {
   "cell_type": "code",
   "execution_count": 33,
   "metadata": {},
   "outputs": [],
   "source": [
    "#output[output['Match'] == False]['Customerid'].shape"
   ]
  },
  {
   "cell_type": "code",
   "execution_count": 34,
   "metadata": {},
   "outputs": [],
   "source": [
    "def metric(actual, predicted, t):\n",
    "\n",
    "    accuracy = (predicted == actual).mean()\n",
    "    actual_positive = (actual == 1)\n",
    "    actual_negative = (actual == 0)\n",
    "\n",
    "    predicted_positive = (predicted >= t)\n",
    "    predicted_negative = (predicted < t)\n",
    "\n",
    "\n",
    "\n",
    "    tp = (actual_positive & predicted_positive).sum()\n",
    "    tn = (actual_negative & predicted_negative).sum()\n",
    "    fp = (actual_negative & predicted_positive).sum()\n",
    "    fn = (actual_positive & predicted_negative).sum()\n",
    "\n",
    "    tpr = tp/ (tp + fn)\n",
    "    fpr = fp/ (fp + tn)\n",
    "\n",
    "    precision = tp/(tp + fp)\n",
    "    recall = tp/(tp +fn)\n",
    "    f1_score = 2 * ((precision * recall)/ (precision + recall))\n",
    "\n",
    "    return tn, fp, fn, tp, precision, recall, tpr, fpr, f1_score"
   ]
  },
  {
   "cell_type": "code",
   "execution_count": 35,
   "metadata": {},
   "outputs": [
    {
     "data": {
      "text/html": [
       "<div>\n",
       "<style scoped>\n",
       "    .dataframe tbody tr th:only-of-type {\n",
       "        vertical-align: middle;\n",
       "    }\n",
       "\n",
       "    .dataframe tbody tr th {\n",
       "        vertical-align: top;\n",
       "    }\n",
       "\n",
       "    .dataframe thead th {\n",
       "        text-align: right;\n",
       "    }\n",
       "</style>\n",
       "<table border=\"1\" class=\"dataframe\">\n",
       "  <thead>\n",
       "    <tr style=\"text-align: right;\">\n",
       "      <th></th>\n",
       "      <th>threshold</th>\n",
       "      <th>true_negative</th>\n",
       "      <th>false_positive</th>\n",
       "      <th>false_negative</th>\n",
       "      <th>true_positive</th>\n",
       "      <th>true_positive_rate</th>\n",
       "      <th>false_positive_rate</th>\n",
       "    </tr>\n",
       "  </thead>\n",
       "  <tbody>\n",
       "    <tr>\n",
       "      <th>0</th>\n",
       "      <td>0.0</td>\n",
       "      <td>0</td>\n",
       "      <td>1023</td>\n",
       "      <td>0</td>\n",
       "      <td>386</td>\n",
       "      <td>1.000000</td>\n",
       "      <td>1.000000</td>\n",
       "    </tr>\n",
       "    <tr>\n",
       "      <th>10</th>\n",
       "      <td>0.1</td>\n",
       "      <td>475</td>\n",
       "      <td>548</td>\n",
       "      <td>20</td>\n",
       "      <td>366</td>\n",
       "      <td>0.948187</td>\n",
       "      <td>0.535679</td>\n",
       "    </tr>\n",
       "    <tr>\n",
       "      <th>20</th>\n",
       "      <td>0.2</td>\n",
       "      <td>665</td>\n",
       "      <td>358</td>\n",
       "      <td>53</td>\n",
       "      <td>333</td>\n",
       "      <td>0.862694</td>\n",
       "      <td>0.349951</td>\n",
       "    </tr>\n",
       "    <tr>\n",
       "      <th>30</th>\n",
       "      <td>0.3</td>\n",
       "      <td>784</td>\n",
       "      <td>239</td>\n",
       "      <td>98</td>\n",
       "      <td>288</td>\n",
       "      <td>0.746114</td>\n",
       "      <td>0.233627</td>\n",
       "    </tr>\n",
       "    <tr>\n",
       "      <th>40</th>\n",
       "      <td>0.4</td>\n",
       "      <td>849</td>\n",
       "      <td>174</td>\n",
       "      <td>136</td>\n",
       "      <td>250</td>\n",
       "      <td>0.647668</td>\n",
       "      <td>0.170088</td>\n",
       "    </tr>\n",
       "    <tr>\n",
       "      <th>50</th>\n",
       "      <td>0.5</td>\n",
       "      <td>915</td>\n",
       "      <td>108</td>\n",
       "      <td>175</td>\n",
       "      <td>211</td>\n",
       "      <td>0.546632</td>\n",
       "      <td>0.105572</td>\n",
       "    </tr>\n",
       "    <tr>\n",
       "      <th>60</th>\n",
       "      <td>0.6</td>\n",
       "      <td>969</td>\n",
       "      <td>54</td>\n",
       "      <td>230</td>\n",
       "      <td>156</td>\n",
       "      <td>0.404145</td>\n",
       "      <td>0.052786</td>\n",
       "    </tr>\n",
       "    <tr>\n",
       "      <th>70</th>\n",
       "      <td>0.7</td>\n",
       "      <td>1004</td>\n",
       "      <td>19</td>\n",
       "      <td>309</td>\n",
       "      <td>77</td>\n",
       "      <td>0.199482</td>\n",
       "      <td>0.018573</td>\n",
       "    </tr>\n",
       "    <tr>\n",
       "      <th>80</th>\n",
       "      <td>0.8</td>\n",
       "      <td>1022</td>\n",
       "      <td>1</td>\n",
       "      <td>378</td>\n",
       "      <td>8</td>\n",
       "      <td>0.020725</td>\n",
       "      <td>0.000978</td>\n",
       "    </tr>\n",
       "    <tr>\n",
       "      <th>90</th>\n",
       "      <td>0.9</td>\n",
       "      <td>1023</td>\n",
       "      <td>0</td>\n",
       "      <td>386</td>\n",
       "      <td>0</td>\n",
       "      <td>0.000000</td>\n",
       "      <td>0.000000</td>\n",
       "    </tr>\n",
       "    <tr>\n",
       "      <th>100</th>\n",
       "      <td>1.0</td>\n",
       "      <td>1023</td>\n",
       "      <td>0</td>\n",
       "      <td>386</td>\n",
       "      <td>0</td>\n",
       "      <td>0.000000</td>\n",
       "      <td>0.000000</td>\n",
       "    </tr>\n",
       "  </tbody>\n",
       "</table>\n",
       "</div>"
      ],
      "text/plain": [
       "     threshold  true_negative  false_positive  false_negative  true_positive  \\\n",
       "0          0.0              0            1023               0            386   \n",
       "10         0.1            475             548              20            366   \n",
       "20         0.2            665             358              53            333   \n",
       "30         0.3            784             239              98            288   \n",
       "40         0.4            849             174             136            250   \n",
       "50         0.5            915             108             175            211   \n",
       "60         0.6            969              54             230            156   \n",
       "70         0.7           1004              19             309             77   \n",
       "80         0.8           1022               1             378              8   \n",
       "90         0.9           1023               0             386              0   \n",
       "100        1.0           1023               0             386              0   \n",
       "\n",
       "     true_positive_rate  false_positive_rate  \n",
       "0              1.000000             1.000000  \n",
       "10             0.948187             0.535679  \n",
       "20             0.862694             0.349951  \n",
       "30             0.746114             0.233627  \n",
       "40             0.647668             0.170088  \n",
       "50             0.546632             0.105572  \n",
       "60             0.404145             0.052786  \n",
       "70             0.199482             0.018573  \n",
       "80             0.020725             0.000978  \n",
       "90             0.000000             0.000000  \n",
       "100            0.000000             0.000000  "
      ]
     },
     "execution_count": 35,
     "metadata": {},
     "output_type": "execute_result"
    }
   ],
   "source": [
    "tn, fp, fn, tp, precision, recall, tpr, fpr, f1_score = metric(y_val, prediction, 0.5)\n",
    "cm = np.array([[tn, fp], [fn, tp]])\n",
    "\n",
    "threshold = np.linspace(0, 1, 101)\n",
    "\n",
    "score = []\n",
    "for t in threshold:\n",
    "    tn, fp, fn, tp, precision, recall, tpr, fpr, f1_score = metric(y_val, prediction, t)\n",
    "    score.append((t, tn,fp,fn,tp, tpr, fpr))\n",
    "\n",
    "df = pd.DataFrame(score, columns= ['threshold','true_negative', 'false_positive', 'false_negative', 'true_positive', 'true_positive_rate', 'false_positive_rate'])\n",
    "df[::10]"
   ]
  },
  {
   "cell_type": "code",
   "execution_count": 36,
   "metadata": {},
   "outputs": [
    {
     "data": {
      "text/plain": [
       "<matplotlib.legend.Legend at 0x1b3b6805220>"
      ]
     },
     "execution_count": 36,
     "metadata": {},
     "output_type": "execute_result"
    },
    {
     "data": {
      "image/png": "[encoded data removed]",
      "text/plain": [
       "<Figure size 640x480 with 1 Axes>"
      ]
     },
     "metadata": {},
     "output_type": "display_data"
    }
   ],
   "source": [
    "plt.plot(df.threshold, df.true_positive_rate, label = 'TPR')\n",
    "plt.plot(df.threshold, df.false_positive_rate, label = 'FPR')\n",
    "plt.legend()"
   ]
  },
  {
   "cell_type": "code",
   "execution_count": 37,
   "metadata": {},
   "outputs": [
    {
     "data": {
      "text/plain": [
       "0.4804826117814053"
      ]
     },
     "execution_count": 37,
     "metadata": {},
     "output_type": "execute_result"
    }
   ],
   "source": [
    "y_rand = np.random.uniform(0,1, size=len(y_val))\n",
    "((y_rand >= 0.5) == y_val).mean()"
   ]
  },
  {
   "cell_type": "code",
   "execution_count": 38,
   "metadata": {},
   "outputs": [],
   "source": [
    "def model_rates(y_test, prediction):\n",
    "        \n",
    "    threshold = np.linspace(0, 1, 101)\n",
    "\n",
    "    score = []\n",
    "    for t in threshold:\n",
    "\n",
    "        actual_positive = (y_test == 1)\n",
    "        actual_negative = (y_test == 0)\n",
    "\n",
    "        predicted_positive = (prediction >= t)\n",
    "        predicted_negative = (prediction < t)\n",
    "\n",
    "        true_positive = (actual_positive & predicted_positive).sum()\n",
    "        true_negative = (actual_negative & predicted_negative).sum()\n",
    "        false_positive = (actual_negative & predicted_positive).sum()\n",
    "        false_negative = (actual_positive & predicted_negative).sum()\n",
    "\n",
    "        score.append((t,true_positive, false_positive, false_negative, true_negative))\n",
    "\n",
    "    df = pd.DataFrame(score, columns= ['threshold','true_positive', 'false_positive', 'false_negative', 'true_negative'])\n",
    "    df.true_positive_rate = df.true_positive/(df.true_positive + df.false_negative)\n",
    "    df.false_positive_rate = df.false_positive/(df.true_negative + df.false_positive)\n",
    "\n",
    "    return df"
   ]
  },
  {
   "cell_type": "code",
   "execution_count": 39,
   "metadata": {},
   "outputs": [
    {
     "data": {
      "text/plain": [
       "<matplotlib.legend.Legend at 0x1b3b6761bb0>"
      ]
     },
     "execution_count": 39,
     "metadata": {},
     "output_type": "execute_result"
    },
    {
     "data": {
      "image/png": "[encoded data removed]",
      "text/plain": [
       "<Figure size 640x480 with 1 Axes>"
      ]
     },
     "metadata": {},
     "output_type": "display_data"
    }
   ],
   "source": [
    "rand_df = model_rates(y_val, y_rand)\n",
    "\n",
    "plt.plot(rand_df.threshold, rand_df.true_positive_rate, label = 'TPR')\n",
    "plt.plot(rand_df.threshold, rand_df.false_positive_rate, label = 'FPR')\n",
    "\n",
    "plt.plot(df.threshold, df.true_positive_rate, label = 'TPR')\n",
    "plt.plot(df.threshold, df.false_positive_rate, label = 'FPR')\n",
    "plt.legend()"
   ]
  },
  {
   "cell_type": "code",
   "execution_count": 40,
   "metadata": {},
   "outputs": [
    {
     "data": {
      "text/plain": [
       "<matplotlib.legend.Legend at 0x1b3b886db50>"
      ]
     },
     "execution_count": 40,
     "metadata": {},
     "output_type": "execute_result"
    },
    {
     "data": {
      "image/png": "[encoded data removed]",
      "text/plain": [
       "<Figure size 640x480 with 1 Axes>"
      ]
     },
     "metadata": {},
     "output_type": "display_data"
    }
   ],
   "source": [
    "plt.plot(rand_df.false_positive_rate, rand_df.true_positive_rate, label = 'random')\n",
    "\n",
    "plt.plot(df.false_positive_rate, df.true_positive_rate, label = 'model')\n",
    "plt.legend()"
   ]
  },
  {
   "cell_type": "code",
   "execution_count": 41,
   "metadata": {},
   "outputs": [
    {
     "data": {
      "text/plain": [
       "[<matplotlib.lines.Line2D at 0x1b3b8b01250>]"
      ]
     },
     "execution_count": 41,
     "metadata": {},
     "output_type": "execute_result"
    },
    {
     "data": {
      "image/png": "[encoded data removed]",
      "text/plain": [
       "<Figure size 640x480 with 1 Axes>"
      ]
     },
     "metadata": {},
     "output_type": "display_data"
    }
   ],
   "source": [
    "fpr, tpr, thres = roc_curve(y_val, prediction)\n",
    "plt.plot(fpr, tpr)\n",
    "plt.plot(rand_df.false_positive_rate, rand_df.true_positive_rate, label = 'random')"
   ]
  },
  {
   "cell_type": "code",
   "execution_count": 42,
   "metadata": {},
   "outputs": [
    {
     "data": {
      "text/plain": [
       "0.8435339522586722"
      ]
     },
     "execution_count": 42,
     "metadata": {},
     "output_type": "execute_result"
    }
   ],
   "source": [
    "auc(fpr, tpr)"
   ]
  },
  {
   "cell_type": "code",
   "execution_count": 43,
   "metadata": {},
   "outputs": [
    {
     "data": {
      "text/plain": [
       "0.8435339522586722"
      ]
     },
     "execution_count": 43,
     "metadata": {},
     "output_type": "execute_result"
    }
   ],
   "source": [
    "roc_auc_score(y_val, prediction)"
   ]
  },
  {
   "cell_type": "code",
   "execution_count": 44,
   "metadata": {},
   "outputs": [],
   "source": [
    "def train(data, y, c):\n",
    "    dv.fit(data[categorical_col + numerical_col].to_dict(orient = 'records'))\n",
    "    X_train = dv.transform(data[categorical_col + numerical_col].to_dict(orient = 'records'))\n",
    "\n",
    "    model = LogisticRegression(C = c, max_iter = 1000)\n",
    "    model.fit(X_train, y)\n",
    "    return dv, model\n",
    "\n",
    "def predict(data, dv, model):\n",
    "    X_test = dv.transform(data[categorical_col + numerical_col].to_dict(orient = 'records'))\n",
    "    prediction = model.predict_proba(X_test)[:,1]\n",
    "    return prediction"
   ]
  },
  {
   "cell_type": "code",
   "execution_count": 45,
   "metadata": {},
   "outputs": [],
   "source": [
    "full_df = pd.concat([train_df,val_df])\n",
    "full_df['label'] = (pd.concat([y_train,y_val]))\n",
    "\n",
    "kfold = KFold(n_splits=10, shuffle= True, random_state=1)\n",
    "train_idx, val_idx = next(kfold.split(full_df))"
   ]
  },
  {
   "cell_type": "code",
   "execution_count": 46,
   "metadata": {},
   "outputs": [
    {
     "data": {
      "application/vnd.jupyter.widget-view+json": {
       "model_id": "d31adc7308b740fbb301fd4d475706a5",
       "version_major": 2,
       "version_minor": 0
      },
      "text/plain": [
       "  0%|          | 0/6 [00:00<?, ?it/s]"
      ]
     },
     "metadata": {},
     "output_type": "display_data"
    },
    {
     "name": "stdout",
     "output_type": "stream",
     "text": [
      "C 0.0001, Auc_score 0.8108000000000001, STD 0.00898665677546435\n",
      "C 0.01, Auc_score 0.8398, STD 0.01331014650557988\n",
      "C 0.1, Auc_score 0.841, STD 0.015504837954651459\n",
      "C 1, Auc_score 0.8412, STD 0.015529327094243343\n",
      "C 10, Auc_score 0.8402, STD 0.014337363774418238\n",
      "C 100, Auc_score 0.841, STD 0.015773395322504297\n"
     ]
    }
   ],
   "source": [
    "reg = [0.0001,0.01,0.1,1,10,100]\n",
    "\n",
    "for i in tqdm(reg):\n",
    "\n",
    "    scores = []\n",
    "    for train_idx, val_idx in kfold.split(full_df):\n",
    "\n",
    "        train_df = full_df.iloc[train_idx]\n",
    "        val_df = full_df.iloc[val_idx]\n",
    "\n",
    "        y_train = train_df.pop('label')\n",
    "        y_val = val_df.pop('label')\n",
    "\n",
    "        dv, model = train(train_df, y_train, i)\n",
    "        prediction = predict(val_df, dv, model)\n",
    "\n",
    "        auc = roc_auc_score(y_val, prediction)\n",
    "        scores.append(round(auc, 3))\n",
    "\n",
    "    print(f'C {i}, Auc_score {np.mean(scores)}, STD {np.std(scores)}')"
   ]
  },
  {
   "cell_type": "code",
   "execution_count": 47,
   "metadata": {},
   "outputs": [],
   "source": [
    "full_df = (pd.concat([train_df,val_df]))\n",
    "label = (pd.concat([y_train,y_val]))\n",
    "\n",
    "dv, model = train(full_df, label, 1)\n",
    "prediction = predict(test_df, dv, model)\n",
    "auc = roc_auc_score(y_test, prediction)"
   ]
  },
  {
   "cell_type": "code",
   "execution_count": 50,
   "metadata": {},
   "outputs": [
    {
     "data": {
      "text/plain": [
       "0.858183832212075"
      ]
     },
     "execution_count": 50,
     "metadata": {},
     "output_type": "execute_result"
    }
   ],
   "source": [
    "auc"
   ]
  },
  {
   "cell_type": "code",
   "execution_count": null,
   "metadata": {},
   "outputs": [],
   "source": []
  },
  {
   "cell_type": "code",
   "execution_count": 48,
   "metadata": {},
   "outputs": [],
   "source": [
    "# nums = [1,2,3,3,4,5,6,12,3,2,4,4]\n",
    "\n",
    "# def factor(num):\n",
    "#     nums_len = len(nums)\n",
    "#     prev_pos, curr_pos = 0, 0\n",
    "#     for index in range(1, nums_len):\n",
    "        \n",
    "#         if nums[index] != nums[prev_pos]:\n",
    "#             curr_pos += 1\n",
    "#             nums[curr_pos] = nums[index]\n",
    "        \n",
    "#         prev_pos += 1\n",
    "        \n",
    "#     return curr_pos + 1\n",
    "\n",
    "# factor(nums)\n",
    "\n",
    "\n",
    "\n",
    "#DAY 2\n",
    "# nums = [3,2,2,3]\n",
    "# val = 3\n",
    "# current= 0\n",
    "\n",
    "# nums_len = len(nums)\n",
    "# for i in range(nums_len):\n",
    "#     if nums[i] != val:\n",
    "#         nums[current], nums[i] = nums[i], nums[current]\n",
    "#         current +=1\n",
    "# del nums[current:]\n",
    "\n",
    "# nums_len = len(nums)\n",
    "#         out = []\n",
    "#         for i in nums:\n",
    "#             if i != val:\n",
    "#                 out.append(i)\n",
    "                \n",
    "#         for i in range(len(out)):\n",
    "#             nums[i] = out[i]\n",
    "\n",
    "\n",
    "\n",
    "\n",
    "#DAY 3\n",
    "\n",
    "# def reverse_number(x):\n",
    "#     if x < 0:\n",
    "#         return False\n",
    "\n",
    "#     reversed_number = 0\n",
    "#     number = x\n",
    "#     while number != 0:\n",
    "#         digit = number % 10\n",
    "#         reversed_number = reversed_number * 10 + digit\n",
    "#         number //= 10\n",
    "\n",
    "#     if reversed_number == x:\n",
    "#         return True"
   ]
  },
  {
   "cell_type": "code",
   "execution_count": 49,
   "metadata": {},
   "outputs": [
    {
     "ename": "RuntimeError",
     "evalue": "dictionary changed size during iteration",
     "output_type": "error",
     "traceback": [
      "\u001b[1;31m---------------------------------------------------------------------------\u001b[0m",
      "\u001b[1;31mRuntimeError\u001b[0m                              Traceback (most recent call last)",
      "\u001b[1;32mc:\\Users\\Godwin\\Documents\\Workflow\\ML Zoomcamp\\Evaluation Metrics\\Churn-Prediction.ipynb Cell 57\u001b[0m in \u001b[0;36m<cell line: 10>\u001b[1;34m()\u001b[0m\n\u001b[0;32m     <a href='vscode-notebook-cell:/c%3A/Users/Godwin/Documents/Workflow/ML%20Zoomcamp/Evaluation%20Metrics/Churn-Prediction.ipynb#Y110sZmlsZQ%3D%3D?line=9'>10</a>\u001b[0m \u001b[39mfor\u001b[39;00m i \u001b[39min\u001b[39;00m \u001b[39mrange\u001b[39m(\u001b[39m2\u001b[39m):\n\u001b[0;32m     <a href='vscode-notebook-cell:/c%3A/Users/Godwin/Documents/Workflow/ML%20Zoomcamp/Evaluation%20Metrics/Churn-Prediction.ipynb#Y110sZmlsZQ%3D%3D?line=10'>11</a>\u001b[0m     max_val \u001b[39m=\u001b[39m \u001b[39mmax\u001b[39m(number\u001b[39m.\u001b[39mvalues())\n\u001b[1;32m---> <a href='vscode-notebook-cell:/c%3A/Users/Godwin/Documents/Workflow/ML%20Zoomcamp/Evaluation%20Metrics/Churn-Prediction.ipynb#Y110sZmlsZQ%3D%3D?line=11'>12</a>\u001b[0m     \u001b[39mfor\u001b[39;00m u \u001b[39min\u001b[39;00m number:\n\u001b[0;32m     <a href='vscode-notebook-cell:/c%3A/Users/Godwin/Documents/Workflow/ML%20Zoomcamp/Evaluation%20Metrics/Churn-Prediction.ipynb#Y110sZmlsZQ%3D%3D?line=12'>13</a>\u001b[0m         \u001b[39mif\u001b[39;00m number[u] \u001b[39m==\u001b[39m max_val:\n\u001b[0;32m     <a href='vscode-notebook-cell:/c%3A/Users/Godwin/Documents/Workflow/ML%20Zoomcamp/Evaluation%20Metrics/Churn-Prediction.ipynb#Y110sZmlsZQ%3D%3D?line=13'>14</a>\u001b[0m             out \u001b[39m=\u001b[39m out \u001b[39m+\u001b[39m (u\u001b[39m*\u001b[39mmax_val)\n",
      "\u001b[1;31mRuntimeError\u001b[0m: dictionary changed size during iteration"
     ]
    }
   ],
   "source": [
    "s = 'tree'\n",
    "\n",
    "number = {}\n",
    "for i in s:\n",
    "    if i not in number.keys():\n",
    "        number[i] = s.count(i)\n",
    "\n",
    "out = ''\n",
    "\n",
    "for i in range(2):\n",
    "    max_val = max(number.values())\n",
    "    for u in number:\n",
    "        if number[u] == max_val:\n",
    "            out = out + (u*max_val)\n",
    "            number.pop(u)"
   ]
  },
  {
   "cell_type": "code",
   "execution_count": null,
   "metadata": {},
   "outputs": [
    {
     "name": "stdout",
     "output_type": "stream",
     "text": [
      "eetr\n"
     ]
    }
   ],
   "source": [
    "print(out)"
   ]
  },
  {
   "cell_type": "code",
   "execution_count": null,
   "metadata": {},
   "outputs": [],
   "source": []
  }
 ],
 "metadata": {
  "kernelspec": {
   "display_name": "Python 3.9.13 ('Tensorflow')",
   "language": "python",
   "name": "python3"
  },
  "language_info": {
   "codemirror_mode": {
    "name": "ipython",
    "version": 3
   },
   "file_extension": ".py",
   "mimetype": "text/x-python",
   "name": "python",
   "nbconvert_exporter": "python",
   "pygments_lexer": "ipython3",
   "version": "3.9.13"
  },
  "orig_nbformat": 4,
  "vscode": {
   "interpreter": {
    "hash": "a2031be23302a6f80daad80b84b83a86f535e1c11907b65b4c4b25f3c409004f"
   }
  }
 },
 "nbformat": 4,
 "nbformat_minor": 2
}
