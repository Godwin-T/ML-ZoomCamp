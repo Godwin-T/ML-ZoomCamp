{
 "cells": [
  {
   "cell_type": "code",
   "execution_count": 1,
   "metadata": {},
   "outputs": [],
   "source": [
    "import wget\n",
    "import pandas as pd\n",
    "import numpy as np\n",
    "import matplotlib.pyplot as plt\n",
    "import seaborn as sns\n",
    "from sklearn.model_selection import train_test_split\n",
    "from sklearn.feature_extraction import DictVectorizer\n",
    "from sklearn.ensemble import RandomForestClassifier\n",
    "from sklearn.metrics import roc_auc_score\n",
    "import warnings\n",
    "warnings.filterwarnings('ignore')"
   ]
  },
  {
   "cell_type": "code",
   "execution_count": 13,
   "metadata": {},
   "outputs": [],
   "source": [
    "df = pd.read_csv('transformed_data.csv', index_col='Unnamed: 0')\n",
    "\n",
    "cat_col = ['home','marital','records', 'job']\n",
    "num_col = ['seniority', 'time', 'age', 'expenses', \n",
    "            'income', 'assets', 'debt', 'amount', 'price']"
   ]
  },
  {
   "cell_type": "code",
   "execution_count": 14,
   "metadata": {},
   "outputs": [],
   "source": [
    "full_train_df, full_test_df = train_test_split(df, test_size =0.2, random_state=11)\n",
    "full_train_df, full_val_df = train_test_split(full_train_df, test_size = 0.25, random_state=11)\n",
    "\n",
    "train_df = full_train_df.reset_index(drop = True)\n",
    "test_df = full_test_df.reset_index(drop = True)\n",
    "val_df = full_val_df.reset_index(drop = True)\n",
    "\n",
    "y_train = (train_df['status'] == 'default').astype('int')\n",
    "y_test = (test_df['status'] == 'default').astype('int')\n",
    "y_val = (val_df['status'] == 'default').astype('int')\n",
    "\n",
    "dv = DictVectorizer(sparse = False)\n",
    "dv.fit(train_df[cat_col + num_col].to_dict(orient = 'records'))\n",
    "feature_names = dv.get_feature_names()\n",
    "\n",
    "X_train = dv.transform(train_df[cat_col + num_col].to_dict(orient = 'records'))\n",
    "X_test = dv.transform(test_df[cat_col + num_col].to_dict(orient = 'records'))\n",
    "X_val = dv.transform(val_df[cat_col + num_col].to_dict(orient = 'records'))\n",
    "\n",
    "\n",
    "del train_df['status']\n",
    "del test_df['status']\n",
    "del val_df['status']"
   ]
  },
  {
   "cell_type": "code",
   "execution_count": 15,
   "metadata": {},
   "outputs": [
    {
     "data": {
      "text/plain": [
       "{'seniority': 3,\n",
       " 'home': 'rent',\n",
       " 'time': 36,\n",
       " 'age': 61,\n",
       " 'marital': 'married',\n",
       " 'records': 'no_rec',\n",
       " 'job': 1,\n",
       " 'expenses': 41,\n",
       " 'income': 57.0,\n",
       " 'assets': 12000.0,\n",
       " 'debt': 0.0,\n",
       " 'amount': 2500,\n",
       " 'price': 3559}"
      ]
     },
     "execution_count": 15,
     "metadata": {},
     "output_type": "execute_result"
    }
   ],
   "source": [
    "train_df.iloc[0].to_dict()"
   ]
  },
  {
   "cell_type": "code",
   "execution_count": 5,
   "metadata": {},
   "outputs": [],
   "source": [
    "model = RandomForestClassifier(n_estimators=10)\n",
    "model.fit(X_train, y_train)\n",
    "pred = model.predict_proba(X_val)[:,1]\n",
    "auc = roc_auc_score(y_val, pred)"
   ]
  },
  {
   "cell_type": "code",
   "execution_count": 6,
   "metadata": {},
   "outputs": [],
   "source": [
    "# scores = []\n",
    "\n",
    "# for n in range (10,200,10):\n",
    "#         model = RandomForestClassifier(n_estimators=n, random_state=1)\n",
    "#         model.fit(X_train, y_train)\n",
    "#         pred = model.predict_proba(X_val)[:,1]\n",
    "#         auc = roc_auc_score(y_val, pred)\n",
    "#         scores.append([n,auc])\n",
    "        \n",
    "#         print('n_trees == %4s    Validation data == %.3f' % (n,auc))\n",
    "#         print()"
   ]
  },
  {
   "cell_type": "code",
   "execution_count": 7,
   "metadata": {},
   "outputs": [],
   "source": [
    "# output = pd.DataFrame(scores, columns = ['no_estimators', 'auc_score'])\n",
    "# output = output.sort_values('auc_score', ascending= False).reset_index(drop= True)\n",
    "\n",
    "# plt.plot(output.no_estimators, output.auc_score)"
   ]
  },
  {
   "cell_type": "code",
   "execution_count": 8,
   "metadata": {},
   "outputs": [
    {
     "name": "stdout",
     "output_type": "stream",
     "text": [
      "0.8299669958837562\n"
     ]
    }
   ],
   "source": [
    "model = RandomForestClassifier(n_estimators=60, max_depth = 11, min_samples_leaf=3, random_state=1)\n",
    "model.fit(X_train, y_train)\n",
    "pred = model.predict_proba(X_val)[:,1]\n",
    "auc = roc_auc_score(y_val, pred)\n",
    "print(auc)"
   ]
  },
  {
   "cell_type": "code",
   "execution_count": 11,
   "metadata": {},
   "outputs": [
    {
     "data": {
      "text/plain": [
       "Model(tag=\"credict_risk_rf:arbrefcrfkdkuaav\", path=\"/home/godwin/bentoml/models/credict_risk_rf/arbrefcrfkdkuaav/\")"
      ]
     },
     "execution_count": 11,
     "metadata": {},
     "output_type": "execute_result"
    }
   ],
   "source": [
    "import bentoml\n",
    "bentoml.sklearn.save_model('credict_risk_rf', model, \n",
    "                                custom_objects={'dictvectorizer':dv})"
   ]
  },
  {
   "cell_type": "code",
   "execution_count": null,
   "metadata": {},
   "outputs": [],
   "source": [
    "bentoml.sklearn.save_model"
   ]
  }
 ],
 "metadata": {
  "kernelspec": {
   "display_name": "Python 3.9.13 ('base')",
   "language": "python",
   "name": "python3"
  },
  "language_info": {
   "codemirror_mode": {
    "name": "ipython",
    "version": 3
   },
   "file_extension": ".py",
   "mimetype": "text/x-python",
   "name": "python",
   "nbconvert_exporter": "python",
   "pygments_lexer": "ipython3",
   "version": "3.9.13"
  },
  "orig_nbformat": 4,
  "vscode": {
   "interpreter": {
    "hash": "a4ea388b8135a50e288c61b1de9789b1851672ad704036e9b2d3c631698e1ffe"
   }
  }
 },
 "nbformat": 4,
 "nbformat_minor": 2
}
