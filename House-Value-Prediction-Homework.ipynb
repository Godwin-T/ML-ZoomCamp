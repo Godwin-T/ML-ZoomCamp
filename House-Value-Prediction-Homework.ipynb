{
 "cells": [
  {
   "cell_type": "markdown",
   "metadata": {},
   "source": [
    "Importing Libraries"
   ]
  },
  {
   "cell_type": "code",
   "execution_count": 1,
   "metadata": {},
   "outputs": [],
   "source": [
    "import pandas as pd\n",
    "import numpy as np\n",
    "import matplotlib.pyplot as plt\n",
    "import seaborn as sns\n",
    "from sklearn.model_selection import train_test_split\n",
    "from sklearn.linear_model import LinearRegression\n",
    "import warnings\n",
    "warnings.filterwarnings('ignore')"
   ]
  },
  {
   "cell_type": "markdown",
   "metadata": {},
   "source": [
    "Loading Dataset"
   ]
  },
  {
   "cell_type": "code",
   "execution_count": 2,
   "metadata": {},
   "outputs": [
    {
     "data": {
      "text/html": [
       "<div>\n",
       "<style scoped>\n",
       "    .dataframe tbody tr th:only-of-type {\n",
       "        vertical-align: middle;\n",
       "    }\n",
       "\n",
       "    .dataframe tbody tr th {\n",
       "        vertical-align: top;\n",
       "    }\n",
       "\n",
       "    .dataframe thead th {\n",
       "        text-align: right;\n",
       "    }\n",
       "</style>\n",
       "<table border=\"1\" class=\"dataframe\">\n",
       "  <thead>\n",
       "    <tr style=\"text-align: right;\">\n",
       "      <th></th>\n",
       "      <th>longitude</th>\n",
       "      <th>latitude</th>\n",
       "      <th>housing_median_age</th>\n",
       "      <th>total_rooms</th>\n",
       "      <th>total_bedrooms</th>\n",
       "      <th>population</th>\n",
       "      <th>households</th>\n",
       "      <th>median_income</th>\n",
       "      <th>median_house_value</th>\n",
       "      <th>ocean_proximity</th>\n",
       "    </tr>\n",
       "  </thead>\n",
       "  <tbody>\n",
       "    <tr>\n",
       "      <th>0</th>\n",
       "      <td>-122.23</td>\n",
       "      <td>37.88</td>\n",
       "      <td>41.0</td>\n",
       "      <td>880.0</td>\n",
       "      <td>129.0</td>\n",
       "      <td>322.0</td>\n",
       "      <td>126.0</td>\n",
       "      <td>8.3252</td>\n",
       "      <td>452600.0</td>\n",
       "      <td>NEAR BAY</td>\n",
       "    </tr>\n",
       "    <tr>\n",
       "      <th>1</th>\n",
       "      <td>-122.22</td>\n",
       "      <td>37.86</td>\n",
       "      <td>21.0</td>\n",
       "      <td>7099.0</td>\n",
       "      <td>1106.0</td>\n",
       "      <td>2401.0</td>\n",
       "      <td>1138.0</td>\n",
       "      <td>8.3014</td>\n",
       "      <td>358500.0</td>\n",
       "      <td>NEAR BAY</td>\n",
       "    </tr>\n",
       "    <tr>\n",
       "      <th>2</th>\n",
       "      <td>-122.24</td>\n",
       "      <td>37.85</td>\n",
       "      <td>52.0</td>\n",
       "      <td>1467.0</td>\n",
       "      <td>190.0</td>\n",
       "      <td>496.0</td>\n",
       "      <td>177.0</td>\n",
       "      <td>7.2574</td>\n",
       "      <td>352100.0</td>\n",
       "      <td>NEAR BAY</td>\n",
       "    </tr>\n",
       "    <tr>\n",
       "      <th>3</th>\n",
       "      <td>-122.25</td>\n",
       "      <td>37.85</td>\n",
       "      <td>52.0</td>\n",
       "      <td>1274.0</td>\n",
       "      <td>235.0</td>\n",
       "      <td>558.0</td>\n",
       "      <td>219.0</td>\n",
       "      <td>5.6431</td>\n",
       "      <td>341300.0</td>\n",
       "      <td>NEAR BAY</td>\n",
       "    </tr>\n",
       "    <tr>\n",
       "      <th>4</th>\n",
       "      <td>-122.25</td>\n",
       "      <td>37.85</td>\n",
       "      <td>52.0</td>\n",
       "      <td>1627.0</td>\n",
       "      <td>280.0</td>\n",
       "      <td>565.0</td>\n",
       "      <td>259.0</td>\n",
       "      <td>3.8462</td>\n",
       "      <td>342200.0</td>\n",
       "      <td>NEAR BAY</td>\n",
       "    </tr>\n",
       "  </tbody>\n",
       "</table>\n",
       "</div>"
      ],
      "text/plain": [
       "   longitude  latitude  housing_median_age  total_rooms  total_bedrooms  \\\n",
       "0    -122.23     37.88                41.0        880.0           129.0   \n",
       "1    -122.22     37.86                21.0       7099.0          1106.0   \n",
       "2    -122.24     37.85                52.0       1467.0           190.0   \n",
       "3    -122.25     37.85                52.0       1274.0           235.0   \n",
       "4    -122.25     37.85                52.0       1627.0           280.0   \n",
       "\n",
       "   population  households  median_income  median_house_value ocean_proximity  \n",
       "0       322.0       126.0         8.3252            452600.0        NEAR BAY  \n",
       "1      2401.0      1138.0         8.3014            358500.0        NEAR BAY  \n",
       "2       496.0       177.0         7.2574            352100.0        NEAR BAY  \n",
       "3       558.0       219.0         5.6431            341300.0        NEAR BAY  \n",
       "4       565.0       259.0         3.8462            342200.0        NEAR BAY  "
      ]
     },
     "execution_count": 2,
     "metadata": {},
     "output_type": "execute_result"
    }
   ],
   "source": [
    "data = pd.read_csv(\"C:/Users/Godwin/Downloads/Califonia Data/Califonia Housing Data/housing.csv\")\n",
    "data.head()"
   ]
  },
  {
   "cell_type": "markdown",
   "metadata": {},
   "source": [
    "Checking for null Values"
   ]
  },
  {
   "cell_type": "code",
   "execution_count": 3,
   "metadata": {},
   "outputs": [
    {
     "data": {
      "text/plain": [
       "longitude               0\n",
       "latitude                0\n",
       "housing_median_age      0\n",
       "total_rooms             0\n",
       "total_bedrooms        207\n",
       "population              0\n",
       "households              0\n",
       "median_income           0\n",
       "median_house_value      0\n",
       "ocean_proximity         0\n",
       "dtype: int64"
      ]
     },
     "execution_count": 3,
     "metadata": {},
     "output_type": "execute_result"
    }
   ],
   "source": [
    "data.isnull().sum()"
   ]
  },
  {
   "cell_type": "code",
   "execution_count": 4,
   "metadata": {},
   "outputs": [
    {
     "name": "stdout",
     "output_type": "stream",
     "text": [
      "Total number of missing value is  207\n"
     ]
    }
   ],
   "source": [
    "print('Total number of missing value is ', data.isnull().sum().sum())"
   ]
  },
  {
   "cell_type": "code",
   "execution_count": 5,
   "metadata": {},
   "outputs": [
    {
     "name": "stdout",
     "output_type": "stream",
     "text": [
      "<class 'pandas.core.frame.DataFrame'>\n",
      "RangeIndex: 20640 entries, 0 to 20639\n",
      "Data columns (total 10 columns):\n",
      " #   Column              Non-Null Count  Dtype  \n",
      "---  ------              --------------  -----  \n",
      " 0   longitude           20640 non-null  float64\n",
      " 1   latitude            20640 non-null  float64\n",
      " 2   housing_median_age  20640 non-null  float64\n",
      " 3   total_rooms         20640 non-null  float64\n",
      " 4   total_bedrooms      20433 non-null  float64\n",
      " 5   population          20640 non-null  float64\n",
      " 6   households          20640 non-null  float64\n",
      " 7   median_income       20640 non-null  float64\n",
      " 8   median_house_value  20640 non-null  float64\n",
      " 9   ocean_proximity     20640 non-null  object \n",
      "dtypes: float64(9), object(1)\n",
      "memory usage: 1.6+ MB\n"
     ]
    }
   ],
   "source": [
    "data.info()"
   ]
  },
  {
   "cell_type": "markdown",
   "metadata": {},
   "source": [
    "Visualizing relationship between numerical columns and target variable"
   ]
  },
  {
   "cell_type": "code",
   "execution_count": 6,
   "metadata": {},
   "outputs": [],
   "source": [
    "# numerical_col = data.dtypes[data.dtypes != 'object'].index.tolist()\n",
    "\n",
    "\n",
    "# plt.figure(figsize=(25,15))\n",
    "# rows = int(len(numerical_col)/2 +1)\n",
    "# for i,col in enumerate(numerical_col):\n",
    "#     plt.subplot(rows, 2, i+1)\n",
    "#     sns.scatterplot(x = col, y = 'median_house_value', data = data )\n"
   ]
  },
  {
   "cell_type": "markdown",
   "metadata": {},
   "source": [
    "The median_house_value and median_income are positively correlated\n",
    "\n",
    "Plotting correlation with heat map"
   ]
  },
  {
   "cell_type": "code",
   "execution_count": 7,
   "metadata": {},
   "outputs": [],
   "source": [
    "# plt.figure(figsize=(15,10))\n",
    "# corr = data.corr(method = 'pearson')\n",
    "# sns.heatmap(corr, annot = True)"
   ]
  },
  {
   "cell_type": "markdown",
   "metadata": {},
   "source": [
    "Visualizing Categorical variable and the target variable"
   ]
  },
  {
   "cell_type": "code",
   "execution_count": 8,
   "metadata": {},
   "outputs": [],
   "source": [
    "#sns.boxplot(x = 'ocean_proximity', y = 'median_house_value', data = data)"
   ]
  },
  {
   "cell_type": "markdown",
   "metadata": {},
   "source": [
    "Houses on the Island are more expensive compared to the other houses and inland houses are also relatively cheap compared with the others\n",
    "\n",
    "Ploting target variable distribution"
   ]
  },
  {
   "cell_type": "code",
   "execution_count": 9,
   "metadata": {},
   "outputs": [
    {
     "data": {
      "text/plain": [
       "<AxesSubplot: xlabel='median_house_value', ylabel='Count'>"
      ]
     },
     "execution_count": 9,
     "metadata": {},
     "output_type": "execute_result"
    },
    {
     "data": {
      "image/png": "[encoded data removed]",
      "text/plain": [
       "<Figure size 640x480 with 1 Axes>"
      ]
     },
     "metadata": {},
     "output_type": "display_data"
    }
   ],
   "source": [
    "sns.histplot(np.log1p(data['median_house_value']), bins = 30)"
   ]
  },
  {
   "cell_type": "code",
   "execution_count": 10,
   "metadata": {},
   "outputs": [],
   "source": [
    "#Dropping categorical Column\n",
    "data.drop(['ocean_proximity'], axis = 1, inplace = True)"
   ]
  },
  {
   "cell_type": "code",
   "execution_count": 11,
   "metadata": {},
   "outputs": [
    {
     "data": {
      "text/plain": [
       "1166.0"
      ]
     },
     "execution_count": 11,
     "metadata": {},
     "output_type": "execute_result"
    }
   ],
   "source": [
    "data['population'].median()"
   ]
  },
  {
   "cell_type": "markdown",
   "metadata": {},
   "source": [
    "The median of the population column is 1166.0\n",
    "\n",
    "Splitting Dataset"
   ]
  },
  {
   "cell_type": "code",
   "execution_count": 12,
   "metadata": {},
   "outputs": [],
   "source": [
    "def splitting_data(df):\n",
    "\n",
    "    df = df.copy()\n",
    "        \n",
    "    n = len(df)\n",
    "    n_test = int(n * 0.2)\n",
    "    n_val = int(n * 0.2)\n",
    "    n_train = n - n_test - n_val\n",
    "\n",
    "    np.random.seed(42)\n",
    "    idx = np.arange(n)\n",
    "    np.random.shuffle(idx)\n",
    "\n",
    "    train_df = df.iloc[idx[:n_train]]\n",
    "    test_df = df.iloc[idx[n_train: n_train + n_test]]\n",
    "    val_df = df.iloc[idx[n_train + n_test: ]]\n",
    "\n",
    "    y_train = np.log1p(train_df['median_house_value'])\n",
    "    y_test = np.log1p(test_df['median_house_value'])\n",
    "    y_val = np.log1p(val_df['median_house_value'])\n",
    "\n",
    "    del train_df['median_house_value']\n",
    "    del test_df['median_house_value']\n",
    "    del val_df['median_house_value']\n",
    "\n",
    "    #Filling missing values with 0\n",
    "    train_df.fillna(0, inplace = True)\n",
    "    test_df.fillna(0, inplace = True)\n",
    "    val_df.fillna(0, inplace = True)\n",
    "\n",
    "    return train_df,y_train, test_df,y_test, val_df, y_val"
   ]
  },
  {
   "cell_type": "markdown",
   "metadata": {},
   "source": [
    "Building Model"
   ]
  },
  {
   "cell_type": "code",
   "execution_count": 13,
   "metadata": {},
   "outputs": [],
   "source": [
    "def linear_regression(data, result):\n",
    "    ones = np.ones(data.shape[0])\n",
    "    data = np.column_stack([ones, data])\n",
    "\n",
    "    XTX = np.dot(data.T, data)\n",
    "    inverse = np.linalg.inv(XTX)\n",
    "    w = np.dot(inverse,data.T)\n",
    "    w = np.dot(w,result)\n",
    "    return w[0], w[1:]\n",
    "\n",
    "def rms(actual, predicted):\n",
    "    rms = actual - predicted\n",
    "    rms = np.square(rms)\n",
    "    rms = rms.mean()\n",
    "\n",
    "    return np.sqrt(rms)"
   ]
  },
  {
   "cell_type": "code",
   "execution_count": 14,
   "metadata": {},
   "outputs": [],
   "source": [
    "def splitting_data_mean(df):\n",
    "\n",
    "    df = df.copy()\n",
    "        \n",
    "    n = len(df)\n",
    "    n_test = int(n * 0.2)\n",
    "    n_val = int(n * 0.2)\n",
    "    n_train = n - n_test - n_val\n",
    "\n",
    "    np.random.seed(42)\n",
    "    idx = np.arange(n)\n",
    "    np.random.shuffle(idx)\n",
    "\n",
    "    train_df = df.iloc[idx[:n_train]]\n",
    "    test_df = df.iloc[idx[n_train: n_train + n_test]]\n",
    "    val_df = df.iloc[idx[n_train + n_test: ]]\n",
    "\n",
    "    y_train = np.log1p(train_df['median_house_value'])\n",
    "    y_test = np.log1p(test_df['median_house_value'])\n",
    "    y_val = np.log1p(val_df['median_house_value'])\n",
    "\n",
    "    del train_df['median_house_value']\n",
    "    del test_df['median_house_value']\n",
    "    del val_df['median_house_value']\n",
    "\n",
    "\n",
    "    #Filling data with mean\n",
    "    mean = train_df['total_bedrooms'].mean()\n",
    "    train_df.fillna(mean, inplace = True)\n",
    "    test_df.fillna(mean, inplace = True)\n",
    "    val_df.fillna(mean, inplace = True)\n",
    "\n",
    "    return train_df,y_train, test_df,y_test, val_df, y_val"
   ]
  },
  {
   "cell_type": "markdown",
   "metadata": {},
   "source": [
    "Checking Performance when filled with 0"
   ]
  },
  {
   "cell_type": "code",
   "execution_count": 15,
   "metadata": {},
   "outputs": [
    {
     "name": "stdout",
     "output_type": "stream",
     "text": [
      "The value of the root mean squared error without regulazation is  0.35\n"
     ]
    }
   ],
   "source": [
    "train_df,y_train, test_df,y_test, val_df, y_val = splitting_data(data)\n",
    "\n",
    "bias, w = linear_regression(train_df, y_train)\n",
    "predict = bias + val_df.dot(w)\n",
    "print(\"The value of the root mean squared error without regulazation is \", round(rms(y_val, predict),2))"
   ]
  },
  {
   "cell_type": "markdown",
   "metadata": {},
   "source": [
    "Checking Performance when filled the with mean"
   ]
  },
  {
   "cell_type": "code",
   "execution_count": 16,
   "metadata": {},
   "outputs": [
    {
     "name": "stdout",
     "output_type": "stream",
     "text": [
      "The value of the root mean squared error without regulazation is  0.35\n"
     ]
    }
   ],
   "source": [
    "train_df,y_train, test_df,y_test, val_df, y_val = splitting_data_mean(data)\n",
    "\n",
    "bias, w = linear_regression(train_df, y_train)\n",
    "predict = bias + val_df.dot(w)\n",
    "print(\"The value of the root mean squared error without regulazation is \", round(rms(y_val, predict),2))"
   ]
  },
  {
   "cell_type": "markdown",
   "metadata": {},
   "source": [
    "Building model with Regularization"
   ]
  },
  {
   "cell_type": "code",
   "execution_count": 17,
   "metadata": {},
   "outputs": [],
   "source": [
    "def linear_regression_regularised(x_train, result, r):\n",
    "    ones = np.ones(x_train.shape[0])\n",
    "    data = np.column_stack([ones, x_train])\n",
    "\n",
    "    XTX = np.dot(data.T, data)\n",
    "    XTZ = XTX + r * np.eye(XTX.shape[0])\n",
    "    inverse = np.linalg.inv(XTX)\n",
    "    out = np.dot(inverse,data.T)\n",
    "    w = np.dot(out,result)\n",
    "    return w[0], w[1:]"
   ]
  },
  {
   "cell_type": "markdown",
   "metadata": {},
   "source": [
    "Checking performance of model with regularization"
   ]
  },
  {
   "cell_type": "code",
   "execution_count": 18,
   "metadata": {},
   "outputs": [
    {
     "name": "stdout",
     "output_type": "stream",
     "text": [
      "The value of the root mean squared error with  0 regularization is  0.35\n",
      "The value of the root mean squared error with  1e-06 regularization is  0.35\n",
      "The value of the root mean squared error with  0.0001 regularization is  0.35\n",
      "The value of the root mean squared error with  0.001 regularization is  0.35\n",
      "The value of the root mean squared error with  0.01 regularization is  0.35\n",
      "The value of the root mean squared error with  0.1 regularization is  0.35\n",
      "The value of the root mean squared error with  1 regularization is  0.35\n",
      "The value of the root mean squared error with  5 regularization is  0.35\n",
      "The value of the root mean squared error with  10 regularization is  0.35\n"
     ]
    }
   ],
   "source": [
    "train_df,y_train, test_df,y_test, val_df, y_val = splitting_data_mean(data)\n",
    "\n",
    "#Using different regularization parameters\n",
    "regularization_parameters = [0, 0.000001, 0.0001, 0.001, 0.01, 0.1, 1, 5, 10]\n",
    "\n",
    "for i in regularization_parameters:\n",
    "    bias, w = linear_regression_regularised(train_df, y_train, i)\n",
    "    predict = bias + val_df.dot(w)\n",
    "    print(\"The value of the root mean squared error with \", i, \"regularization is \", round(rms(y_val, predict),2))\n"
   ]
  },
  {
   "cell_type": "markdown",
   "metadata": {},
   "source": [
    "Using different seed and computing the Standard Deviation"
   ]
  },
  {
   "cell_type": "code",
   "execution_count": 19,
   "metadata": {},
   "outputs": [],
   "source": [
    "def all_in_one(df, seed_value):\n",
    "\n",
    "   df = df.copy()\n",
    "      \n",
    "   n = len(df)\n",
    "   n_test = int(n * 0.2)\n",
    "   n_val = int(n * 0.2)\n",
    "   n_train = n - n_test - n_val\n",
    "\n",
    "   np.random.seed(seed_value)\n",
    "   idx = np.arange(n)\n",
    "   np.random.shuffle(idx)\n",
    "\n",
    "   train_df = df.iloc[idx[:n_train]]\n",
    "   test_df = df.iloc[idx[n_train: n_train + n_test]]\n",
    "   val_df = df.iloc[idx[n_train + n_test: ]]\n",
    "\n",
    "   y_train = np.log1p(train_df['median_house_value'])\n",
    "   y_test = np.log1p(test_df['median_house_value'])\n",
    "   y_val = np.log1p(val_df['median_house_value'])\n",
    "\n",
    "   del train_df['median_house_value']\n",
    "   del test_df['median_house_value']\n",
    "   del val_df['median_house_value']\n",
    "\n",
    "   train_df.fillna(0, inplace = True)\n",
    "   test_df.fillna(0, inplace = True)\n",
    "   val_df.fillna(0, inplace = True)\n",
    "\n",
    "   bias, w = linear_regression(train_df, y_train)\n",
    "   predict = bias + val_df.dot(w)\n",
    "   return round(rms(y_val, predict),2)"
   ]
  },
  {
   "cell_type": "code",
   "execution_count": 20,
   "metadata": {},
   "outputs": [
    {
     "name": "stdout",
     "output_type": "stream",
     "text": [
      "The standard deviation for the error using diggerent seed is  0.005\n"
     ]
    }
   ],
   "source": [
    "#List of seed values\n",
    "seeds = [0, 1, 2, 3, 4, 5, 6, 7, 8, 9]\n",
    "error = []\n",
    "for i in seeds:\n",
    "    error.append(all_in_one(data, i))\n",
    "\n",
    "std = round(np.std(error),3)\n",
    "print('The standard deviation for the error using diggerent seed is ', std)"
   ]
  },
  {
   "cell_type": "markdown",
   "metadata": {},
   "source": [
    "Using seed value of 9"
   ]
  },
  {
   "cell_type": "code",
   "execution_count": 21,
   "metadata": {},
   "outputs": [
    {
     "name": "stdout",
     "output_type": "stream",
     "text": [
      "The root mean squared error on the predicted data using a seed of 9 is  0.337\n"
     ]
    }
   ],
   "source": [
    "def all_in_one(df, seed_value):\n",
    "\n",
    "   df = df.copy()\n",
    "      \n",
    "   n = len(df)\n",
    "   n_test = int(n * 0.2)\n",
    "   n_val = int(n * 0.2)\n",
    "   n_train = n - n_test - n_val\n",
    "\n",
    "   np.random.seed(seed_value)\n",
    "   idx = np.arange(n)\n",
    "   np.random.seed(seed_value)\n",
    "   np.random.shuffle(idx)\n",
    "\n",
    "   train_df = df.iloc[idx[:n_train]]\n",
    "   test_df = df.iloc[idx[n_train: n_train + n_test]]\n",
    "   val_df = df.iloc[idx[n_train + n_test: ]]\n",
    "\n",
    "   y_train = np.log1p(train_df['median_house_value'])\n",
    "   y_test = np.log1p(test_df['median_house_value'])\n",
    "   y_val = np.log1p(val_df['median_house_value'])\n",
    "\n",
    "   del train_df['median_house_value']\n",
    "   del test_df['median_house_value']\n",
    "   del val_df['median_house_value']\n",
    "\n",
    "   train_df.fillna(0, inplace = True)\n",
    "   test_df.fillna(0, inplace = True)\n",
    "   val_df.fillna(0, inplace = True)\n",
    "\n",
    "   r = 0.001\n",
    "   bias, w = linear_regression_regularised(train_df, y_train, r)\n",
    "   predict = bias + test_df.dot(w)\n",
    "\n",
    "   return round(rms(y_test, predict), 3)\n",
    "\n",
    "error = all_in_one(data, 9)\n",
    "print('The root mean squared error on the predicted data using a seed of 9 is ', error)"
   ]
  }
 ],
 "metadata": {
  "kernelspec": {
   "display_name": "Python 3.9.13 ('Tensorflow')",
   "language": "python",
   "name": "python3"
  },
  "language_info": {
   "codemirror_mode": {
    "name": "ipython",
    "version": 3
   },
   "file_extension": ".py",
   "mimetype": "text/x-python",
   "name": "python",
   "nbconvert_exporter": "python",
   "pygments_lexer": "ipython3",
   "version": "3.9.13"
  },
  "orig_nbformat": 4,
  "vscode": {
   "interpreter": {
    "hash": "a2031be23302a6f80daad80b84b83a86f535e1c11907b65b4c4b25f3c409004f"
   }
  }
 },
 "nbformat": 4,
 "nbformat_minor": 2
}
