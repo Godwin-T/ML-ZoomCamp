{
 "cells": [
  {
   "cell_type": "code",
   "execution_count": 1,
   "metadata": {},
   "outputs": [],
   "source": [
    "import numpy as np\n",
    "import tensorflow as tf\n",
    "from tensorflow import keras\n",
    "from tensorflow.keras.preprocessing.image import load_img\n",
    "from tensorflow.keras.applications.xception import preprocess_input"
   ]
  },
  {
   "cell_type": "code",
   "execution_count": null,
   "metadata": {},
   "outputs": [],
   "source": [
    "model = keras.models.load_model(\"C:/Users/Godwin/Downloads/xception_v1_03_0.868.h5\")"
   ]
  },
  {
   "cell_type": "code",
   "execution_count": null,
   "metadata": {},
   "outputs": [],
   "source": [
    "path = \"C:/Users/Godwin/Documents/Workflow/MLZoomcamp/clothing-dataset-small/train/\"\n",
    "name = \"pants/1d407629-87e5-4702-b9fc-e3b19de93570.jpg\"\n",
    "img_path = path + name\n",
    "\n",
    "#img = load_img(img_path, target_size= (299,299,3))\n",
    "#img = np.array(img)\n",
    "#x = np.array([img])\n",
    "#x = preprocess_input(x)"
   ]
  },
  {
   "cell_type": "code",
   "execution_count": 2,
   "metadata": {},
   "outputs": [],
   "source": [
    "classes = ['dress',\n",
    "            'hat',\n",
    "            'longsleeve',\n",
    "            'outwear',\n",
    "            'pants',\n",
    "            'shirt',\n",
    "            'shoes',\n",
    "            'shorts',\n",
    "            'skirt',\n",
    "            't-shirt']\n",
    "#pred = model.predict(x)\n",
    "\n",
    "#out = dict(zip(classes, pred[0]))\n",
    "#out"
   ]
  },
  {
   "cell_type": "code",
   "execution_count": null,
   "metadata": {},
   "outputs": [],
   "source": [
    "converter = tf.lite.TFLiteConverter.from_keras_model(model)\n",
    "\n",
    "tflite = converter.convert()\n",
    "\n",
    "with open('lite_model.tflite', 'wb') as f:\n",
    "    f.write(tflite)"
   ]
  },
  {
   "cell_type": "code",
   "execution_count": 1,
   "metadata": {},
   "outputs": [],
   "source": [
    "import tensorflow.lite as tflite\n",
    "\n",
    "interpreter = tflite.Interpreter(model_path = './lite_model.tflite')\n",
    "interpreter.allocate_tensors()"
   ]
  },
  {
   "cell_type": "code",
   "execution_count": null,
   "metadata": {},
   "outputs": [],
   "source": [
    "input_index = interpreter.get_input_details()[0]['index']\n",
    "output_index = interpreter.get_output_details()[0]['index']\n",
    "\n",
    "interpreter.set_tensor(input_index, x)\n",
    "interpreter.invoke()\n",
    "\n",
    "preds = interpreter.get_tensor(output_index)\n",
    "\n",
    "out = dict(zip(classes, preds[0]))\n",
    "out"
   ]
  },
  {
   "cell_type": "markdown",
   "metadata": {},
   "source": [
    "Removing Dependencies"
   ]
  },
  {
   "cell_type": "code",
   "execution_count": null,
   "metadata": {},
   "outputs": [],
   "source": [
    "from PIL import Image\n",
    "\n",
    "with Image.open(img_path) as img:\n",
    "    img = img.resize((299,299), Image.NEAREST)\n",
    "\n",
    "def preprocess(img):\n",
    "    img/= 127.5\n",
    "    img -= 1\n",
    "    return img"
   ]
  },
  {
   "cell_type": "code",
   "execution_count": null,
   "metadata": {},
   "outputs": [],
   "source": [
    "img = np.array(img, dtype = 'float32')\n",
    "img = np.array([img])\n",
    "img = preprocess(img)\n",
    "\n",
    "interpreter.set_tensor(input_index, img)\n",
    "interpreter.invoke()\n",
    "\n",
    "preds = interpreter.get_tensor(output_index)\n",
    "\n",
    "out = dict(zip(classes, preds[0]))\n",
    "out"
   ]
  }
 ],
 "metadata": {
  "kernelspec": {
   "display_name": "Python 3.9.13 ('base')",
   "language": "python",
   "name": "python3"
  },
  "language_info": {
   "codemirror_mode": {
    "name": "ipython",
    "version": 3
   },
   "file_extension": ".py",
   "mimetype": "text/x-python",
   "name": "python",
   "nbconvert_exporter": "python",
   "pygments_lexer": "ipython3",
   "version": "3.9.13"
  },
  "orig_nbformat": 4,
  "vscode": {
   "interpreter": {
    "hash": "a4ea388b8135a50e288c61b1de9789b1851672ad704036e9b2d3c631698e1ffe"
   }
  }
 },
 "nbformat": 4,
 "nbformat_minor": 2
}
