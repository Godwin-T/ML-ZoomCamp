{
 "cells": [
  {
   "cell_type": "code",
   "execution_count": 17,
   "metadata": {},
   "outputs": [],
   "source": [
    "import wget\n",
    "import pandas as pd\n",
    "import numpy as np\n",
    "import matplotlib.pyplot as plt\n",
    "import seaborn as sns\n",
    "from sklearn.model_selection import train_test_split\n",
    "from sklearn.feature_extraction import DictVectorizer\n",
    "from sklearn.tree import DecisionTreeClassifier, export_text\n",
    "from sklearn.metrics import roc_auc_score\n",
    "import warnings\n",
    "warnings.filterwarnings('ignore')"
   ]
  },
  {
   "cell_type": "code",
   "execution_count": 2,
   "metadata": {},
   "outputs": [],
   "source": [
    "# name = 'creditscore.csv'\n",
    "# url = 'https://github.com/alexeygrigorev/mlbookcamp-code/raw/master/chapter-06-trees/CreditScoring.csv'\n",
    "# wget.download(url, name)"
   ]
  },
  {
   "cell_type": "code",
   "execution_count": 18,
   "metadata": {},
   "outputs": [],
   "source": [
    "df = pd.read_csv('creditscore.csv')\n",
    "#df.head()"
   ]
  },
  {
   "cell_type": "code",
   "execution_count": 19,
   "metadata": {},
   "outputs": [],
   "source": [
    "df.columns = df.columns.str.lower().str.replace(' ', '_')\n",
    "cat_cols = df.dtypes[df.dtypes == 'object'].index.tolist()\n",
    "\n",
    "for col in cat_cols:\n",
    "    df[col] = df[col].str.lower().str.replace(' ', '_')"
   ]
  },
  {
   "cell_type": "code",
   "execution_count": 20,
   "metadata": {},
   "outputs": [],
   "source": [
    "cat_col = ['home','marital','records', 'job']\n",
    "num_col = ['seniority', 'time', 'age', 'expenses', \n",
    "            'income', 'assets', 'debt', 'amount', 'price']\n",
    "\n",
    "status_mapping = {1:'ok', 2:'default', 0:'unk'}\n",
    "df['status'] = df['status'].map(status_mapping)\n",
    "\n",
    "home_mapping = {1:'rent', 2:'owner', 3:'priv', 4:'ignore', 5:'parents', 6:'others', 0:'unk'}\n",
    "df['home'] = df['home'].map(home_mapping)\n",
    "\n",
    "marital_mapping = {1:'single', 2:'married', 3:'widow', 4:'seperated', 5:'divorced', 0:'unk'}\n",
    "df['marital'] = df['marital'].map(marital_mapping)\n",
    "\n",
    "record_mapping = {1:'no_rec', 2:'yes_rec'}\n",
    "df['records'] = df['records'].map(record_mapping)\n",
    "\n",
    "job_mapping = {1:'fixed', 2:'parttime', 3:'freelance', 4:'others', 0:'unk'}"
   ]
  },
  {
   "cell_type": "code",
   "execution_count": 21,
   "metadata": {},
   "outputs": [],
   "source": [
    "#df.describe().round()"
   ]
  },
  {
   "cell_type": "code",
   "execution_count": 22,
   "metadata": {},
   "outputs": [],
   "source": [
    "for c in ['income', 'assets', 'debt']:\n",
    "    df[c] = df[c].replace(to_replace =99999999.0, value = np.nan)\n",
    "\n",
    "df.fillna(0, inplace = True)\n",
    "#df.isnull().sum()"
   ]
  },
  {
   "cell_type": "code",
   "execution_count": 11,
   "metadata": {},
   "outputs": [],
   "source": [
    "df = df[df['status'] != 0].reset_index(drop = True)\n",
    "df.to_csv('transformed_data.csv')"
   ]
  },
  {
   "cell_type": "code",
   "execution_count": 23,
   "metadata": {},
   "outputs": [],
   "source": [
    "full_train_df, full_test_df = train_test_split(df, test_size =0.2, random_state=11)\n",
    "full_train_df, full_val_df = train_test_split(full_train_df, test_size = 0.25, random_state=11)\n",
    "\n",
    "train_df = full_train_df.reset_index(drop = True)\n",
    "test_df = full_test_df.reset_index(drop = True)\n",
    "val_df = full_val_df.reset_index(drop = True)\n",
    "\n",
    "y_train = (train_df['status'] == 'default').astype('int')\n",
    "y_test = (test_df['status'] == 'default').astype('int')\n",
    "y_val = (val_df['status'] == 'default').astype('int')\n",
    "\n",
    "dv = DictVectorizer(sparse = False)\n",
    "dv.fit(train_df[cat_col + num_col].to_dict(orient = 'records'))\n",
    "feature_names = dv.get_feature_names()\n",
    "\n",
    "X_train = dv.transform(train_df[cat_col + num_col].to_dict(orient = 'records'))\n",
    "X_test = dv.transform(test_df[cat_col + num_col].to_dict(orient = 'records'))\n",
    "X_val = dv.transform(val_df[cat_col + num_col].to_dict(orient = 'records'))\n",
    "\n",
    "\n",
    "del train_df['status']\n",
    "del test_df['status']\n",
    "del val_df['status']"
   ]
  },
  {
   "cell_type": "code",
   "execution_count": 24,
   "metadata": {},
   "outputs": [
    {
     "data": {
      "text/plain": [
       "'ok'"
      ]
     },
     "execution_count": 24,
     "metadata": {},
     "output_type": "execute_result"
    }
   ],
   "source": [
    "def risk(data):\n",
    "    if data['records'] == 'yes':\n",
    "        if data['job'] == 'parttime':\n",
    "            return 'default'\n",
    "        else:\n",
    "            return 'ok'\n",
    "\n",
    "    else:\n",
    "        if data['assets'] > 6000:\n",
    "            return 'ok'\n",
    "        else:\n",
    "            return 'default'\n",
    "\n",
    "x = train_df.iloc[0].to_dict()\n",
    "risk(x)"
   ]
  },
  {
   "cell_type": "code",
   "execution_count": 25,
   "metadata": {},
   "outputs": [
    {
     "name": "stdout",
     "output_type": "stream",
     "text": [
      "1.0\n",
      "0.6416797488226059\n"
     ]
    }
   ],
   "source": [
    "model = DecisionTreeClassifier()\n",
    "model.fit(X_train, y_train)\n",
    "\n",
    "train_pred = model.predict_proba(X_train)[:,1]\n",
    "val_pred = model.predict_proba(X_val)[:,1]\n",
    "\n",
    "print(roc_auc_score(y_train, train_pred))\n",
    "print(roc_auc_score(y_val, val_pred))"
   ]
  },
  {
   "cell_type": "code",
   "execution_count": 26,
   "metadata": {},
   "outputs": [
    {
     "name": "stdout",
     "output_type": "stream",
     "text": [
      "0.7741250716750189\n",
      "0.7376574494122301\n"
     ]
    }
   ],
   "source": [
    "model = DecisionTreeClassifier(max_depth=3)\n",
    "model.fit(X_train, y_train)\n",
    "\n",
    "train_pred = model.predict_proba(X_train)[:,1]\n",
    "val_pred = model.predict_proba(X_val)[:,1]\n",
    "\n",
    "print(roc_auc_score(y_train, train_pred))\n",
    "print(roc_auc_score(y_val, val_pred))"
   ]
  },
  {
   "cell_type": "code",
   "execution_count": 27,
   "metadata": {},
   "outputs": [
    {
     "name": "stdout",
     "output_type": "stream",
     "text": [
      "0.8036576448892013\n",
      "0.7706090310139804\n"
     ]
    }
   ],
   "source": [
    "model = DecisionTreeClassifier(max_depth=4)\n",
    "model.fit(X_train, y_train)\n",
    "\n",
    "train_pred = model.predict_proba(X_train)[:,1]\n",
    "val_pred = model.predict_proba(X_val)[:,1]\n",
    "\n",
    "print(roc_auc_score(y_train, train_pred))\n",
    "print(roc_auc_score(y_val, val_pred))"
   ]
  },
  {
   "cell_type": "code",
   "execution_count": 28,
   "metadata": {},
   "outputs": [],
   "source": [
    "#print(export_text(model))"
   ]
  },
  {
   "cell_type": "code",
   "execution_count": 29,
   "metadata": {},
   "outputs": [
    {
     "name": "stdout",
     "output_type": "stream",
     "text": [
      "Validation data    1 == 0.613\n",
      "\n",
      "Validation data    2 == 0.690\n",
      "\n",
      "Validation data    3 == 0.738\n",
      "\n",
      "Validation data    4 == 0.771\n",
      "\n",
      "Validation data    5 == 0.769\n",
      "\n",
      "Validation data    6 == 0.749\n",
      "\n",
      "Validation data    7 == 0.738\n",
      "\n",
      "Validation data    9 == 0.699\n",
      "\n",
      "Validation data   45 == 0.650\n",
      "\n",
      "Validation data  200 == 0.640\n",
      "\n",
      "Validation data None == 0.632\n",
      "\n"
     ]
    }
   ],
   "source": [
    "depths = [1,2,3,4,5,6,7,9,45,200,None]\n",
    "\n",
    "for d in depths:\n",
    "    model = DecisionTreeClassifier(max_depth=d)\n",
    "    model.fit(X_train, y_train)\n",
    "\n",
    "    train_pred = model.predict_proba(X_train)[:,1]\n",
    "    val_pred = model.predict_proba(X_val)[:,1]\n",
    "\n",
    "    print('Validation data %4s == %.3f' % (d, roc_auc_score(y_val, val_pred)))\n",
    "    print()"
   ]
  },
  {
   "cell_type": "code",
   "execution_count": 33,
   "metadata": {},
   "outputs": [
    {
     "name": "stdout",
     "output_type": "stream",
     "text": [
      "Validation data    2 == 0.613\n",
      "\n",
      "Validation data    7 == 0.736\n",
      "\n",
      "Validation data    8 == 0.742\n",
      "\n",
      "Validation data    9 == 0.745\n",
      "\n",
      "Validation data   15 == 0.762\n",
      "\n",
      "Validation data   23 == 0.769\n",
      "\n",
      "Validation data   34 == 0.770\n",
      "\n",
      "Validation data   40 == 0.767\n",
      "\n"
     ]
    }
   ],
   "source": [
    "leaves = [2,7,8,9,15,23,34,40]\n",
    "\n",
    "for l in leaves:\n",
    "            \n",
    "    model = DecisionTreeClassifier(max_leaf_nodes= l)\n",
    "    model.fit(X_train, y_train)\n",
    "\n",
    "    val_pred = model.predict_proba(X_val)[:,1]\n",
    "    auc = roc_auc_score(y_val, val_pred)\n",
    "    print('Validation data %4s == %.3f' % (l, auc))\n",
    "    print()"
   ]
  },
  {
   "cell_type": "code",
   "execution_count": 34,
   "metadata": {},
   "outputs": [
    {
     "data": {
      "text/html": [
       "<div>\n",
       "<style scoped>\n",
       "    .dataframe tbody tr th:only-of-type {\n",
       "        vertical-align: middle;\n",
       "    }\n",
       "\n",
       "    .dataframe tbody tr th {\n",
       "        vertical-align: top;\n",
       "    }\n",
       "\n",
       "    .dataframe thead th {\n",
       "        text-align: right;\n",
       "    }\n",
       "</style>\n",
       "<table border=\"1\" class=\"dataframe\">\n",
       "  <thead>\n",
       "    <tr style=\"text-align: right;\">\n",
       "      <th></th>\n",
       "      <th>Depth</th>\n",
       "      <th>Leaf</th>\n",
       "      <th>Auc Score</th>\n",
       "    </tr>\n",
       "  </thead>\n",
       "  <tbody>\n",
       "    <tr>\n",
       "      <th>0</th>\n",
       "      <td>6</td>\n",
       "      <td>23</td>\n",
       "      <td>0.771703</td>\n",
       "    </tr>\n",
       "    <tr>\n",
       "      <th>1</th>\n",
       "      <td>4</td>\n",
       "      <td>15</td>\n",
       "      <td>0.770609</td>\n",
       "    </tr>\n",
       "    <tr>\n",
       "      <th>2</th>\n",
       "      <td>4</td>\n",
       "      <td>23</td>\n",
       "      <td>0.770609</td>\n",
       "    </tr>\n",
       "    <tr>\n",
       "      <th>3</th>\n",
       "      <td>4</td>\n",
       "      <td>34</td>\n",
       "      <td>0.770609</td>\n",
       "    </tr>\n",
       "    <tr>\n",
       "      <th>4</th>\n",
       "      <td>5</td>\n",
       "      <td>23</td>\n",
       "      <td>0.770179</td>\n",
       "    </tr>\n",
       "  </tbody>\n",
       "</table>\n",
       "</div>"
      ],
      "text/plain": [
       "   Depth  Leaf  Auc Score\n",
       "0      6    23   0.771703\n",
       "1      4    15   0.770609\n",
       "2      4    23   0.770609\n",
       "3      4    34   0.770609\n",
       "4      5    23   0.770179"
      ]
     },
     "execution_count": 34,
     "metadata": {},
     "output_type": "execute_result"
    }
   ],
   "source": [
    "depths = [4,5,6]\n",
    "leaves = [15,23,34]\n",
    "scores = []\n",
    "\n",
    "for d in depths:\n",
    "    for l in leaves:\n",
    "            \n",
    "        model = DecisionTreeClassifier(max_depth=d, max_leaf_nodes= l)\n",
    "        model.fit(X_train, y_train)\n",
    "\n",
    "        val_pred = model.predict_proba(X_val)[:,1]\n",
    "        auc = roc_auc_score(y_val, val_pred)\n",
    "\n",
    "        scores.append([d,l,auc])\n",
    "\n",
    "output = pd.DataFrame(scores, columns = ['Depth', 'Leaf', 'Auc Score'])\n",
    "output = output.sort_values('Auc Score', ascending=False)\n",
    "output = output.reset_index(drop=True)\n",
    "output.head()"
   ]
  },
  {
   "cell_type": "code",
   "execution_count": 35,
   "metadata": {},
   "outputs": [
    {
     "data": {
      "text/html": [
       "<div>\n",
       "<style scoped>\n",
       "    .dataframe tbody tr th:only-of-type {\n",
       "        vertical-align: middle;\n",
       "    }\n",
       "\n",
       "    .dataframe tbody tr th {\n",
       "        vertical-align: top;\n",
       "    }\n",
       "\n",
       "    .dataframe thead tr th {\n",
       "        text-align: left;\n",
       "    }\n",
       "\n",
       "    .dataframe thead tr:last-of-type th {\n",
       "        text-align: right;\n",
       "    }\n",
       "</style>\n",
       "<table border=\"1\" class=\"dataframe\">\n",
       "  <thead>\n",
       "    <tr>\n",
       "      <th></th>\n",
       "      <th colspan=\"3\" halign=\"left\">Auc Score</th>\n",
       "    </tr>\n",
       "    <tr>\n",
       "      <th>Depth</th>\n",
       "      <th>4</th>\n",
       "      <th>5</th>\n",
       "      <th>6</th>\n",
       "    </tr>\n",
       "    <tr>\n",
       "      <th>Leaf</th>\n",
       "      <th></th>\n",
       "      <th></th>\n",
       "      <th></th>\n",
       "    </tr>\n",
       "  </thead>\n",
       "  <tbody>\n",
       "    <tr>\n",
       "      <th>15</th>\n",
       "      <td>0.770609</td>\n",
       "      <td>0.767859</td>\n",
       "      <td>0.761647</td>\n",
       "    </tr>\n",
       "    <tr>\n",
       "      <th>23</th>\n",
       "      <td>0.770609</td>\n",
       "      <td>0.770179</td>\n",
       "      <td>0.771703</td>\n",
       "    </tr>\n",
       "    <tr>\n",
       "      <th>34</th>\n",
       "      <td>0.770609</td>\n",
       "      <td>0.769395</td>\n",
       "      <td>0.769932</td>\n",
       "    </tr>\n",
       "  </tbody>\n",
       "</table>\n",
       "</div>"
      ],
      "text/plain": [
       "      Auc Score                    \n",
       "Depth         4         5         6\n",
       "Leaf                               \n",
       "15     0.770609  0.767859  0.761647\n",
       "23     0.770609  0.770179  0.771703\n",
       "34     0.770609  0.769395  0.769932"
      ]
     },
     "execution_count": 35,
     "metadata": {},
     "output_type": "execute_result"
    }
   ],
   "source": [
    "output_pivot = output.pivot(index = 'Leaf', columns=['Depth'], values = ['Auc Score'])\n",
    "output_pivot"
   ]
  },
  {
   "cell_type": "code",
   "execution_count": 36,
   "metadata": {},
   "outputs": [
    {
     "name": "stdout",
     "output_type": "stream",
     "text": [
      "0.7717029876759911\n"
     ]
    }
   ],
   "source": [
    "model = DecisionTreeClassifier(max_depth=6, max_leaf_nodes=23)\n",
    "model.fit(X_train, y_train)\n",
    "\n",
    "prediction = model.predict_proba(X_val)[:,1]\n",
    "auc = roc_auc_score(y_val, prediction)\n",
    "print(auc)"
   ]
  },
  {
   "cell_type": "code",
   "execution_count": null,
   "metadata": {},
   "outputs": [],
   "source": []
  }
 ],
 "metadata": {
  "kernelspec": {
   "display_name": "Python 3.9.13 ('Tensorflow')",
   "language": "python",
   "name": "python3"
  },
  "language_info": {
   "codemirror_mode": {
    "name": "ipython",
    "version": 3
   },
   "file_extension": ".py",
   "mimetype": "text/x-python",
   "name": "python",
   "nbconvert_exporter": "python",
   "pygments_lexer": "ipython3",
   "version": "3.9.13"
  },
  "orig_nbformat": 4,
  "vscode": {
   "interpreter": {
    "hash": "a2031be23302a6f80daad80b84b83a86f535e1c11907b65b4c4b25f3c409004f"
   }
  }
 },
 "nbformat": 4,
 "nbformat_minor": 2
}
