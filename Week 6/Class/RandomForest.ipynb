{
 "cells": [
  {
   "cell_type": "code",
   "execution_count": 10,
   "metadata": {},
   "outputs": [],
   "source": [
    "import wget\n",
    "import pandas as pd\n",
    "import numpy as np\n",
    "import matplotlib.pyplot as plt\n",
    "import seaborn as sns\n",
    "from sklearn.model_selection import train_test_split\n",
    "from sklearn.feature_extraction import DictVectorizer\n",
    "from sklearn.ensemble import RandomForestClassifier\n",
    "from sklearn.metrics import roc_auc_score\n",
    "import warnings\n",
    "warnings.filterwarnings('ignore')"
   ]
  },
  {
   "cell_type": "code",
   "execution_count": 11,
   "metadata": {},
   "outputs": [],
   "source": [
    "df = pd.read_csv('transformed_data.csv')\n",
    "\n",
    "cat_col = ['home','marital','records', 'job']\n",
    "num_col = ['seniority', 'time', 'age', 'expenses', \n",
    "            'income', 'assets', 'debt', 'amount', 'price']"
   ]
  },
  {
   "cell_type": "code",
   "execution_count": 12,
   "metadata": {},
   "outputs": [],
   "source": [
    "full_train_df, full_test_df = train_test_split(df, test_size =0.2, random_state=11)\n",
    "full_train_df, full_val_df = train_test_split(full_train_df, test_size = 0.25, random_state=11)\n",
    "\n",
    "train_df = full_train_df.reset_index(drop = True)\n",
    "test_df = full_test_df.reset_index(drop = True)\n",
    "val_df = full_val_df.reset_index(drop = True)\n",
    "\n",
    "y_train = (train_df['status'] == 'default').astype('int')\n",
    "y_test = (test_df['status'] == 'default').astype('int')\n",
    "y_val = (val_df['status'] == 'default').astype('int')\n",
    "\n",
    "dv = DictVectorizer(sparse = False)\n",
    "dv.fit(train_df[cat_col + num_col].to_dict(orient = 'records'))\n",
    "feature_names = dv.get_feature_names()\n",
    "\n",
    "X_train = dv.transform(train_df[cat_col + num_col].to_dict(orient = 'records'))\n",
    "X_test = dv.transform(test_df[cat_col + num_col].to_dict(orient = 'records'))\n",
    "X_val = dv.transform(val_df[cat_col + num_col].to_dict(orient = 'records'))\n",
    "\n",
    "\n",
    "del train_df['status']\n",
    "del test_df['status']\n",
    "del val_df['status']"
   ]
  },
  {
   "cell_type": "code",
   "execution_count": 13,
   "metadata": {},
   "outputs": [
    {
     "name": "stdout",
     "output_type": "stream",
     "text": [
      "0.8126954597708254\n"
     ]
    }
   ],
   "source": [
    "model = RandomForestClassifier(n_estimators=10)\n",
    "model.fit(X_train, y_train)\n",
    "pred = model.predict_proba(X_val)[:,1]\n",
    "auc = roc_auc_score(y_val, pred)\n",
    "print(auc)"
   ]
  },
  {
   "cell_type": "code",
   "execution_count": 15,
   "metadata": {},
   "outputs": [
    {
     "name": "stdout",
     "output_type": "stream",
     "text": [
      "n_trees ==   10    Validation data == 0.788\n",
      "\n",
      "n_trees ==   20    Validation data == 0.803\n",
      "\n",
      "n_trees ==   30    Validation data == 0.813\n",
      "\n",
      "n_trees ==   40    Validation data == 0.818\n",
      "\n",
      "n_trees ==   50    Validation data == 0.820\n",
      "\n",
      "n_trees ==   60    Validation data == 0.822\n",
      "\n",
      "n_trees ==   70    Validation data == 0.823\n",
      "\n",
      "n_trees ==   80    Validation data == 0.823\n",
      "\n",
      "n_trees ==   90    Validation data == 0.822\n",
      "\n",
      "n_trees ==  100    Validation data == 0.822\n",
      "\n",
      "n_trees ==  110    Validation data == 0.822\n",
      "\n",
      "n_trees ==  120    Validation data == 0.823\n",
      "\n",
      "n_trees ==  130    Validation data == 0.824\n",
      "\n",
      "n_trees ==  140    Validation data == 0.824\n",
      "\n",
      "n_trees ==  150    Validation data == 0.824\n",
      "\n",
      "n_trees ==  160    Validation data == 0.823\n",
      "\n",
      "n_trees ==  170    Validation data == 0.824\n",
      "\n",
      "n_trees ==  180    Validation data == 0.824\n",
      "\n",
      "n_trees ==  190    Validation data == 0.825\n",
      "\n"
     ]
    }
   ],
   "source": [
    "scores = []\n",
    "\n",
    "for n in range (10,200,10):\n",
    "        model = RandomForestClassifier(n_estimators=n, random_state=1)\n",
    "        model.fit(X_train, y_train)\n",
    "        pred = model.predict_proba(X_val)[:,1]\n",
    "        auc = roc_auc_score(y_val, pred)\n",
    "        scores.append([n,auc])\n",
    "        \n",
    "        print('n_trees == %4s    Validation data == %.3f' % (n,auc))\n",
    "        print()"
   ]
  },
  {
   "cell_type": "code",
   "execution_count": 18,
   "metadata": {},
   "outputs": [
    {
     "data": {
      "text/plain": [
       "[<matplotlib.lines.Line2D at 0x1d4c31fab50>]"
      ]
     },
     "execution_count": 18,
     "metadata": {},
     "output_type": "execute_result"
    },
    {
     "data": {
      "image/png": "[encoded data removed]",
      "text/plain": [
       "<Figure size 640x480 with 1 Axes>"
      ]
     },
     "metadata": {},
     "output_type": "display_data"
    }
   ],
   "source": [
    "output = pd.DataFrame(scores, columns = ['no_estimators', 'auc_score'])\n",
    "output = output.sort_values('auc_score', ascending= False).reset_index(drop= True)\n",
    "\n",
    "plt.plot(output.no_estimators, output.auc_score)"
   ]
  },
  {
   "cell_type": "code",
   "execution_count": 21,
   "metadata": {},
   "outputs": [
    {
     "data": {
      "text/html": [
       "<div>\n",
       "<style scoped>\n",
       "    .dataframe tbody tr th:only-of-type {\n",
       "        vertical-align: middle;\n",
       "    }\n",
       "\n",
       "    .dataframe tbody tr th {\n",
       "        vertical-align: top;\n",
       "    }\n",
       "\n",
       "    .dataframe thead th {\n",
       "        text-align: right;\n",
       "    }\n",
       "</style>\n",
       "<table border=\"1\" class=\"dataframe\">\n",
       "  <thead>\n",
       "    <tr style=\"text-align: right;\">\n",
       "      <th></th>\n",
       "      <th>Depth</th>\n",
       "      <th>no_estimators</th>\n",
       "      <th>auc_score</th>\n",
       "    </tr>\n",
       "  </thead>\n",
       "  <tbody>\n",
       "    <tr>\n",
       "      <th>0</th>\n",
       "      <td>11</td>\n",
       "      <td>70</td>\n",
       "      <td>0.829633</td>\n",
       "    </tr>\n",
       "    <tr>\n",
       "      <th>1</th>\n",
       "      <td>14</td>\n",
       "      <td>70</td>\n",
       "      <td>0.826731</td>\n",
       "    </tr>\n",
       "    <tr>\n",
       "      <th>2</th>\n",
       "      <td>11</td>\n",
       "      <td>60</td>\n",
       "      <td>0.826580</td>\n",
       "    </tr>\n",
       "    <tr>\n",
       "      <th>3</th>\n",
       "      <td>8</td>\n",
       "      <td>60</td>\n",
       "      <td>0.826568</td>\n",
       "    </tr>\n",
       "    <tr>\n",
       "      <th>4</th>\n",
       "      <td>8</td>\n",
       "      <td>70</td>\n",
       "      <td>0.826506</td>\n",
       "    </tr>\n",
       "  </tbody>\n",
       "</table>\n",
       "</div>"
      ],
      "text/plain": [
       "   Depth  no_estimators  auc_score\n",
       "0     11             70   0.829633\n",
       "1     14             70   0.826731\n",
       "2     11             60   0.826580\n",
       "3      8             60   0.826568\n",
       "4      8             70   0.826506"
      ]
     },
     "execution_count": 21,
     "metadata": {},
     "output_type": "execute_result"
    }
   ],
   "source": [
    "scores = []\n",
    "\n",
    "for i in range(2,50,3):\n",
    "    for n in [30,40,50,60,70]:\n",
    "        model = RandomForestClassifier(n_estimators=n, max_depth = i, random_state=1)\n",
    "        model.fit(X_train, y_train)\n",
    "        pred = model.predict_proba(X_val)[:,1]\n",
    "        auc = roc_auc_score(y_val, pred)\n",
    "\n",
    "        scores.append([i,n,auc])\n",
    "\n",
    "output = pd.DataFrame(scores, columns = ['Depth', 'no_estimators', 'auc_score'])\n",
    "output = output.sort_values('auc_score', ascending= False).reset_index(drop= True)\n",
    "output.head()"
   ]
  },
  {
   "cell_type": "code",
   "execution_count": 27,
   "metadata": {},
   "outputs": [
    {
     "data": {
      "text/html": [
       "<div>\n",
       "<style scoped>\n",
       "    .dataframe tbody tr th:only-of-type {\n",
       "        vertical-align: middle;\n",
       "    }\n",
       "\n",
       "    .dataframe tbody tr th {\n",
       "        vertical-align: top;\n",
       "    }\n",
       "\n",
       "    .dataframe thead th {\n",
       "        text-align: right;\n",
       "    }\n",
       "</style>\n",
       "<table border=\"1\" class=\"dataframe\">\n",
       "  <thead>\n",
       "    <tr style=\"text-align: right;\">\n",
       "      <th></th>\n",
       "      <th>no_leaves</th>\n",
       "      <th>no_estimators</th>\n",
       "      <th>auc_score</th>\n",
       "    </tr>\n",
       "  </thead>\n",
       "  <tbody>\n",
       "    <tr>\n",
       "      <th>0</th>\n",
       "      <td>5</td>\n",
       "      <td>170</td>\n",
       "      <td>0.836382</td>\n",
       "    </tr>\n",
       "    <tr>\n",
       "      <th>1</th>\n",
       "      <td>5</td>\n",
       "      <td>160</td>\n",
       "      <td>0.836339</td>\n",
       "    </tr>\n",
       "    <tr>\n",
       "      <th>2</th>\n",
       "      <td>3</td>\n",
       "      <td>190</td>\n",
       "      <td>0.836030</td>\n",
       "    </tr>\n",
       "    <tr>\n",
       "      <th>3</th>\n",
       "      <td>5</td>\n",
       "      <td>140</td>\n",
       "      <td>0.835678</td>\n",
       "    </tr>\n",
       "    <tr>\n",
       "      <th>4</th>\n",
       "      <td>5</td>\n",
       "      <td>190</td>\n",
       "      <td>0.835567</td>\n",
       "    </tr>\n",
       "  </tbody>\n",
       "</table>\n",
       "</div>"
      ],
      "text/plain": [
       "   no_leaves  no_estimators  auc_score\n",
       "0          5            170   0.836382\n",
       "1          5            160   0.836339\n",
       "2          3            190   0.836030\n",
       "3          5            140   0.835678\n",
       "4          5            190   0.835567"
      ]
     },
     "execution_count": 27,
     "metadata": {},
     "output_type": "execute_result"
    }
   ],
   "source": [
    "scores = []\n",
    "\n",
    "max_depth = 11\n",
    "for s in [3,5,10,50]:\n",
    "    for n in range (10,200,10):\n",
    "        model = RandomForestClassifier(n_estimators=n, max_depth = max_depth, min_samples_leaf=s, random_state=1)\n",
    "        model.fit(X_train, y_train)\n",
    "        pred = model.predict_proba(X_val)[:,1]\n",
    "        auc = roc_auc_score(y_val, pred)\n",
    "\n",
    "        scores.append([s,n,auc])\n",
    "\n",
    "output = pd.DataFrame(scores, columns = ['no_leaves', 'no_estimators', 'auc_score'])\n",
    "output = output.sort_values('auc_score', ascending= False).reset_index(drop= True)\n",
    "output.head()"
   ]
  },
  {
   "cell_type": "code",
   "execution_count": 28,
   "metadata": {},
   "outputs": [
    {
     "data": {
      "text/plain": [
       "<matplotlib.legend.Legend at 0x1d4c31ea520>"
      ]
     },
     "execution_count": 28,
     "metadata": {},
     "output_type": "execute_result"
    },
    {
     "data": {
      "image/png": "[encoded data removed]",
      "text/plain": [
       "<Figure size 640x480 with 1 Axes>"
      ]
     },
     "metadata": {},
     "output_type": "display_data"
    }
   ],
   "source": [
    "depths = [3,5,10,50]\n",
    "for i in depths:\n",
    "    data = output[output['no_leaves'] == i]\n",
    "    plt.plot(data.no_estimators, data.auc_score, label = str(i))\n",
    "\n",
    "plt.legend()"
   ]
  },
  {
   "cell_type": "code",
   "execution_count": 30,
   "metadata": {},
   "outputs": [
    {
     "name": "stdout",
     "output_type": "stream",
     "text": [
      "0.8299669958837562\n"
     ]
    }
   ],
   "source": [
    "model = RandomForestClassifier(n_estimators=60, max_depth = 11, min_samples_leaf=3, random_state=1)\n",
    "model.fit(X_train, y_train)\n",
    "pred = model.predict_proba(X_val)[:,1]\n",
    "auc = roc_auc_score(y_val, pred)\n",
    "print(auc)"
   ]
  },
  {
   "cell_type": "code",
   "execution_count": null,
   "metadata": {},
   "outputs": [],
   "source": []
  }
 ],
 "metadata": {
  "kernelspec": {
   "display_name": "Python 3.9.13 ('Tensorflow')",
   "language": "python",
   "name": "python3"
  },
  "language_info": {
   "codemirror_mode": {
    "name": "ipython",
    "version": 3
   },
   "file_extension": ".py",
   "mimetype": "text/x-python",
   "name": "python",
   "nbconvert_exporter": "python",
   "pygments_lexer": "ipython3",
   "version": "3.9.13"
  },
  "orig_nbformat": 4,
  "vscode": {
   "interpreter": {
    "hash": "a2031be23302a6f80daad80b84b83a86f535e1c11907b65b4c4b25f3c409004f"
   }
  }
 },
 "nbformat": 4,
 "nbformat_minor": 2
}
