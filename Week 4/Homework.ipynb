{
 "cells": [
  {
   "cell_type": "markdown",
   "metadata": {},
   "source": [
    "Importing Libraries"
   ]
  },
  {
   "cell_type": "code",
   "execution_count": 1,
   "metadata": {},
   "outputs": [],
   "source": [
    "import pandas as pd\n",
    "import numpy as np\n",
    "from matplotlib import pyplot as plt\n",
    "import sklearn\n",
    "import seaborn as sns\n",
    "from IPython.display import display\n",
    "from sklearn.feature_extraction import DictVectorizer\n",
    "from sklearn.model_selection import train_test_split, KFold\n",
    "from sklearn.linear_model import LogisticRegression\n",
    "from sklearn.metrics import mutual_info_score, roc_auc_score, auc, roc_curve\n",
    "import wget\n",
    "import warnings\n",
    "warnings.filterwarnings('ignore')"
   ]
  },
  {
   "cell_type": "markdown",
   "metadata": {},
   "source": [
    "Loading Data"
   ]
  },
  {
   "cell_type": "code",
   "execution_count": 2,
   "metadata": {},
   "outputs": [],
   "source": [
    "#name = \"credit_card_data.csv\"\n",
    "#wget.download('https://raw.githubusercontent.com/alexeygrigorev/datasets/master/AER_credit_card_data.csv', name)"
   ]
  },
  {
   "cell_type": "code",
   "execution_count": 3,
   "metadata": {},
   "outputs": [],
   "source": [
    "data = pd.read_csv('C:/Users/Godwin/Documents/Workflow/ML Zoomcamp/Evaluation Metrics/credit_card_data.csv')\n",
    "data.head()"
   ]
  },
  {
   "cell_type": "markdown",
   "metadata": {},
   "source": [
    "Data Preparation"
   ]
  },
  {
   "cell_type": "code",
   "execution_count": 4,
   "metadata": {},
   "outputs": [],
   "source": [
    "#card = data.pop('card')\n",
    "data['card'] = (data['card'] == 'yes').astype('int')\n",
    "#data.head()"
   ]
  },
  {
   "cell_type": "markdown",
   "metadata": {},
   "source": [
    "Split Data For Training"
   ]
  },
  {
   "cell_type": "code",
   "execution_count": 25,
   "metadata": {},
   "outputs": [],
   "source": [
    "train_df, test_df = train_test_split(data, test_size = 0.2, random_state = 1)\n",
    "train_df, val_df = train_test_split(train_df, test_size = 0.25, random_state = 1)\n",
    "\n",
    "y_train = train_df.pop('card')\n",
    "y_test = test_df.pop('card')\n",
    "y_val = val_df.pop('card')\n",
    "\n",
    "numerical_col = train_df.dtypes[train_df.dtypes != 'object'].index.tolist()"
   ]
  },
  {
   "cell_type": "markdown",
   "metadata": {},
   "source": [
    "Question 1\n",
    "\n",
    "Which numerical variable (among the following 4) has the highest AUC?"
   ]
  },
  {
   "cell_type": "code",
   "execution_count": 9,
   "metadata": {},
   "outputs": [
    {
     "data": {
      "text/html": [
       "<div>\n",
       "<style scoped>\n",
       "    .dataframe tbody tr th:only-of-type {\n",
       "        vertical-align: middle;\n",
       "    }\n",
       "\n",
       "    .dataframe tbody tr th {\n",
       "        vertical-align: top;\n",
       "    }\n",
       "\n",
       "    .dataframe thead th {\n",
       "        text-align: right;\n",
       "    }\n",
       "</style>\n",
       "<table border=\"1\" class=\"dataframe\">\n",
       "  <thead>\n",
       "    <tr style=\"text-align: right;\">\n",
       "      <th></th>\n",
       "      <th>Column</th>\n",
       "      <th>Auc Score</th>\n",
       "    </tr>\n",
       "  </thead>\n",
       "  <tbody>\n",
       "    <tr>\n",
       "      <th>0</th>\n",
       "      <td>reports</td>\n",
       "      <td>0.716663</td>\n",
       "    </tr>\n",
       "    <tr>\n",
       "      <th>1</th>\n",
       "      <td>age</td>\n",
       "      <td>0.524002</td>\n",
       "    </tr>\n",
       "    <tr>\n",
       "      <th>2</th>\n",
       "      <td>income</td>\n",
       "      <td>0.590805</td>\n",
       "    </tr>\n",
       "    <tr>\n",
       "      <th>3</th>\n",
       "      <td>share</td>\n",
       "      <td>0.989184</td>\n",
       "    </tr>\n",
       "    <tr>\n",
       "      <th>4</th>\n",
       "      <td>expenditure</td>\n",
       "      <td>0.991042</td>\n",
       "    </tr>\n",
       "    <tr>\n",
       "      <th>5</th>\n",
       "      <td>dependents</td>\n",
       "      <td>0.532776</td>\n",
       "    </tr>\n",
       "    <tr>\n",
       "      <th>6</th>\n",
       "      <td>months</td>\n",
       "      <td>0.529422</td>\n",
       "    </tr>\n",
       "    <tr>\n",
       "      <th>7</th>\n",
       "      <td>majorcards</td>\n",
       "      <td>0.534386</td>\n",
       "    </tr>\n",
       "    <tr>\n",
       "      <th>8</th>\n",
       "      <td>active</td>\n",
       "      <td>0.604317</td>\n",
       "    </tr>\n",
       "  </tbody>\n",
       "</table>\n",
       "</div>"
      ],
      "text/plain": [
       "        Column  Auc Score\n",
       "0      reports   0.716663\n",
       "1          age   0.524002\n",
       "2       income   0.590805\n",
       "3        share   0.989184\n",
       "4  expenditure   0.991042\n",
       "5   dependents   0.532776\n",
       "6       months   0.529422\n",
       "7   majorcards   0.534386\n",
       "8       active   0.604317"
      ]
     },
     "execution_count": 9,
     "metadata": {},
     "output_type": "execute_result"
    }
   ],
   "source": [
    "df = train_df.copy()\n",
    "scores = []\n",
    "for i in numerical_col:\n",
    "    auc = roc_auc_score(y_train, df[i])\n",
    "\n",
    "    if auc < 0.5:\n",
    "        auc = roc_auc_score(y_train, -df[i])\n",
    "    scores.append(auc)\n",
    "\n",
    "dicts = {\"Column\": numerical_col, 'Auc Score': scores}\n",
    "outs = pd.DataFrame(dicts)\n",
    "outs"
   ]
  },
  {
   "cell_type": "markdown",
   "metadata": {},
   "source": [
    "From the given options the share column has the highest auc_score\n",
    "\n",
    "\n",
    "\n",
    "Encoding The Data"
   ]
  },
  {
   "cell_type": "code",
   "execution_count": 26,
   "metadata": {},
   "outputs": [],
   "source": [
    "columns = [\"reports\", \"age\", \"income\", \"share\", \"expenditure\", \"dependents\", \"months\", \"majorcards\", \"active\", \"owner\", \"selfemp\"]\n",
    "\n",
    "dv = DictVectorizer(sparse = False)\n",
    "dv.fit(train_df[columns].to_dict(orient= 'records'))\n",
    "names = dv.get_feature_names()\n",
    "\n",
    "X_train = dv.transform(train_df[columns].to_dict(orient= 'records'))\n",
    "X_test = dv.transform(test_df[columns].to_dict(orient = 'records'))\n",
    "X_val = dv.transform(val_df[columns].to_dict(orient = 'records'))"
   ]
  },
  {
   "cell_type": "markdown",
   "metadata": {},
   "source": [
    "Question 2\n",
    "\n",
    "What's the AUC of this model on the validation dataset?"
   ]
  },
  {
   "cell_type": "code",
   "execution_count": 28,
   "metadata": {},
   "outputs": [
    {
     "data": {
      "text/plain": [
       "0.9739783600107306"
      ]
     },
     "execution_count": 28,
     "metadata": {},
     "output_type": "execute_result"
    }
   ],
   "source": [
    "#MOdel \n",
    "model = LogisticRegression(solver='liblinear', C=1.0, max_iter=1000)\n",
    "model.fit(X_train, y_train)\n",
    "\n",
    "#Validating the model\n",
    "prediction = model.predict_proba(X_val)[:,1]\n",
    "roc_auc_score(y_val, (prediction >= 0.5).astype('int'))"
   ]
  },
  {
   "cell_type": "markdown",
   "metadata": {},
   "source": [
    "Question 3\n",
    "\n",
    "Computing Precision And Recall"
   ]
  },
  {
   "cell_type": "code",
   "execution_count": 19,
   "metadata": {},
   "outputs": [
    {
     "data": {
      "text/plain": [
       "<matplotlib.legend.Legend at 0x2072d456af0>"
      ]
     },
     "execution_count": 19,
     "metadata": {},
     "output_type": "execute_result"
    },
    {
     "data": {
      "image/png": "[encoded data removed]",
      "text/plain": [
       "<Figure size 640x480 with 1 Axes>"
      ]
     },
     "metadata": {},
     "output_type": "display_data"
    }
   ],
   "source": [
    "threshold = np.arange(0,1 ,step = 0.01)\n",
    "precision_values = []\n",
    "recall_values = []\n",
    "\n",
    "for t in threshold:\n",
    "        \n",
    "    actual_positive = (y_val == 1)\n",
    "    actual_negative = (y_val == 0)\n",
    "\n",
    "    predicted_positive = (prediction >= t)\n",
    "    predicted_negative = (prediction < t)\n",
    "\n",
    "\n",
    "\n",
    "    tp = (actual_positive & predicted_positive).sum()\n",
    "    tn = (actual_negative & predicted_negative).sum()\n",
    "    fp = (actual_negative & predicted_positive).sum()\n",
    "    fn = (actual_positive & predicted_negative).sum()\n",
    "\n",
    "    precision = tp/(tp + fp)\n",
    "    recall = tp/(tp +fn)\n",
    "\n",
    "    precision_values.append(precision)\n",
    "    recall_values.append(recall)\n",
    "\n",
    "#Plotting Values\n",
    "plt.plot(threshold, precision_values, label = 'Precision')\n",
    "plt.plot(threshold, recall_values, label = 'Recall')\n",
    "plt.legend()"
   ]
  },
  {
   "cell_type": "markdown",
   "metadata": {},
   "source": [
    "Question 4\n",
    "\n",
    "Computing F1_Score"
   ]
  },
  {
   "cell_type": "code",
   "execution_count": 29,
   "metadata": {},
   "outputs": [
    {
     "data": {
      "text/html": [
       "<div>\n",
       "<style scoped>\n",
       "    .dataframe tbody tr th:only-of-type {\n",
       "        vertical-align: middle;\n",
       "    }\n",
       "\n",
       "    .dataframe tbody tr th {\n",
       "        vertical-align: top;\n",
       "    }\n",
       "\n",
       "    .dataframe thead th {\n",
       "        text-align: right;\n",
       "    }\n",
       "</style>\n",
       "<table border=\"1\" class=\"dataframe\">\n",
       "  <thead>\n",
       "    <tr style=\"text-align: right;\">\n",
       "      <th></th>\n",
       "      <th>Threshold</th>\n",
       "      <th>F1_score</th>\n",
       "    </tr>\n",
       "  </thead>\n",
       "  <tbody>\n",
       "    <tr>\n",
       "      <th>35</th>\n",
       "      <td>0.35</td>\n",
       "      <td>0.983213</td>\n",
       "    </tr>\n",
       "    <tr>\n",
       "      <th>36</th>\n",
       "      <td>0.36</td>\n",
       "      <td>0.983213</td>\n",
       "    </tr>\n",
       "    <tr>\n",
       "      <th>37</th>\n",
       "      <td>0.37</td>\n",
       "      <td>0.983213</td>\n",
       "    </tr>\n",
       "    <tr>\n",
       "      <th>38</th>\n",
       "      <td>0.38</td>\n",
       "      <td>0.983213</td>\n",
       "    </tr>\n",
       "    <tr>\n",
       "      <th>39</th>\n",
       "      <td>0.39</td>\n",
       "      <td>0.983213</td>\n",
       "    </tr>\n",
       "    <tr>\n",
       "      <th>40</th>\n",
       "      <td>0.40</td>\n",
       "      <td>0.983213</td>\n",
       "    </tr>\n",
       "    <tr>\n",
       "      <th>41</th>\n",
       "      <td>0.41</td>\n",
       "      <td>0.983213</td>\n",
       "    </tr>\n",
       "  </tbody>\n",
       "</table>\n",
       "</div>"
      ],
      "text/plain": [
       "    Threshold  F1_score\n",
       "35       0.35  0.983213\n",
       "36       0.36  0.983213\n",
       "37       0.37  0.983213\n",
       "38       0.38  0.983213\n",
       "39       0.39  0.983213\n",
       "40       0.40  0.983213\n",
       "41       0.41  0.983213"
      ]
     },
     "execution_count": 29,
     "metadata": {},
     "output_type": "execute_result"
    }
   ],
   "source": [
    "threshold = np.arange(0,1 ,step = 0.01)\n",
    "f1_values = []\n",
    "for t in threshold:\n",
    "        \n",
    "    actual_positive = (y_val == 1)\n",
    "    actual_negative = (y_val == 0)\n",
    "\n",
    "    predicted_positive = (prediction >= t)\n",
    "    predicted_negative = (prediction < t)\n",
    "\n",
    "\n",
    "\n",
    "    tp = (actual_positive & predicted_positive).sum()\n",
    "    tn = (actual_negative & predicted_negative).sum()\n",
    "    fp = (actual_negative & predicted_positive).sum()\n",
    "    fn = (actual_positive & predicted_negative).sum()\n",
    "\n",
    "    precision = tp/(tp + fp)\n",
    "    recall = tp/(tp +fn)\n",
    "\n",
    "\n",
    "    f1 = 2 * ((precision * recall)/ (precision + recall))\n",
    "    f1_values.append(f1)\n",
    "out = pd.DataFrame({'Threshold':threshold, 'F1_score':f1_values})\n",
    "\n",
    "#Returning Threhold with the highest F1 score\n",
    "out[out['F1_score'] == out['F1_score'].max()]"
   ]
  },
  {
   "cell_type": "markdown",
   "metadata": {},
   "source": [
    "Question 5\n",
    "\n",
    "Using cross validation evaluation metic"
   ]
  },
  {
   "cell_type": "code",
   "execution_count": 30,
   "metadata": {},
   "outputs": [
    {
     "data": {
      "text/plain": [
       "0.005280277859810096"
      ]
     },
     "execution_count": 30,
     "metadata": {},
     "output_type": "execute_result"
    }
   ],
   "source": [
    "full_df = pd.concat([train_df, val_df])\n",
    "full_df['label'] = pd.concat([y_train, y_val])\n",
    "\n",
    "kfolds = KFold(n_splits=5, shuffle=True, random_state=1)\n",
    "\n",
    "scores = []\n",
    "for train_idx, val_idx in kfolds.split(full_df):\n",
    "\n",
    "    train_df = full_df.iloc[train_idx]\n",
    "    val_df = full_df.iloc[val_idx]\n",
    "\n",
    "    y_train = train_df.pop('label')\n",
    "    y_val = val_df.pop('label')\n",
    "\n",
    "    dv.fit(train_df.to_dict(orient = 'records'))\n",
    "    X_train = dv.transform(train_df.to_dict(orient = 'records'))\n",
    "    X_val = dv.transform(val_df.to_dict(orient = 'records'))\n",
    "\n",
    "    model = LogisticRegression(solver='liblinear', C=1.0, max_iter=1000)\n",
    "    model.fit(X_train, y_train)\n",
    "    prediction = model.predict_proba(X_val)[:,1]\n",
    "    score = roc_auc_score(y_val,prediction)\n",
    "    scores.append(score)\n",
    "\n",
    "#Computing standard deviation for the all the splits\n",
    "np.std(scores)"
   ]
  },
  {
   "cell_type": "markdown",
   "metadata": {},
   "source": [
    "Question 6\n",
    "\n",
    "Finding the best parameter C with cross validation"
   ]
  },
  {
   "cell_type": "code",
   "execution_count": 24,
   "metadata": {},
   "outputs": [
    {
     "data": {
      "text/html": [
       "<div>\n",
       "<style scoped>\n",
       "    .dataframe tbody tr th:only-of-type {\n",
       "        vertical-align: middle;\n",
       "    }\n",
       "\n",
       "    .dataframe tbody tr th {\n",
       "        vertical-align: top;\n",
       "    }\n",
       "\n",
       "    .dataframe thead th {\n",
       "        text-align: right;\n",
       "    }\n",
       "</style>\n",
       "<table border=\"1\" class=\"dataframe\">\n",
       "  <thead>\n",
       "    <tr style=\"text-align: right;\">\n",
       "      <th></th>\n",
       "      <th>C Values</th>\n",
       "      <th>Mean Value</th>\n",
       "      <th>Standard Deviation</th>\n",
       "    </tr>\n",
       "  </thead>\n",
       "  <tbody>\n",
       "    <tr>\n",
       "      <th>0</th>\n",
       "      <td>0.01</td>\n",
       "      <td>0.991</td>\n",
       "      <td>0</td>\n",
       "    </tr>\n",
       "    <tr>\n",
       "      <th>1</th>\n",
       "      <td>0.10</td>\n",
       "      <td>0.994</td>\n",
       "      <td>0</td>\n",
       "    </tr>\n",
       "    <tr>\n",
       "      <th>2</th>\n",
       "      <td>1.00</td>\n",
       "      <td>0.996</td>\n",
       "      <td>0</td>\n",
       "    </tr>\n",
       "    <tr>\n",
       "      <th>3</th>\n",
       "      <td>10.00</td>\n",
       "      <td>0.996</td>\n",
       "      <td>0</td>\n",
       "    </tr>\n",
       "  </tbody>\n",
       "</table>\n",
       "</div>"
      ],
      "text/plain": [
       "   C Values  Mean Value  Standard Deviation\n",
       "0      0.01       0.991                   0\n",
       "1      0.10       0.994                   0\n",
       "2      1.00       0.996                   0\n",
       "3     10.00       0.996                   0"
      ]
     },
     "execution_count": 24,
     "metadata": {},
     "output_type": "execute_result"
    }
   ],
   "source": [
    "full_df = pd.concat([train_df, val_df])\n",
    "full_df['label'] = pd.concat([y_train, y_val])\n",
    "\n",
    "kfolds = KFold(n_splits=5, shuffle=True, random_state=1)\n",
    "\n",
    "c_values = [0.01, 0.1, 1, 10]\n",
    "auc_scores = []\n",
    "stds = []\n",
    "for c in c_values:\n",
    "\n",
    "    scores = []\n",
    "    for train_idx, val_idx in kfolds.split(full_df):\n",
    "\n",
    "        train_data = full_df.iloc[train_idx]\n",
    "        val_data = full_df.iloc[val_idx]\n",
    "\n",
    "        y_train = train_data.pop('label')\n",
    "        y_val = val_data.pop('label')\n",
    "\n",
    "        dv.fit(train_data.to_dict(orient = 'records'))\n",
    "        X_train = dv.transform(train_data.to_dict(orient = 'records'))\n",
    "        X_val = dv.transform(val_data.to_dict(orient = 'records'))\n",
    "\n",
    "        model = LogisticRegression(solver='liblinear', C=c, max_iter=1000)\n",
    "        model.fit(X_train, y_train)\n",
    "        prediction = model.predict_proba(X_val)[:,1]\n",
    "        score = roc_auc_score(y_val,prediction)\n",
    "        scores.append(score)\n",
    "    auc_scores.append(round(np.mean(scores),3))\n",
    "    stds.append(round(np.std(scores)))\n",
    "   \n",
    "\n",
    "dicts = {\"C Values\": c_values, \"Mean Value\": auc_scores, 'Standard Deviation': stds}\n",
    "output = pd.DataFrame(dicts)\n",
    "output"
   ]
  }
 ],
 "metadata": {
  "kernelspec": {
   "display_name": "Python 3.9.13 ('Tensorflow')",
   "language": "python",
   "name": "python3"
  },
  "language_info": {
   "codemirror_mode": {
    "name": "ipython",
    "version": 3
   },
   "file_extension": ".py",
   "mimetype": "text/x-python",
   "name": "python",
   "nbconvert_exporter": "python",
   "pygments_lexer": "ipython3",
   "version": "3.9.13"
  },
  "orig_nbformat": 4,
  "vscode": {
   "interpreter": {
    "hash": "a2031be23302a6f80daad80b84b83a86f535e1c11907b65b4c4b25f3c409004f"
   }
  }
 },
 "nbformat": 4,
 "nbformat_minor": 2
}
