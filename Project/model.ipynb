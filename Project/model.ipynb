{
 "cells": [
  {
   "cell_type": "code",
   "execution_count": 8,
   "metadata": {},
   "outputs": [],
   "source": [
    "import pandas as pd\n",
    "import numpy as np\n",
    "import matplotlib.pyplot as plt\n",
    "import seaborn as sns\n",
    "import xgboost as xgb\n",
    "from imblearn.over_sampling import SMOTE\n",
    "from imblearn.under_sampling import RandomUnderSampler\n",
    "from imblearn.pipeline import Pipeline\n",
    "from sklearn.model_selection import train_test_split\n",
    "from sklearn.feature_extraction import DictVectorizer\n",
    "from sklearn.linear_model import LogisticRegression\n",
    "from sklearn.tree import DecisionTreeClassifier\n",
    "from sklearn.ensemble import RandomForestClassifier\n",
    "from sklearn.preprocessing import StandardScaler\n",
    "from sklearn.metrics import mutual_info_score, accuracy_score, roc_auc_score,confusion_matrix,f1_score, precision_score, recall_score\n",
    "import warnings\n",
    "warnings.filterwarnings('ignore')"
   ]
  },
  {
   "cell_type": "code",
   "execution_count": 9,
   "metadata": {},
   "outputs": [],
   "source": [
    "def load_data(path):\n",
    "    data = pd.read_csv(path)\n",
    "    data.columns = data.columns.str.lower().str.replace(' ', '_')\n",
    "    cat_col = data.dtypes[data.dtypes == 'object'].index.tolist()\n",
    "\n",
    "    for col in cat_col:\n",
    "        data[col] = data[col].str.lower().str.replace(' ', '_')\n",
    "    return data"
   ]
  },
  {
   "cell_type": "code",
   "execution_count": 10,
   "metadata": {},
   "outputs": [
    {
     "data": {
      "text/html": [
       "<div>\n",
       "<style scoped>\n",
       "    .dataframe tbody tr th:only-of-type {\n",
       "        vertical-align: middle;\n",
       "    }\n",
       "\n",
       "    .dataframe tbody tr th {\n",
       "        vertical-align: top;\n",
       "    }\n",
       "\n",
       "    .dataframe thead th {\n",
       "        text-align: right;\n",
       "    }\n",
       "</style>\n",
       "<table border=\"1\" class=\"dataframe\">\n",
       "  <thead>\n",
       "    <tr style=\"text-align: right;\">\n",
       "      <th></th>\n",
       "      <th>date</th>\n",
       "      <th>location</th>\n",
       "      <th>mintemp</th>\n",
       "      <th>maxtemp</th>\n",
       "      <th>rainfall</th>\n",
       "      <th>evaporation</th>\n",
       "      <th>sunshine</th>\n",
       "      <th>windgustdir</th>\n",
       "      <th>windgustspeed</th>\n",
       "      <th>winddir9am</th>\n",
       "      <th>...</th>\n",
       "      <th>humidity9am</th>\n",
       "      <th>humidity3pm</th>\n",
       "      <th>pressure9am</th>\n",
       "      <th>pressure3pm</th>\n",
       "      <th>cloud9am</th>\n",
       "      <th>cloud3pm</th>\n",
       "      <th>temp9am</th>\n",
       "      <th>temp3pm</th>\n",
       "      <th>raintoday</th>\n",
       "      <th>raintomorrow</th>\n",
       "    </tr>\n",
       "  </thead>\n",
       "  <tbody>\n",
       "    <tr>\n",
       "      <th>0</th>\n",
       "      <td>2008-12-01</td>\n",
       "      <td>albury</td>\n",
       "      <td>13.4</td>\n",
       "      <td>22.9</td>\n",
       "      <td>0.6</td>\n",
       "      <td>NaN</td>\n",
       "      <td>NaN</td>\n",
       "      <td>w</td>\n",
       "      <td>44.0</td>\n",
       "      <td>w</td>\n",
       "      <td>...</td>\n",
       "      <td>71.0</td>\n",
       "      <td>22.0</td>\n",
       "      <td>1007.7</td>\n",
       "      <td>1007.1</td>\n",
       "      <td>8.0</td>\n",
       "      <td>NaN</td>\n",
       "      <td>16.9</td>\n",
       "      <td>21.8</td>\n",
       "      <td>no</td>\n",
       "      <td>no</td>\n",
       "    </tr>\n",
       "    <tr>\n",
       "      <th>1</th>\n",
       "      <td>2008-12-02</td>\n",
       "      <td>albury</td>\n",
       "      <td>7.4</td>\n",
       "      <td>25.1</td>\n",
       "      <td>0.0</td>\n",
       "      <td>NaN</td>\n",
       "      <td>NaN</td>\n",
       "      <td>wnw</td>\n",
       "      <td>44.0</td>\n",
       "      <td>nnw</td>\n",
       "      <td>...</td>\n",
       "      <td>44.0</td>\n",
       "      <td>25.0</td>\n",
       "      <td>1010.6</td>\n",
       "      <td>1007.8</td>\n",
       "      <td>NaN</td>\n",
       "      <td>NaN</td>\n",
       "      <td>17.2</td>\n",
       "      <td>24.3</td>\n",
       "      <td>no</td>\n",
       "      <td>no</td>\n",
       "    </tr>\n",
       "    <tr>\n",
       "      <th>2</th>\n",
       "      <td>2008-12-03</td>\n",
       "      <td>albury</td>\n",
       "      <td>12.9</td>\n",
       "      <td>25.7</td>\n",
       "      <td>0.0</td>\n",
       "      <td>NaN</td>\n",
       "      <td>NaN</td>\n",
       "      <td>wsw</td>\n",
       "      <td>46.0</td>\n",
       "      <td>w</td>\n",
       "      <td>...</td>\n",
       "      <td>38.0</td>\n",
       "      <td>30.0</td>\n",
       "      <td>1007.6</td>\n",
       "      <td>1008.7</td>\n",
       "      <td>NaN</td>\n",
       "      <td>2.0</td>\n",
       "      <td>21.0</td>\n",
       "      <td>23.2</td>\n",
       "      <td>no</td>\n",
       "      <td>no</td>\n",
       "    </tr>\n",
       "    <tr>\n",
       "      <th>3</th>\n",
       "      <td>2008-12-04</td>\n",
       "      <td>albury</td>\n",
       "      <td>9.2</td>\n",
       "      <td>28.0</td>\n",
       "      <td>0.0</td>\n",
       "      <td>NaN</td>\n",
       "      <td>NaN</td>\n",
       "      <td>ne</td>\n",
       "      <td>24.0</td>\n",
       "      <td>se</td>\n",
       "      <td>...</td>\n",
       "      <td>45.0</td>\n",
       "      <td>16.0</td>\n",
       "      <td>1017.6</td>\n",
       "      <td>1012.8</td>\n",
       "      <td>NaN</td>\n",
       "      <td>NaN</td>\n",
       "      <td>18.1</td>\n",
       "      <td>26.5</td>\n",
       "      <td>no</td>\n",
       "      <td>no</td>\n",
       "    </tr>\n",
       "    <tr>\n",
       "      <th>4</th>\n",
       "      <td>2008-12-05</td>\n",
       "      <td>albury</td>\n",
       "      <td>17.5</td>\n",
       "      <td>32.3</td>\n",
       "      <td>1.0</td>\n",
       "      <td>NaN</td>\n",
       "      <td>NaN</td>\n",
       "      <td>w</td>\n",
       "      <td>41.0</td>\n",
       "      <td>ene</td>\n",
       "      <td>...</td>\n",
       "      <td>82.0</td>\n",
       "      <td>33.0</td>\n",
       "      <td>1010.8</td>\n",
       "      <td>1006.0</td>\n",
       "      <td>7.0</td>\n",
       "      <td>8.0</td>\n",
       "      <td>17.8</td>\n",
       "      <td>29.7</td>\n",
       "      <td>no</td>\n",
       "      <td>no</td>\n",
       "    </tr>\n",
       "  </tbody>\n",
       "</table>\n",
       "<p>5 rows × 23 columns</p>\n",
       "</div>"
      ],
      "text/plain": [
       "         date location  mintemp  maxtemp  rainfall  evaporation  sunshine  \\\n",
       "0  2008-12-01   albury     13.4     22.9       0.6          NaN       NaN   \n",
       "1  2008-12-02   albury      7.4     25.1       0.0          NaN       NaN   \n",
       "2  2008-12-03   albury     12.9     25.7       0.0          NaN       NaN   \n",
       "3  2008-12-04   albury      9.2     28.0       0.0          NaN       NaN   \n",
       "4  2008-12-05   albury     17.5     32.3       1.0          NaN       NaN   \n",
       "\n",
       "  windgustdir  windgustspeed winddir9am  ... humidity9am  humidity3pm  \\\n",
       "0           w           44.0          w  ...        71.0         22.0   \n",
       "1         wnw           44.0        nnw  ...        44.0         25.0   \n",
       "2         wsw           46.0          w  ...        38.0         30.0   \n",
       "3          ne           24.0         se  ...        45.0         16.0   \n",
       "4           w           41.0        ene  ...        82.0         33.0   \n",
       "\n",
       "   pressure9am  pressure3pm  cloud9am  cloud3pm  temp9am  temp3pm  raintoday  \\\n",
       "0       1007.7       1007.1       8.0       NaN     16.9     21.8         no   \n",
       "1       1010.6       1007.8       NaN       NaN     17.2     24.3         no   \n",
       "2       1007.6       1008.7       NaN       2.0     21.0     23.2         no   \n",
       "3       1017.6       1012.8       NaN       NaN     18.1     26.5         no   \n",
       "4       1010.8       1006.0       7.0       8.0     17.8     29.7         no   \n",
       "\n",
       "   raintomorrow  \n",
       "0            no  \n",
       "1            no  \n",
       "2            no  \n",
       "3            no  \n",
       "4            no  \n",
       "\n",
       "[5 rows x 23 columns]"
      ]
     },
     "execution_count": 10,
     "metadata": {},
     "output_type": "execute_result"
    }
   ],
   "source": [
    "data = load_data(\"./data/weatherAUS.csv\")\n",
    "data.head()"
   ]
  },
  {
   "cell_type": "code",
   "execution_count": 11,
   "metadata": {},
   "outputs": [
    {
     "name": "stdout",
     "output_type": "stream",
     "text": [
      "<class 'pandas.core.frame.DataFrame'>\n",
      "RangeIndex: 145460 entries, 0 to 145459\n",
      "Data columns (total 23 columns):\n",
      " #   Column         Non-Null Count   Dtype  \n",
      "---  ------         --------------   -----  \n",
      " 0   date           145460 non-null  object \n",
      " 1   location       145460 non-null  object \n",
      " 2   mintemp        143975 non-null  float64\n",
      " 3   maxtemp        144199 non-null  float64\n",
      " 4   rainfall       142199 non-null  float64\n",
      " 5   evaporation    82670 non-null   float64\n",
      " 6   sunshine       75625 non-null   float64\n",
      " 7   windgustdir    135134 non-null  object \n",
      " 8   windgustspeed  135197 non-null  float64\n",
      " 9   winddir9am     134894 non-null  object \n",
      " 10  winddir3pm     141232 non-null  object \n",
      " 11  windspeed9am   143693 non-null  float64\n",
      " 12  windspeed3pm   142398 non-null  float64\n",
      " 13  humidity9am    142806 non-null  float64\n",
      " 14  humidity3pm    140953 non-null  float64\n",
      " 15  pressure9am    130395 non-null  float64\n",
      " 16  pressure3pm    130432 non-null  float64\n",
      " 17  cloud9am       89572 non-null   float64\n",
      " 18  cloud3pm       86102 non-null   float64\n",
      " 19  temp9am        143693 non-null  float64\n",
      " 20  temp3pm        141851 non-null  float64\n",
      " 21  raintoday      142199 non-null  object \n",
      " 22  raintomorrow   142193 non-null  object \n",
      "dtypes: float64(16), object(7)\n",
      "memory usage: 25.5+ MB\n"
     ]
    }
   ],
   "source": [
    "data.info()"
   ]
  },
  {
   "cell_type": "code",
   "execution_count": 12,
   "metadata": {},
   "outputs": [
    {
     "data": {
      "text/html": [
       "<div>\n",
       "<style scoped>\n",
       "    .dataframe tbody tr th:only-of-type {\n",
       "        vertical-align: middle;\n",
       "    }\n",
       "\n",
       "    .dataframe tbody tr th {\n",
       "        vertical-align: top;\n",
       "    }\n",
       "\n",
       "    .dataframe thead th {\n",
       "        text-align: right;\n",
       "    }\n",
       "</style>\n",
       "<table border=\"1\" class=\"dataframe\">\n",
       "  <thead>\n",
       "    <tr style=\"text-align: right;\">\n",
       "      <th></th>\n",
       "      <th>date</th>\n",
       "      <th>location</th>\n",
       "      <th>mintemp</th>\n",
       "      <th>maxtemp</th>\n",
       "      <th>rainfall</th>\n",
       "      <th>evaporation</th>\n",
       "      <th>sunshine</th>\n",
       "      <th>windgustdir</th>\n",
       "      <th>windgustspeed</th>\n",
       "      <th>winddir9am</th>\n",
       "      <th>...</th>\n",
       "      <th>humidity9am</th>\n",
       "      <th>humidity3pm</th>\n",
       "      <th>pressure9am</th>\n",
       "      <th>pressure3pm</th>\n",
       "      <th>cloud9am</th>\n",
       "      <th>cloud3pm</th>\n",
       "      <th>temp9am</th>\n",
       "      <th>temp3pm</th>\n",
       "      <th>raintoday</th>\n",
       "      <th>raintomorrow</th>\n",
       "    </tr>\n",
       "  </thead>\n",
       "  <tbody>\n",
       "    <tr>\n",
       "      <th>8</th>\n",
       "      <td>2008-12-09</td>\n",
       "      <td>albury</td>\n",
       "      <td>9.7</td>\n",
       "      <td>31.9</td>\n",
       "      <td>0.0</td>\n",
       "      <td>NaN</td>\n",
       "      <td>NaN</td>\n",
       "      <td>nnw</td>\n",
       "      <td>80.0</td>\n",
       "      <td>se</td>\n",
       "      <td>...</td>\n",
       "      <td>42.0</td>\n",
       "      <td>9.0</td>\n",
       "      <td>1008.9</td>\n",
       "      <td>1003.6</td>\n",
       "      <td>NaN</td>\n",
       "      <td>NaN</td>\n",
       "      <td>18.3</td>\n",
       "      <td>30.2</td>\n",
       "      <td>no</td>\n",
       "      <td>yes</td>\n",
       "    </tr>\n",
       "    <tr>\n",
       "      <th>10</th>\n",
       "      <td>2008-12-11</td>\n",
       "      <td>albury</td>\n",
       "      <td>13.4</td>\n",
       "      <td>30.4</td>\n",
       "      <td>0.0</td>\n",
       "      <td>NaN</td>\n",
       "      <td>NaN</td>\n",
       "      <td>n</td>\n",
       "      <td>30.0</td>\n",
       "      <td>sse</td>\n",
       "      <td>...</td>\n",
       "      <td>48.0</td>\n",
       "      <td>22.0</td>\n",
       "      <td>1011.8</td>\n",
       "      <td>1008.7</td>\n",
       "      <td>NaN</td>\n",
       "      <td>NaN</td>\n",
       "      <td>20.4</td>\n",
       "      <td>28.8</td>\n",
       "      <td>no</td>\n",
       "      <td>yes</td>\n",
       "    </tr>\n",
       "    <tr>\n",
       "      <th>11</th>\n",
       "      <td>2008-12-12</td>\n",
       "      <td>albury</td>\n",
       "      <td>15.9</td>\n",
       "      <td>21.7</td>\n",
       "      <td>2.2</td>\n",
       "      <td>NaN</td>\n",
       "      <td>NaN</td>\n",
       "      <td>nne</td>\n",
       "      <td>31.0</td>\n",
       "      <td>ne</td>\n",
       "      <td>...</td>\n",
       "      <td>89.0</td>\n",
       "      <td>91.0</td>\n",
       "      <td>1010.5</td>\n",
       "      <td>1004.2</td>\n",
       "      <td>8.0</td>\n",
       "      <td>8.0</td>\n",
       "      <td>15.9</td>\n",
       "      <td>17.0</td>\n",
       "      <td>yes</td>\n",
       "      <td>yes</td>\n",
       "    </tr>\n",
       "    <tr>\n",
       "      <th>12</th>\n",
       "      <td>2008-12-13</td>\n",
       "      <td>albury</td>\n",
       "      <td>15.9</td>\n",
       "      <td>18.6</td>\n",
       "      <td>15.6</td>\n",
       "      <td>NaN</td>\n",
       "      <td>NaN</td>\n",
       "      <td>w</td>\n",
       "      <td>61.0</td>\n",
       "      <td>nnw</td>\n",
       "      <td>...</td>\n",
       "      <td>76.0</td>\n",
       "      <td>93.0</td>\n",
       "      <td>994.3</td>\n",
       "      <td>993.0</td>\n",
       "      <td>8.0</td>\n",
       "      <td>8.0</td>\n",
       "      <td>17.4</td>\n",
       "      <td>15.8</td>\n",
       "      <td>yes</td>\n",
       "      <td>yes</td>\n",
       "    </tr>\n",
       "    <tr>\n",
       "      <th>16</th>\n",
       "      <td>2008-12-17</td>\n",
       "      <td>albury</td>\n",
       "      <td>14.1</td>\n",
       "      <td>20.9</td>\n",
       "      <td>0.0</td>\n",
       "      <td>NaN</td>\n",
       "      <td>NaN</td>\n",
       "      <td>ene</td>\n",
       "      <td>22.0</td>\n",
       "      <td>ssw</td>\n",
       "      <td>...</td>\n",
       "      <td>69.0</td>\n",
       "      <td>82.0</td>\n",
       "      <td>1012.2</td>\n",
       "      <td>1010.4</td>\n",
       "      <td>8.0</td>\n",
       "      <td>1.0</td>\n",
       "      <td>17.2</td>\n",
       "      <td>18.1</td>\n",
       "      <td>no</td>\n",
       "      <td>yes</td>\n",
       "    </tr>\n",
       "  </tbody>\n",
       "</table>\n",
       "<p>5 rows × 23 columns</p>\n",
       "</div>"
      ],
      "text/plain": [
       "          date location  mintemp  maxtemp  rainfall  evaporation  sunshine  \\\n",
       "8   2008-12-09   albury      9.7     31.9       0.0          NaN       NaN   \n",
       "10  2008-12-11   albury     13.4     30.4       0.0          NaN       NaN   \n",
       "11  2008-12-12   albury     15.9     21.7       2.2          NaN       NaN   \n",
       "12  2008-12-13   albury     15.9     18.6      15.6          NaN       NaN   \n",
       "16  2008-12-17   albury     14.1     20.9       0.0          NaN       NaN   \n",
       "\n",
       "   windgustdir  windgustspeed winddir9am  ... humidity9am  humidity3pm  \\\n",
       "8          nnw           80.0         se  ...        42.0          9.0   \n",
       "10           n           30.0        sse  ...        48.0         22.0   \n",
       "11         nne           31.0         ne  ...        89.0         91.0   \n",
       "12           w           61.0        nnw  ...        76.0         93.0   \n",
       "16         ene           22.0        ssw  ...        69.0         82.0   \n",
       "\n",
       "    pressure9am  pressure3pm  cloud9am  cloud3pm  temp9am  temp3pm  raintoday  \\\n",
       "8        1008.9       1003.6       NaN       NaN     18.3     30.2         no   \n",
       "10       1011.8       1008.7       NaN       NaN     20.4     28.8         no   \n",
       "11       1010.5       1004.2       8.0       8.0     15.9     17.0        yes   \n",
       "12        994.3        993.0       8.0       8.0     17.4     15.8        yes   \n",
       "16       1012.2       1010.4       8.0       1.0     17.2     18.1         no   \n",
       "\n",
       "    raintomorrow  \n",
       "8            yes  \n",
       "10           yes  \n",
       "11           yes  \n",
       "12           yes  \n",
       "16           yes  \n",
       "\n",
       "[5 rows x 23 columns]"
      ]
     },
     "execution_count": 12,
     "metadata": {},
     "output_type": "execute_result"
    }
   ],
   "source": [
    "df = data[data['raintomorrow'] == 'yes']\n",
    "df.head()"
   ]
  },
  {
   "cell_type": "code",
   "execution_count": 13,
   "metadata": {},
   "outputs": [
    {
     "data": {
      "text/plain": [
       "{'date': '2008-12-11',\n",
       " 'location': 'albury',\n",
       " 'mintemp': 13.4,\n",
       " 'maxtemp': 30.4,\n",
       " 'rainfall': 0.0,\n",
       " 'evaporation': nan,\n",
       " 'sunshine': nan,\n",
       " 'windgustdir': 'n',\n",
       " 'windgustspeed': 30.0,\n",
       " 'winddir9am': 'sse',\n",
       " 'winddir3pm': 'ese',\n",
       " 'windspeed9am': 17.0,\n",
       " 'windspeed3pm': 6.0,\n",
       " 'humidity9am': 48.0,\n",
       " 'humidity3pm': 22.0,\n",
       " 'pressure9am': 1011.8,\n",
       " 'pressure3pm': 1008.7,\n",
       " 'cloud9am': nan,\n",
       " 'cloud3pm': nan,\n",
       " 'temp9am': 20.4,\n",
       " 'temp3pm': 28.8,\n",
       " 'raintoday': 'no',\n",
       " 'raintomorrow': 'yes'}"
      ]
     },
     "execution_count": 13,
     "metadata": {},
     "output_type": "execute_result"
    }
   ],
   "source": [
    "data.iloc[10].to_dict()"
   ]
  },
  {
   "cell_type": "code",
   "execution_count": null,
   "metadata": {},
   "outputs": [],
   "source": []
  },
  {
   "cell_type": "code",
   "execution_count": 14,
   "metadata": {},
   "outputs": [],
   "source": [
    "#(data.isnull().sum()/data.shape[0]) *100"
   ]
  },
  {
   "cell_type": "code",
   "execution_count": 15,
   "metadata": {},
   "outputs": [],
   "source": [
    "data['date'] = pd.to_datetime(data['date'])\n",
    "\n",
    "num_col = data.dtypes[data.dtypes == 'float64'].index.tolist()\n",
    "cat_col = data.dtypes[data.dtypes == 'object'].index.tolist()\n",
    "\n",
    "for col in num_col:\n",
    "        data[col] = data[col].interpolate(method='linear')\n",
    "for col in num_col:\n",
    "        data[col] = data[col].fillna(data[col].mean())\n",
    "\n",
    "for col in cat_col:\n",
    "        data[col] = data[col].fillna(data[col].mode()[0])"
   ]
  },
  {
   "cell_type": "code",
   "execution_count": 16,
   "metadata": {},
   "outputs": [
    {
     "data": {
      "text/plain": [
       "date             2008-12-11 00:00:00\n",
       "location                      albury\n",
       "mintemp                         13.4\n",
       "maxtemp                         30.4\n",
       "rainfall                         0.0\n",
       "evaporation                 6.534638\n",
       "sunshine                    7.649576\n",
       "windgustdir                        n\n",
       "windgustspeed                   30.0\n",
       "winddir9am                       sse\n",
       "winddir3pm                       ese\n",
       "windspeed9am                    17.0\n",
       "windspeed3pm                     6.0\n",
       "humidity9am                     48.0\n",
       "humidity3pm                     22.0\n",
       "pressure9am                   1011.8\n",
       "pressure3pm                   1008.7\n",
       "cloud9am                         6.6\n",
       "cloud3pm                         8.0\n",
       "temp9am                         20.4\n",
       "temp3pm                         28.8\n",
       "raintoday                         no\n",
       "raintomorrow                     yes\n",
       "Name: 10, dtype: object"
      ]
     },
     "execution_count": 16,
     "metadata": {},
     "output_type": "execute_result"
    }
   ],
   "source": [
    "data.iloc[10]"
   ]
  },
  {
   "cell_type": "code",
   "execution_count": null,
   "metadata": {},
   "outputs": [],
   "source": []
  },
  {
   "cell_type": "code",
   "execution_count": 17,
   "metadata": {},
   "outputs": [],
   "source": [
    "# plt.figure(figsize =  (16,10))\n",
    "# sns.heatmap(data.corr(), cmap=\"YlGnBu\", annot=True)"
   ]
  },
  {
   "cell_type": "code",
   "execution_count": 18,
   "metadata": {},
   "outputs": [],
   "source": [
    "#(data.isnull().sum()/data.shape[0]) * 100"
   ]
  },
  {
   "cell_type": "code",
   "execution_count": 19,
   "metadata": {},
   "outputs": [],
   "source": [
    "# plt.figure(figsize=(16,15))\n",
    "# row = int((len(num_col)/4) + 1)\n",
    "\n",
    "# for i,col in enumerate(num_col):\n",
    "#     plt.subplot(row, 4, i+1)\n",
    "#     plt.hist(data[col])\n",
    "#     plt.xlabel(col)"
   ]
  },
  {
   "cell_type": "code",
   "execution_count": 20,
   "metadata": {},
   "outputs": [],
   "source": [
    "# plt.figure(figsize=(16,15))\n",
    "# num_col2 = data.dtypes[data.dtypes == 'float64'].index.tolist()\n",
    "# num_col2.remove('mintemp')\n",
    "# num_col2.remove('maxtemp')\n",
    "# num_col2.remove('temp3pm')\n",
    "# num_col2.remove('temp9am')\n",
    "# row = int((len(num_col)/4) + 1)\n",
    "\n",
    "# for i,col in enumerate(num_col2):\n",
    "#     plt.subplot(row, 4, i+1)\n",
    "#     plt.hist(np.log1p(data[col]))\n",
    "#     plt.xlabel(col)"
   ]
  },
  {
   "cell_type": "code",
   "execution_count": 21,
   "metadata": {},
   "outputs": [],
   "source": [
    "df = data.copy()\n",
    "df['evaporation'] = np.log1p(df['evaporation'])\n",
    "df['rainfall'] = np.log1p(df['rainfall'])"
   ]
  },
  {
   "cell_type": "code",
   "execution_count": 22,
   "metadata": {},
   "outputs": [],
   "source": [
    "def split_data(df):\n",
    "        \n",
    "    full_train_df, full_test_df = train_test_split(df, test_size = 0.2, random_state=1)\n",
    "    full_train_df, full_val_df = train_test_split(full_train_df, test_size = 0.25, random_state=1)\n",
    "\n",
    "    train_data = full_train_df.reset_index(drop = True)\n",
    "    test_data = full_test_df.reset_index(drop = True)\n",
    "    val_data = full_val_df.reset_index(drop = True)\n",
    "\n",
    "    y_train = (train_data['raintomorrow'] == 'yes').astype('int')\n",
    "    y_test = (test_data['raintomorrow'] == 'yes').astype('int')\n",
    "    y_val = (val_data['raintomorrow'] == 'yes').astype('int')\n",
    "\n",
    "    del train_data['raintomorrow']\n",
    "    del test_data['raintomorrow']\n",
    "    del val_data['raintomorrow']\n",
    "\n",
    "    return train_data, val_data,test_data, y_train, y_val, y_test,full_train_df"
   ]
  },
  {
   "cell_type": "code",
   "execution_count": 23,
   "metadata": {},
   "outputs": [
    {
     "name": "stdout",
     "output_type": "stream",
     "text": [
      "The global rainfall rate is 0.2201407030569687\n",
      "The rainfall rate if it rains today is 0.4600459002712289\n",
      "The rainfall rate if it does not rain today is 0.15260483965699517\n"
     ]
    }
   ],
   "source": [
    "full_train_df = split_data(df)[-1]\n",
    "\n",
    "full_train = full_train_df.copy()\n",
    "full_train['raintomorrow'] = (full_train['raintomorrow'] == 'yes').astype('int')\n",
    "\n",
    "global_rate = full_train['raintomorrow'].mean()\n",
    "\n",
    "rain_today_rate = full_train[full_train.raintoday == 'yes']['raintomorrow'].mean()\n",
    "norain_today_rate = full_train[full_train.raintoday == 'no']['raintomorrow'].mean()\n",
    "\n",
    "print(f'The global rainfall rate is {global_rate}')\n",
    "print(f'The rainfall rate if it rains today is {rain_today_rate}')\n",
    "print(f'The rainfall rate if it does not rain today is {norain_today_rate}')"
   ]
  },
  {
   "cell_type": "code",
   "execution_count": 24,
   "metadata": {},
   "outputs": [
    {
     "data": {
      "text/plain": [
       "raintoday      0.042166\n",
       "location       0.012949\n",
       "winddir9am     0.006459\n",
       "windgustdir    0.005565\n",
       "winddir3pm     0.004345\n",
       "dtype: float64"
      ]
     },
     "execution_count": 24,
     "metadata": {},
     "output_type": "execute_result"
    }
   ],
   "source": [
    "#Function for mutual information between features and target\n",
    "\n",
    "num_col = full_train.dtypes[full_train.dtypes == 'float64'].index.tolist()\n",
    "cat_col = full_train.dtypes[full_train.dtypes == 'object'].index.tolist()\n",
    "\n",
    "def mutual_info(series):\n",
    "    return mutual_info_score(series, full_train['raintomorrow'])\n",
    "\n",
    "mi = full_train[cat_col].apply(mutual_info)\n",
    "mi.sort_values(ascending = False)"
   ]
  },
  {
   "cell_type": "code",
   "execution_count": 25,
   "metadata": {},
   "outputs": [],
   "source": [
    "# plt.figure(figsize= (16,10))\n",
    "# row = int(len(cat_col)/4) +1\n",
    "\n",
    "# for i,col in enumerate(cat_col):\n",
    "#     plt.subplot(row,4, i+1)\n",
    "#     sns.countplot(x = col, data = train_data, order = train_data[col].value_counts().sort_values(ascending = False).head(10).index)\n",
    "#     plt.ylabel(col)\n",
    "#     plt.xticks(rotation = 45) "
   ]
  },
  {
   "cell_type": "code",
   "execution_count": 26,
   "metadata": {},
   "outputs": [],
   "source": [
    "# data = train_data.groupby(['raintoday'])['raintomorrow'].mean().sort_values(ascending = False).head(10)\n",
    "# sns.barplot(x = data.index, y = data.values)\n",
    "# #plt.ylabel(col)\n",
    "# plt.xticks(rotation = 45) "
   ]
  },
  {
   "cell_type": "code",
   "execution_count": 27,
   "metadata": {},
   "outputs": [],
   "source": [
    "# d = train_data.groupby(['month'])['raintomorrow'].mean()\n",
    "# sns.barplot(x = d.index, y = d.values)"
   ]
  },
  {
   "cell_type": "code",
   "execution_count": 28,
   "metadata": {},
   "outputs": [],
   "source": [
    "#train_data[num_col].corrwith(train_data['raintomorrow']).sort_values(ascending = False)"
   ]
  },
  {
   "cell_type": "code",
   "execution_count": 29,
   "metadata": {},
   "outputs": [],
   "source": [
    "# plt.figure(figsize=(25,20))\n",
    "# row = int(len(num_col)/4) + 1\n",
    "# num_col.remove('date')\n",
    "\n",
    "# for i,col in enumerate(num_col):\n",
    "#     plt.subplot(row,4, i+1)\n",
    "#     #data = train_data.groupby(['location'])[col].mean().sort_values(ascending = False).head(10)\n",
    "#     sns.boxplot(x = 'raintomorrow', y = col, data = train_data)\n",
    "#     plt.ylabel(col)\n",
    "#     plt.xticks(rotation = 45)"
   ]
  },
  {
   "cell_type": "code",
   "execution_count": 30,
   "metadata": {},
   "outputs": [],
   "source": [
    "# plt.figure(figsize=(25,15))\n",
    "# row = int(len(num_col)/4) + 1\n",
    "\n",
    "# for i,col in enumerate(cat_col):\n",
    "#     plt.subplot(row,4, i+1)\n",
    "#     data = train_data.groupby([col])['raintomorrow'].mean().sort_values(ascending = False).head(10)\n",
    "#     sns.barplot(x = data.index, y = data.values)\n",
    "#     plt.ylabel(col)\n",
    "#     plt.xticks(rotation = 45)"
   ]
  },
  {
   "cell_type": "code",
   "execution_count": 31,
   "metadata": {},
   "outputs": [],
   "source": [
    "# plt.figure(figsize =  (16,10))\n",
    "# sns.heatmap(train_data.corr(), cmap=\"YlGnBu\", annot=True)"
   ]
  },
  {
   "cell_type": "code",
   "execution_count": 32,
   "metadata": {},
   "outputs": [],
   "source": [
    "def encoding(train_data, test_data, val_data):\n",
    "    cat_col = train_data.dtypes[train_data.dtypes == 'object'].index.tolist()\n",
    "    num_col = train_data.dtypes[train_data.dtypes == 'float64'].index.tolist()\n",
    "\n",
    "    dv = DictVectorizer(sparse = False)\n",
    "    dv.fit(train_data[cat_col + num_col].to_dict(orient = 'records'))\n",
    "    feature_names = dv.get_feature_names()\n",
    "\n",
    "    X_train = dv.transform(train_data[cat_col + num_col].to_dict(orient = 'records'))\n",
    "    X_test = dv.transform(test_data[cat_col + num_col].to_dict(orient = 'records'))\n",
    "    X_val = dv.transform(val_data[cat_col + num_col].to_dict(orient = 'records'))\n",
    "\n",
    "    return X_train,X_test, X_val"
   ]
  },
  {
   "cell_type": "code",
   "execution_count": 33,
   "metadata": {},
   "outputs": [],
   "source": [
    "def xg_boost(x_train,y_train,x_val,y_val):\n",
    "\n",
    "    dtrain = xgb.DMatrix(x_train, label = y_train)\n",
    "    dval = xgb.DMatrix(x_val, label = y_val)\n",
    "\n",
    "    x_params = {\n",
    "    'eta': 0.3,\n",
    "    'max_depth':6,\n",
    "    'min_child_weight':1,\n",
    "\n",
    "    'objective':'binary:logistic',\n",
    "    'n_threads':5,\n",
    "\n",
    "    'seed':1,\n",
    "    'verbosity':0\n",
    "    }\n",
    "\n",
    "    model = xgb.train(x_params, dtrain = dtrain,num_boost_round = 10)\n",
    "\n",
    "    pred = model.predict(dval)\n",
    "    auc = roc_auc_score(y_val,pred)\n",
    "\n",
    "    out = (pred >= 0.5).astype('int')\n",
    "    acc =  accuracy_score(y_val, out)\n",
    "    precision = precision_score(y_val,out)\n",
    "    recall = recall_score(y_val, out)\n",
    "    f1 = f1_score(y_val, out)\n",
    "\n",
    "    return ['xgb', acc, auc, precision,recall,f1]"
   ]
  },
  {
   "cell_type": "code",
   "execution_count": 34,
   "metadata": {},
   "outputs": [],
   "source": [
    "def base_training(x_train, y_train,x_val, y_val):\n",
    "    \n",
    "    models = [LogisticRegression(), \n",
    "                DecisionTreeClassifier(max_depth = 7, min_samples_leaf = 5),\n",
    "                RandomForestClassifier(n_estimators = 10, max_depth = 10, min_samples_split = 7, min_samples_leaf = 5)]\n",
    "\n",
    "    scores = []\n",
    "    names = ['LogisticRegression', 'DecisionTree', 'RandomForest']\n",
    "    for i,model in enumerate(models):\n",
    "        model.fit(x_train, y_train)\n",
    "        prediction = model.predict(x_val)\n",
    "        acc = accuracy_score(y_val, prediction)\n",
    "        auc = roc_auc_score(y_val, prediction)\n",
    "        precision = precision_score(y_val, prediction)\n",
    "        recall = recall_score(y_val, prediction)\n",
    "        f1 = f1_score(y_val, prediction)\n",
    "\n",
    "        \n",
    "        scores.append([names[i], acc,auc, precision, recall, f1])\n",
    "     \n",
    "    scores.append(xg_boost(X_train, y_train, X_val,y_val))\n",
    "    output = pd.DataFrame(scores, columns = ['model','accuracy_score', 'auc_score','precision_score', 'recall_score', 'f1_score'])\n",
    "    return output"
   ]
  },
  {
   "cell_type": "code",
   "execution_count": 35,
   "metadata": {},
   "outputs": [],
   "source": [
    "train_data, val_data,test_data, y_train, y_val, y_test = split_data(df)[0:6]\n",
    "X_train,X_test, X_val = encoding(train_data, test_data, val_data)\n",
    "#base_training(X_train, y_train, X_val, y_val)"
   ]
  },
  {
   "cell_type": "code",
   "execution_count": 36,
   "metadata": {},
   "outputs": [],
   "source": [
    "#feature engineering\n",
    "df['year'] = pd.DatetimeIndex(df['date']).year\n",
    "df['month'] = pd.DatetimeIndex(df['date']).month\n",
    "df['day'] = pd.DatetimeIndex(df['date']).day\n",
    "df['monthly_bins'] = pd.cut(x = df['month'], bins = [0, 3, 6, 9, 12], labels = ['0 - 3', '3 - 6', '6 - 9', '9 - 12'])\n",
    "df['temp_diff'] = df['maxtemp'] - df['mintemp']\n",
    "\n",
    "train_data, val_data,test_data, y_train, y_val, y_test = split_data(df)[0:6]\n",
    "X_train,X_test, X_val = encoding(train_data, test_data, val_data)\n",
    "#base_training(X_train, y_train, X_val, y_val)"
   ]
  },
  {
   "cell_type": "code",
   "execution_count": 37,
   "metadata": {},
   "outputs": [],
   "source": [
    "# plt.figure(figsize =  (16,10))\n",
    "# sns.heatmap(train_data.corr(), cmap=\"YlGnBu\", annot=True)"
   ]
  },
  {
   "cell_type": "code",
   "execution_count": 38,
   "metadata": {},
   "outputs": [],
   "source": [
    "df.drop(['mintemp', 'date', 'temp3pm','temp_diff', 'maxtemp', 'day'], axis = 1, inplace = True)\n",
    "train_data, val_data,test_data, y_train, y_val, y_test = split_data(df)[0:6]\n",
    "X_train,X_test, X_val = encoding(train_data, test_data, val_data)\n",
    "#base_training(X_train, y_train, X_val, y_val)"
   ]
  },
  {
   "cell_type": "code",
   "execution_count": 39,
   "metadata": {},
   "outputs": [],
   "source": [
    "train_data, val_data,test_data, y_train, y_val, y_test = split_data(df)[0:6]\n",
    "cat_col = train_data.dtypes[train_data.dtypes == 'object'].index.tolist()\n",
    "num_col = train_data.dtypes[train_data.dtypes == 'float64'].index.tolist()\n",
    " \n",
    "\n",
    "scaler = StandardScaler()\n",
    "train_dat = scaler.fit_transform(train_data[num_col])\n",
    "val_dat = scaler.transform(val_data[num_col])\n",
    "test_dat = scaler.transform(test_data[num_col])\n",
    "\n",
    "#base_training(train_dat, y_train, val_dat, y_val)"
   ]
  },
  {
   "cell_type": "code",
   "execution_count": 40,
   "metadata": {},
   "outputs": [],
   "source": [
    "# plt.figure(figsize =  (16,10))\n",
    "# sns.heatmap(train_df.corr(), cmap=\"YlGnBu\", annot=True)"
   ]
  },
  {
   "cell_type": "code",
   "execution_count": 41,
   "metadata": {},
   "outputs": [
    {
     "data": {
      "text/html": [
       "<div>\n",
       "<style scoped>\n",
       "    .dataframe tbody tr th:only-of-type {\n",
       "        vertical-align: middle;\n",
       "    }\n",
       "\n",
       "    .dataframe tbody tr th {\n",
       "        vertical-align: top;\n",
       "    }\n",
       "\n",
       "    .dataframe thead th {\n",
       "        text-align: right;\n",
       "    }\n",
       "</style>\n",
       "<table border=\"1\" class=\"dataframe\">\n",
       "  <thead>\n",
       "    <tr style=\"text-align: right;\">\n",
       "      <th></th>\n",
       "      <th>model</th>\n",
       "      <th>accuracy_score</th>\n",
       "      <th>auc_score</th>\n",
       "      <th>precision_score</th>\n",
       "      <th>recall_score</th>\n",
       "      <th>f1_score</th>\n",
       "    </tr>\n",
       "  </thead>\n",
       "  <tbody>\n",
       "    <tr>\n",
       "      <th>0</th>\n",
       "      <td>LogisticRegression</td>\n",
       "      <td>0.848240</td>\n",
       "      <td>0.720073</td>\n",
       "      <td>0.724306</td>\n",
       "      <td>0.492523</td>\n",
       "      <td>0.586339</td>\n",
       "    </tr>\n",
       "    <tr>\n",
       "      <th>1</th>\n",
       "      <td>DecisionTree</td>\n",
       "      <td>0.841056</td>\n",
       "      <td>0.690807</td>\n",
       "      <td>0.736267</td>\n",
       "      <td>0.424052</td>\n",
       "      <td>0.538154</td>\n",
       "    </tr>\n",
       "    <tr>\n",
       "      <th>2</th>\n",
       "      <td>RandomForest</td>\n",
       "      <td>0.834834</td>\n",
       "      <td>0.660625</td>\n",
       "      <td>0.765432</td>\n",
       "      <td>0.351330</td>\n",
       "      <td>0.481605</td>\n",
       "    </tr>\n",
       "    <tr>\n",
       "      <th>3</th>\n",
       "      <td>xgb</td>\n",
       "      <td>0.848584</td>\n",
       "      <td>0.864443</td>\n",
       "      <td>0.736523</td>\n",
       "      <td>0.477412</td>\n",
       "      <td>0.579314</td>\n",
       "    </tr>\n",
       "  </tbody>\n",
       "</table>\n",
       "</div>"
      ],
      "text/plain": [
       "                model  accuracy_score  auc_score  precision_score  \\\n",
       "0  LogisticRegression        0.848240   0.720073         0.724306   \n",
       "1        DecisionTree        0.841056   0.690807         0.736267   \n",
       "2        RandomForest        0.834834   0.660625         0.765432   \n",
       "3                 xgb        0.848584   0.864443         0.736523   \n",
       "\n",
       "   recall_score  f1_score  \n",
       "0      0.492523  0.586339  \n",
       "1      0.424052  0.538154  \n",
       "2      0.351330  0.481605  \n",
       "3      0.477412  0.579314  "
      ]
     },
     "execution_count": 41,
     "metadata": {},
     "output_type": "execute_result"
    }
   ],
   "source": [
    "train_df = pd.DataFrame(train_dat, columns = num_col)\n",
    "val_df = pd.DataFrame(val_dat, columns = num_col)\n",
    "test_df = pd.DataFrame(test_dat, columns = num_col)\n",
    "\n",
    "train_df = pd.concat([train_df, train_data[cat_col]], axis = 1)\n",
    "val_df = pd.concat([val_df, val_data[cat_col]], axis = 1)\n",
    "test_df = pd.concat([test_df, test_data[cat_col]], axis = 1)\n",
    "\n",
    "train_df.drop(['pressure9am'], axis = 1, inplace = True)\n",
    "val_df.drop(['pressure9am'], axis = 1, inplace = True)\n",
    "test_df.drop(['pressure9am'], axis = 1, inplace = True)\n",
    "\n",
    "X_train,X_test, X_val = encoding(train_df, test_df, val_df)\n",
    "base_training(X_train, y_train, X_val, y_val)"
   ]
  },
  {
   "cell_type": "code",
   "execution_count": 42,
   "metadata": {},
   "outputs": [
    {
     "data": {
      "text/html": [
       "<div>\n",
       "<style scoped>\n",
       "    .dataframe tbody tr th:only-of-type {\n",
       "        vertical-align: middle;\n",
       "    }\n",
       "\n",
       "    .dataframe tbody tr th {\n",
       "        vertical-align: top;\n",
       "    }\n",
       "\n",
       "    .dataframe thead th {\n",
       "        text-align: right;\n",
       "    }\n",
       "</style>\n",
       "<table border=\"1\" class=\"dataframe\">\n",
       "  <thead>\n",
       "    <tr style=\"text-align: right;\">\n",
       "      <th></th>\n",
       "      <th>model</th>\n",
       "      <th>accuracy_score</th>\n",
       "      <th>auc_score</th>\n",
       "      <th>precision_score</th>\n",
       "      <th>recall_score</th>\n",
       "      <th>f1_score</th>\n",
       "    </tr>\n",
       "  </thead>\n",
       "  <tbody>\n",
       "    <tr>\n",
       "      <th>0</th>\n",
       "      <td>LogisticRegression</td>\n",
       "      <td>0.847931</td>\n",
       "      <td>0.724186</td>\n",
       "      <td>0.715242</td>\n",
       "      <td>0.504486</td>\n",
       "      <td>0.591656</td>\n",
       "    </tr>\n",
       "    <tr>\n",
       "      <th>1</th>\n",
       "      <td>DecisionTree</td>\n",
       "      <td>0.840025</td>\n",
       "      <td>0.708409</td>\n",
       "      <td>0.696054</td>\n",
       "      <td>0.474736</td>\n",
       "      <td>0.564477</td>\n",
       "    </tr>\n",
       "    <tr>\n",
       "      <th>2</th>\n",
       "      <td>RandomForest</td>\n",
       "      <td>0.839131</td>\n",
       "      <td>0.672334</td>\n",
       "      <td>0.769231</td>\n",
       "      <td>0.376200</td>\n",
       "      <td>0.505285</td>\n",
       "    </tr>\n",
       "    <tr>\n",
       "      <th>3</th>\n",
       "      <td>xgb</td>\n",
       "      <td>0.848859</td>\n",
       "      <td>0.865095</td>\n",
       "      <td>0.730660</td>\n",
       "      <td>0.487644</td>\n",
       "      <td>0.584915</td>\n",
       "    </tr>\n",
       "  </tbody>\n",
       "</table>\n",
       "</div>"
      ],
      "text/plain": [
       "                model  accuracy_score  auc_score  precision_score  \\\n",
       "0  LogisticRegression        0.847931   0.724186         0.715242   \n",
       "1        DecisionTree        0.840025   0.708409         0.696054   \n",
       "2        RandomForest        0.839131   0.672334         0.769231   \n",
       "3                 xgb        0.848859   0.865095         0.730660   \n",
       "\n",
       "   recall_score  f1_score  \n",
       "0      0.504486  0.591656  \n",
       "1      0.474736  0.564477  \n",
       "2      0.376200  0.505285  \n",
       "3      0.487644  0.584915  "
      ]
     },
     "execution_count": 42,
     "metadata": {},
     "output_type": "execute_result"
    }
   ],
   "source": [
    "undersample = RandomUnderSampler(sampling_strategy=0.3)\n",
    "\n",
    "y = y_train.copy()\n",
    "X_train, y = undersample.fit_resample(X_train, y)\n",
    "\n",
    "base_training(X_train, y, X_val, y_val)"
   ]
  },
  {
   "cell_type": "code",
   "execution_count": 43,
   "metadata": {},
   "outputs": [
    {
     "data": {
      "text/html": [
       "<div>\n",
       "<style scoped>\n",
       "    .dataframe tbody tr th:only-of-type {\n",
       "        vertical-align: middle;\n",
       "    }\n",
       "\n",
       "    .dataframe tbody tr th {\n",
       "        vertical-align: top;\n",
       "    }\n",
       "\n",
       "    .dataframe thead th {\n",
       "        text-align: right;\n",
       "    }\n",
       "</style>\n",
       "<table border=\"1\" class=\"dataframe\">\n",
       "  <thead>\n",
       "    <tr style=\"text-align: right;\">\n",
       "      <th></th>\n",
       "      <th>model</th>\n",
       "      <th>accuracy_score</th>\n",
       "      <th>auc_score</th>\n",
       "      <th>precision_score</th>\n",
       "      <th>recall_score</th>\n",
       "      <th>f1_score</th>\n",
       "    </tr>\n",
       "  </thead>\n",
       "  <tbody>\n",
       "    <tr>\n",
       "      <th>0</th>\n",
       "      <td>LogisticRegression</td>\n",
       "      <td>0.788980</td>\n",
       "      <td>0.779827</td>\n",
       "      <td>0.511277</td>\n",
       "      <td>0.763576</td>\n",
       "      <td>0.612461</td>\n",
       "    </tr>\n",
       "    <tr>\n",
       "      <th>1</th>\n",
       "      <td>DecisionTree</td>\n",
       "      <td>0.784855</td>\n",
       "      <td>0.750135</td>\n",
       "      <td>0.505431</td>\n",
       "      <td>0.688494</td>\n",
       "      <td>0.582928</td>\n",
       "    </tr>\n",
       "    <tr>\n",
       "      <th>2</th>\n",
       "      <td>RandomForest</td>\n",
       "      <td>0.786574</td>\n",
       "      <td>0.754071</td>\n",
       "      <td>0.508272</td>\n",
       "      <td>0.696364</td>\n",
       "      <td>0.587634</td>\n",
       "    </tr>\n",
       "    <tr>\n",
       "      <th>3</th>\n",
       "      <td>xgb</td>\n",
       "      <td>0.809810</td>\n",
       "      <td>0.855099</td>\n",
       "      <td>0.552044</td>\n",
       "      <td>0.684558</td>\n",
       "      <td>0.611201</td>\n",
       "    </tr>\n",
       "  </tbody>\n",
       "</table>\n",
       "</div>"
      ],
      "text/plain": [
       "                model  accuracy_score  auc_score  precision_score  \\\n",
       "0  LogisticRegression        0.788980   0.779827         0.511277   \n",
       "1        DecisionTree        0.784855   0.750135         0.505431   \n",
       "2        RandomForest        0.786574   0.754071         0.508272   \n",
       "3                 xgb        0.809810   0.855099         0.552044   \n",
       "\n",
       "   recall_score  f1_score  \n",
       "0      0.763576  0.612461  \n",
       "1      0.688494  0.582928  \n",
       "2      0.696364  0.587634  \n",
       "3      0.684558  0.611201  "
      ]
     },
     "execution_count": 43,
     "metadata": {},
     "output_type": "execute_result"
    }
   ],
   "source": [
    "oversample = SMOTE()\n",
    "X_train,X_test, X_val = encoding(train_df, test_df, val_df)\n",
    "y = y_train.copy()\n",
    "X_train, y = oversample.fit_resample(X_train, y)\n",
    "\n",
    "base_training(X_train, y, X_val, y_val)"
   ]
  },
  {
   "cell_type": "code",
   "execution_count": 44,
   "metadata": {},
   "outputs": [],
   "source": [
    "dtrain = xgb.DMatrix(X_train, label = y)\n",
    "dval = xgb.DMatrix(X_val, label = y_val)\n",
    "\n",
    "\n",
    "scores = []\n",
    "eta = [0.1,0.3,0.5,0.7,0.9]\n",
    "for i in eta:\n",
    "    x_params = {\n",
    "    'eta': i,\n",
    "    'max_depth':6,\n",
    "    'min_child_weight':1,\n",
    "\n",
    "    'objective':'binary:logistic',\n",
    "    'n_threads':5,\n",
    "\n",
    "    'seed':1,\n",
    "    'verbosity':0\n",
    "    }\n",
    "\n",
    "    model = xgb.train(x_params, dtrain = dtrain,num_boost_round = 10)\n",
    "\n",
    "    pred = model.predict(dval)\n",
    "    #auc = roc_auc_score(y_val,pred)\n",
    "\n",
    "    out = (pred >= 0.5).astype('int')\n",
    "    #acc =  accuracy_score(y_val, out)\n",
    "    precision = precision_score(y_val,out)\n",
    "    recall = recall_score(y_val, out)\n",
    "    f1 = f1_score(y_val, out)\n",
    "    scores.append([i, precision,recall,f1])\n",
    "\n",
    "out = pd.DataFrame(scores, columns = ['eta','precision_score', 'recall_score', 'f1_score'])"
   ]
  },
  {
   "cell_type": "code",
   "execution_count": 45,
   "metadata": {},
   "outputs": [
    {
     "data": {
      "text/plain": [
       "<matplotlib.legend.Legend at 0x7fec42c97310>"
      ]
     },
     "execution_count": 45,
     "metadata": {},
     "output_type": "execute_result"
    },
    {
     "data": {
      "image/png": "[encoded data removed]",
      "text/plain": [
       "<Figure size 640x480 with 1 Axes>"
      ]
     },
     "metadata": {},
     "output_type": "display_data"
    }
   ],
   "source": [
    "plt.plot(out['eta'], out['precision_score'], label = 'Precison')\n",
    "plt.plot(out['eta'], out['recall_score'], label = 'recall')\n",
    "plt.plot(out['eta'], out['f1_score'], label = 'f1')\n",
    "\n",
    "plt.legend()"
   ]
  },
  {
   "cell_type": "code",
   "execution_count": 46,
   "metadata": {},
   "outputs": [],
   "source": [
    "scores = []\n",
    "round = np.arange(10, 200, 10)\n",
    "\n",
    "for i in round:\n",
    "    x_params = {\n",
    "    'eta': 0.3,\n",
    "    'max_depth':6,\n",
    "    'min_child_weight':1,\n",
    "\n",
    "    'objective':'binary:logistic',\n",
    "    'n_threads':5,\n",
    "\n",
    "    'seed':1,\n",
    "    'verbosity':0\n",
    "    }\n",
    "\n",
    "    model = xgb.train(x_params, dtrain = dtrain,num_boost_round = i)\n",
    "\n",
    "    pred = model.predict(dval)\n",
    "    #auc = roc_auc_score(y_val,pred)\n",
    "\n",
    "    out = (pred >= 0.5).astype('int')\n",
    "    #acc =  accuracy_score(y_val, out)\n",
    "    precision = precision_score(y_val,out)\n",
    "    recall = recall_score(y_val, out)\n",
    "    f1 = f1_score(y_val, out)\n",
    "    scores.append([i, precision,recall,f1])\n",
    "\n",
    "out = pd.DataFrame(scores, columns = ['boost_round','precision_score', 'recall_score', 'f1_score'])"
   ]
  },
  {
   "cell_type": "code",
   "execution_count": 47,
   "metadata": {},
   "outputs": [
    {
     "data": {
      "text/plain": [
       "<matplotlib.legend.Legend at 0x7fec5d9b8ca0>"
      ]
     },
     "execution_count": 47,
     "metadata": {},
     "output_type": "execute_result"
    },
    {
     "data": {
      "image/png": "[encoded data removed]",
      "text/plain": [
       "<Figure size 640x480 with 1 Axes>"
      ]
     },
     "metadata": {},
     "output_type": "display_data"
    }
   ],
   "source": [
    "plt.plot(out['boost_round'], out['precision_score'], label = 'Precison')\n",
    "plt.plot(out['boost_round'], out['recall_score'], label = 'recall')\n",
    "plt.plot(out['boost_round'], out['f1_score'], label = 'f1')\n",
    "\n",
    "plt.legend()"
   ]
  },
  {
   "cell_type": "code",
   "execution_count": 48,
   "metadata": {},
   "outputs": [],
   "source": [
    "%%capture table\n",
    "watchlist = [(dtrain,'train'), (dval, 'validation')]\n",
    "\n",
    "x_params = {\n",
    "    'eta': 0.3,\n",
    "    'max_depth':6,\n",
    "    'min_child_weight':1,\n",
    "\n",
    "    'objective':'binary:logistic',\n",
    "    'eval_metric' : 'aucpr',\n",
    "    \n",
    "    'n_threads':8,\n",
    "    'seed':1,\n",
    "    'verbosity':0\n",
    "}\n",
    "\n",
    "model = xgb.train(x_params, dtrain = dtrain,evals = watchlist, verbose_eval = 5,num_boost_round = 200)"
   ]
  },
  {
   "cell_type": "code",
   "execution_count": 49,
   "metadata": {},
   "outputs": [
    {
     "data": {
      "text/plain": [
       "[<matplotlib.lines.Line2D at 0x7fec46be28e0>]"
      ]
     },
     "execution_count": 49,
     "metadata": {},
     "output_type": "execute_result"
    },
    {
     "data": {
      "image/png": "[encoded data removed]",
      "text/plain": [
       "<Figure size 640x480 with 1 Axes>"
      ]
     },
     "metadata": {},
     "output_type": "display_data"
    }
   ],
   "source": [
    "def parse_xgb_output():\n",
    "\n",
    "    no_itrs = []\n",
    "    train_score = []\n",
    "    val_score = []\n",
    "\n",
    "    for i in table.stdout.strip().split('\\n'):\n",
    "\n",
    "        no_itr, train_auc, val_auc = i.split('\\t')\n",
    "\n",
    "        no_itr = int(no_itr.strip('[]'))\n",
    "        train_auc = float(train_auc.split(':')[1])\n",
    "        val_auc = float(val_auc.split(':')[1])\n",
    "\n",
    "        no_itrs.append(no_itr)\n",
    "        train_score.append(train_auc)\n",
    "        val_score.append(val_auc)\n",
    "\n",
    "    dicts = {'iter':no_itrs, 'train_score':train_score, 'val_score':val_score}\n",
    "    output = pd.DataFrame(dicts)\n",
    "    return output\n",
    "\n",
    "output = parse_xgb_output()\n",
    "    \n",
    "plt.plot(output.iter, output.val_score)"
   ]
  },
  {
   "cell_type": "code",
   "execution_count": 50,
   "metadata": {},
   "outputs": [
    {
     "data": {
      "text/plain": [
       "<matplotlib.legend.Legend at 0x7fec3d23a610>"
      ]
     },
     "execution_count": 50,
     "metadata": {},
     "output_type": "execute_result"
    },
    {
     "data": {
      "image/png": "[encoded data removed]",
      "text/plain": [
       "<Figure size 640x480 with 1 Axes>"
      ]
     },
     "metadata": {},
     "output_type": "display_data"
    }
   ],
   "source": [
    "plt.plot(output.iter, output.val_score, label = 'val')\n",
    "plt.plot(output.iter, output.train_score, label = 'train')\n",
    "\n",
    "plt.legend()"
   ]
  },
  {
   "cell_type": "code",
   "execution_count": 51,
   "metadata": {},
   "outputs": [],
   "source": [
    "%%capture table\n",
    "watchlist = [(dtrain,'train'), (dval, 'validation')]\n",
    "\n",
    "x_params = {\n",
    "    'eta': 0.3,\n",
    "    'max_depth':6,\n",
    "    'min_child_weight':1,\n",
    "\n",
    "    'objective':'binary:logistic',\n",
    "    'eval_metric' : 'map',\n",
    "    \n",
    "    'n_threads':8,\n",
    "    'seed':1,\n",
    "    'verbosity':0\n",
    "}\n",
    "\n",
    "model = xgb.train(x_params, dtrain = dtrain,evals = watchlist, verbose_eval = 5,num_boost_round = 200)"
   ]
  },
  {
   "cell_type": "code",
   "execution_count": 52,
   "metadata": {},
   "outputs": [
    {
     "data": {
      "text/plain": [
       "[<matplotlib.lines.Line2D at 0x7fec3419f4c0>]"
      ]
     },
     "execution_count": 52,
     "metadata": {},
     "output_type": "execute_result"
    },
    {
     "data": {
      "image/png": "[encoded data removed]",
      "text/plain": [
       "<Figure size 640x480 with 1 Axes>"
      ]
     },
     "metadata": {},
     "output_type": "display_data"
    }
   ],
   "source": [
    "def parse_xgb_output():\n",
    "\n",
    "    no_itrs = []\n",
    "    train_score = []\n",
    "    val_score = []\n",
    "\n",
    "    for i in table.stdout.strip().split('\\n'):\n",
    "\n",
    "        no_itr, train_auc, val_auc = i.split('\\t')\n",
    "\n",
    "        no_itr = int(no_itr.strip('[]'))\n",
    "        train_auc = float(train_auc.split(':')[1])\n",
    "        val_auc = float(val_auc.split(':')[1])\n",
    "\n",
    "        no_itrs.append(no_itr)\n",
    "        train_score.append(train_auc)\n",
    "        val_score.append(val_auc)\n",
    "\n",
    "    dicts = {'iter':no_itrs, 'train_score':train_score, 'val_score':val_score}\n",
    "    output = pd.DataFrame(dicts)\n",
    "    return output\n",
    "\n",
    "output = parse_xgb_output()\n",
    "    \n",
    "plt.plot(output.iter, output.val_score)"
   ]
  },
  {
   "cell_type": "code",
   "execution_count": 53,
   "metadata": {},
   "outputs": [
    {
     "data": {
      "text/plain": [
       "<matplotlib.legend.Legend at 0x7fec6d7fbb20>"
      ]
     },
     "execution_count": 53,
     "metadata": {},
     "output_type": "execute_result"
    },
    {
     "data": {
      "image/png": "[encoded data removed]",
      "text/plain": [
       "<Figure size 640x480 with 1 Axes>"
      ]
     },
     "metadata": {},
     "output_type": "display_data"
    }
   ],
   "source": [
    "plt.plot(output.iter, output.val_score, label = 'val')\n",
    "plt.plot(output.iter, output.train_score, label = 'train')\n",
    "\n",
    "plt.legend()"
   ]
  },
  {
   "cell_type": "code",
   "execution_count": 54,
   "metadata": {},
   "outputs": [],
   "source": [
    "x_params = {\n",
    "    'eta': 0.3,\n",
    "    'max_depth':6,\n",
    "    'min_child_weight':1,\n",
    "\n",
    "    'objective':'binary:logistic',\n",
    "    'eval_metric' : 'map',\n",
    "    \n",
    "    'n_threads':8,\n",
    "    'seed':1,\n",
    "    'verbosity':0\n",
    "}\n",
    "\n",
    "model = xgb.train(x_params, dtrain = dtrain,num_boost_round = 25)"
   ]
  },
  {
   "cell_type": "code",
   "execution_count": 55,
   "metadata": {},
   "outputs": [
    {
     "name": "stdout",
     "output_type": "stream",
     "text": [
      "0.6182182490752158 0.6313552652290256 0.6247177011136205\n"
     ]
    }
   ],
   "source": [
    "pred = model.predict(dval)\n",
    "out = (pred >= 0.5).astype('int')\n",
    "#acc =  accuracy_score(y_val, out)\n",
    "precision = precision_score(y_val,out)\n",
    "recall = recall_score(y_val, out)\n",
    "f1 = f1_score(y_val, out)\n",
    "\n",
    "print(precision, recall, f1)"
   ]
  },
  {
   "cell_type": "code",
   "execution_count": 56,
   "metadata": {},
   "outputs": [],
   "source": [
    "def encoding(train_data, test_data):\n",
    "    cat_col = train_data.dtypes[train_data.dtypes == 'object'].index.tolist()\n",
    "    num_col = train_data.dtypes[train_data.dtypes == 'float64'].index.tolist()\n",
    "\n",
    "    dv = DictVectorizer(sparse = False)\n",
    "    dv.fit(train_data[cat_col + num_col].to_dict(orient = 'records'))\n",
    "    feature_names = dv.get_feature_names()\n",
    "\n",
    "    X_train = dv.transform(train_data[cat_col + num_col].to_dict(orient = 'records'))\n",
    "    X_test = dv.transform(test_data[cat_col + num_col].to_dict(orient = 'records'))\n",
    "\n",
    "    return X_train,X_test, dv"
   ]
  },
  {
   "cell_type": "code",
   "execution_count": 57,
   "metadata": {},
   "outputs": [],
   "source": [
    "train_data, val_data,test_data, y_train, y_val, y_test = split_data(df)[0:6]\n",
    "cat_col = train_data.dtypes[train_data.dtypes == 'object'].index.tolist()\n",
    "num_col = train_data.dtypes[train_data.dtypes == 'float64'].index.tolist()\n",
    " \n",
    "\n",
    "scaler = StandardScaler()\n",
    "train_dat = scaler.fit_transform(train_data[num_col])\n",
    "test_dat = scaler.transform(test_data[num_col])\n",
    "val_dat = scaler.transform(val_data[num_col])"
   ]
  },
  {
   "cell_type": "code",
   "execution_count": 58,
   "metadata": {},
   "outputs": [],
   "source": [
    "train_df = pd.DataFrame(train_dat, columns = num_col)\n",
    "val_df = pd.DataFrame(val_dat, columns = num_col)\n",
    "test_df = pd.DataFrame(test_dat, columns = num_col)\n",
    "\n",
    "train_df = pd.concat([train_df, train_data[cat_col]], axis = 1)\n",
    "val_df = pd.concat([val_df, val_data[cat_col]], axis = 1)\n",
    "test_df = pd.concat([test_df, test_data[cat_col]], axis = 1)\n",
    "\n",
    "train_df.drop(['pressure9am'], axis = 1, inplace = True)\n",
    "val_df.drop(['pressure9am'], axis = 1, inplace = True)\n",
    "test_df.drop(['pressure9am'], axis = 1, inplace = True)\n",
    "\n",
    "full_train_data = pd.concat([train_df, val_df])\n",
    "full_y_train = pd.concat([y_train, y_val])"
   ]
  },
  {
   "cell_type": "code",
   "execution_count": 59,
   "metadata": {},
   "outputs": [],
   "source": [
    "oversample = SMOTE()\n",
    "X_train,X_test, dv = encoding(full_train_data, test_df)\n",
    "y = full_y_train.copy()\n",
    "X_train, y = oversample.fit_resample(X_train, y)"
   ]
  },
  {
   "cell_type": "code",
   "execution_count": 60,
   "metadata": {},
   "outputs": [],
   "source": [
    "dtrain = xgb.DMatrix(X_train, label = y)\n",
    "dtest = xgb.DMatrix(X_test)\n",
    "\n",
    "x_params = {\n",
    "    'eta': 0.3,\n",
    "    'max_depth':6,\n",
    "    'min_child_weight':1,\n",
    "\n",
    "    'objective':'binary:logistic',\n",
    "    'eval_metric' : 'map',\n",
    "    \n",
    "    'n_threads':8,\n",
    "    'seed':1,\n",
    "    'verbosity':0\n",
    "}\n",
    "\n",
    "model = xgb.train(x_params, dtrain = dtrain,num_boost_round = 25)"
   ]
  },
  {
   "cell_type": "code",
   "execution_count": 61,
   "metadata": {},
   "outputs": [
    {
     "name": "stdout",
     "output_type": "stream",
     "text": [
      "0.6045922170866259 0.6425289177626367 0.6229835612229221\n"
     ]
    }
   ],
   "source": [
    "pred = model.predict(dtest)\n",
    "out = (pred >= 0.5).astype('int')\n",
    "precision = precision_score(y_test,out)\n",
    "recall = recall_score(y_test, out)\n",
    "f1 = f1_score(y_test, out)\n",
    "\n",
    "print(precision, recall, f1)"
   ]
  },
  {
   "cell_type": "code",
   "execution_count": 62,
   "metadata": {},
   "outputs": [
    {
     "data": {
      "text/plain": [
       "Model(tag=\"rainfall_prediction:gultljthiwvzsaav\", path=\"/home/godwin/bentoml/models/rainfall_prediction/gultljthiwvzsaav/\")"
      ]
     },
     "execution_count": 62,
     "metadata": {},
     "output_type": "execute_result"
    }
   ],
   "source": [
    "import bentoml\n",
    "bentoml.xgboost.save_model('rainfall_prediction', model, \n",
    "                                custom_objects={'dictvectorizer':dv},\n",
    "                                signatures = {\n",
    "                                            \"predict\":{\n",
    "                                                \"batchable\": True,\n",
    "                                                \"batch_dim\": 0\n",
    "                                            }\n",
    "                                }\n",
    "                                )"
   ]
  }
 ],
 "metadata": {
  "kernelspec": {
   "display_name": "Python 3.9.13 ('base')",
   "language": "python",
   "name": "python3"
  },
  "language_info": {
   "codemirror_mode": {
    "name": "ipython",
    "version": 3
   },
   "file_extension": ".py",
   "mimetype": "text/x-python",
   "name": "python",
   "nbconvert_exporter": "python",
   "pygments_lexer": "ipython3",
   "version": "3.9.13"
  },
  "orig_nbformat": 4,
  "vscode": {
   "interpreter": {
    "hash": "a4ea388b8135a50e288c61b1de9789b1851672ad704036e9b2d3c631698e1ffe"
   }
  }
 },
 "nbformat": 4,
 "nbformat_minor": 2
}
